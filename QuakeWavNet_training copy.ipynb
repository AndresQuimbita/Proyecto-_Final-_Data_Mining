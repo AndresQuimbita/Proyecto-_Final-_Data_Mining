{
 "cells": [
  {
   "cell_type": "markdown",
   "metadata": {},
   "source": [
    "Import the necessary libraries"
   ]
  },
  {
   "cell_type": "code",
   "execution_count": 1,
   "metadata": {},
   "outputs": [
    {
     "name": "stdout",
     "output_type": "stream",
     "text": [
      "Requirement already satisfied: transformers in /home/cslab03/anaconda3/envs/coEnv/lib/python3.9/site-packages (4.17.0)\n",
      "Requirement already satisfied: filelock in /home/cslab03/anaconda3/envs/coEnv/lib/python3.9/site-packages (from transformers) (3.12.2)\n",
      "Requirement already satisfied: huggingface-hub<1.0,>=0.1.0 in /home/cslab03/anaconda3/envs/coEnv/lib/python3.9/site-packages (from transformers) (0.15.1)\n",
      "Requirement already satisfied: numpy>=1.17 in /home/cslab03/anaconda3/envs/coEnv/lib/python3.9/site-packages (from transformers) (1.22.4)\n",
      "Requirement already satisfied: packaging>=20.0 in /home/cslab03/anaconda3/envs/coEnv/lib/python3.9/site-packages (from transformers) (23.1)\n",
      "Requirement already satisfied: pyyaml>=5.1 in /home/cslab03/anaconda3/envs/coEnv/lib/python3.9/site-packages (from transformers) (6.0)\n",
      "Requirement already satisfied: regex!=2019.12.17 in /home/cslab03/anaconda3/envs/coEnv/lib/python3.9/site-packages (from transformers) (2023.6.3)\n",
      "Requirement already satisfied: requests in /home/cslab03/anaconda3/envs/coEnv/lib/python3.9/site-packages (from transformers) (2.31.0)\n",
      "Requirement already satisfied: sacremoses in /home/cslab03/anaconda3/envs/coEnv/lib/python3.9/site-packages (from transformers) (0.0.53)\n",
      "Requirement already satisfied: tokenizers!=0.11.3,>=0.11.1 in /home/cslab03/anaconda3/envs/coEnv/lib/python3.9/site-packages (from transformers) (0.13.3)\n",
      "Requirement already satisfied: tqdm>=4.27 in /home/cslab03/anaconda3/envs/coEnv/lib/python3.9/site-packages (from transformers) (4.65.0)\n",
      "Requirement already satisfied: fsspec in /home/cslab03/anaconda3/envs/coEnv/lib/python3.9/site-packages (from huggingface-hub<1.0,>=0.1.0->transformers) (2023.6.0)\n",
      "Requirement already satisfied: typing-extensions>=3.7.4.3 in /home/cslab03/anaconda3/envs/coEnv/lib/python3.9/site-packages (from huggingface-hub<1.0,>=0.1.0->transformers) (4.5.0)\n",
      "Requirement already satisfied: charset-normalizer<4,>=2 in /home/cslab03/anaconda3/envs/coEnv/lib/python3.9/site-packages (from requests->transformers) (3.1.0)\n",
      "Requirement already satisfied: idna<4,>=2.5 in /home/cslab03/anaconda3/envs/coEnv/lib/python3.9/site-packages (from requests->transformers) (3.4)\n",
      "Requirement already satisfied: urllib3<3,>=1.21.1 in /home/cslab03/anaconda3/envs/coEnv/lib/python3.9/site-packages (from requests->transformers) (1.26.16)\n",
      "Requirement already satisfied: certifi>=2017.4.17 in /home/cslab03/anaconda3/envs/coEnv/lib/python3.9/site-packages (from requests->transformers) (2023.5.7)\n",
      "Requirement already satisfied: six in /home/cslab03/anaconda3/envs/coEnv/lib/python3.9/site-packages (from sacremoses->transformers) (1.16.0)\n",
      "Requirement already satisfied: click in /home/cslab03/anaconda3/envs/coEnv/lib/python3.9/site-packages (from sacremoses->transformers) (8.1.3)\n",
      "Requirement already satisfied: joblib in /home/cslab03/anaconda3/envs/coEnv/lib/python3.9/site-packages (from sacremoses->transformers) (1.3.1)\n",
      "Requirement already satisfied: ipywidgets in /home/cslab03/anaconda3/envs/coEnv/lib/python3.9/site-packages (8.0.6)\n",
      "Requirement already satisfied: ipykernel>=4.5.1 in /home/cslab03/anaconda3/envs/coEnv/lib/python3.9/site-packages (from ipywidgets) (6.23.3)\n",
      "Requirement already satisfied: ipython>=6.1.0 in /home/cslab03/anaconda3/envs/coEnv/lib/python3.9/site-packages (from ipywidgets) (8.14.0)\n",
      "Requirement already satisfied: traitlets>=4.3.1 in /home/cslab03/anaconda3/envs/coEnv/lib/python3.9/site-packages (from ipywidgets) (5.9.0)\n",
      "Requirement already satisfied: widgetsnbextension~=4.0.7 in /home/cslab03/anaconda3/envs/coEnv/lib/python3.9/site-packages (from ipywidgets) (4.0.7)\n",
      "Requirement already satisfied: jupyterlab-widgets~=3.0.7 in /home/cslab03/anaconda3/envs/coEnv/lib/python3.9/site-packages (from ipywidgets) (3.0.7)\n",
      "Requirement already satisfied: comm>=0.1.1 in /home/cslab03/anaconda3/envs/coEnv/lib/python3.9/site-packages (from ipykernel>=4.5.1->ipywidgets) (0.1.3)\n",
      "Requirement already satisfied: debugpy>=1.6.5 in /home/cslab03/anaconda3/envs/coEnv/lib/python3.9/site-packages (from ipykernel>=4.5.1->ipywidgets) (1.6.7)\n",
      "Requirement already satisfied: jupyter-client>=6.1.12 in /home/cslab03/anaconda3/envs/coEnv/lib/python3.9/site-packages (from ipykernel>=4.5.1->ipywidgets) (8.3.0)\n",
      "Requirement already satisfied: jupyter-core!=5.0.*,>=4.12 in /home/cslab03/anaconda3/envs/coEnv/lib/python3.9/site-packages (from ipykernel>=4.5.1->ipywidgets) (5.3.1)\n",
      "Requirement already satisfied: matplotlib-inline>=0.1 in /home/cslab03/anaconda3/envs/coEnv/lib/python3.9/site-packages (from ipykernel>=4.5.1->ipywidgets) (0.1.6)\n",
      "Requirement already satisfied: nest-asyncio in /home/cslab03/anaconda3/envs/coEnv/lib/python3.9/site-packages (from ipykernel>=4.5.1->ipywidgets) (1.5.6)\n",
      "Requirement already satisfied: packaging in /home/cslab03/anaconda3/envs/coEnv/lib/python3.9/site-packages (from ipykernel>=4.5.1->ipywidgets) (23.1)\n",
      "Requirement already satisfied: psutil in /home/cslab03/anaconda3/envs/coEnv/lib/python3.9/site-packages (from ipykernel>=4.5.1->ipywidgets) (5.9.5)\n",
      "Requirement already satisfied: pyzmq>=20 in /home/cslab03/anaconda3/envs/coEnv/lib/python3.9/site-packages (from ipykernel>=4.5.1->ipywidgets) (25.1.0)\n",
      "Requirement already satisfied: tornado>=6.1 in /home/cslab03/anaconda3/envs/coEnv/lib/python3.9/site-packages (from ipykernel>=4.5.1->ipywidgets) (6.3.2)\n",
      "Requirement already satisfied: backcall in /home/cslab03/anaconda3/envs/coEnv/lib/python3.9/site-packages (from ipython>=6.1.0->ipywidgets) (0.2.0)\n",
      "Requirement already satisfied: decorator in /home/cslab03/anaconda3/envs/coEnv/lib/python3.9/site-packages (from ipython>=6.1.0->ipywidgets) (5.1.1)\n",
      "Requirement already satisfied: jedi>=0.16 in /home/cslab03/anaconda3/envs/coEnv/lib/python3.9/site-packages (from ipython>=6.1.0->ipywidgets) (0.18.2)\n",
      "Requirement already satisfied: pickleshare in /home/cslab03/anaconda3/envs/coEnv/lib/python3.9/site-packages (from ipython>=6.1.0->ipywidgets) (0.7.5)\n",
      "Requirement already satisfied: prompt-toolkit!=3.0.37,<3.1.0,>=3.0.30 in /home/cslab03/anaconda3/envs/coEnv/lib/python3.9/site-packages (from ipython>=6.1.0->ipywidgets) (3.0.38)\n",
      "Requirement already satisfied: pygments>=2.4.0 in /home/cslab03/anaconda3/envs/coEnv/lib/python3.9/site-packages (from ipython>=6.1.0->ipywidgets) (2.15.1)\n",
      "Requirement already satisfied: stack-data in /home/cslab03/anaconda3/envs/coEnv/lib/python3.9/site-packages (from ipython>=6.1.0->ipywidgets) (0.6.2)\n",
      "Requirement already satisfied: typing-extensions in /home/cslab03/anaconda3/envs/coEnv/lib/python3.9/site-packages (from ipython>=6.1.0->ipywidgets) (4.5.0)\n",
      "Requirement already satisfied: pexpect>4.3 in /home/cslab03/anaconda3/envs/coEnv/lib/python3.9/site-packages (from ipython>=6.1.0->ipywidgets) (4.8.0)\n",
      "Requirement already satisfied: parso<0.9.0,>=0.8.0 in /home/cslab03/anaconda3/envs/coEnv/lib/python3.9/site-packages (from jedi>=0.16->ipython>=6.1.0->ipywidgets) (0.8.3)\n",
      "Requirement already satisfied: importlib-metadata>=4.8.3 in /home/cslab03/.local/lib/python3.9/site-packages (from jupyter-client>=6.1.12->ipykernel>=4.5.1->ipywidgets) (6.8.0)\n",
      "Requirement already satisfied: python-dateutil>=2.8.2 in /home/cslab03/.local/lib/python3.9/site-packages (from jupyter-client>=6.1.12->ipykernel>=4.5.1->ipywidgets) (2.8.2)\n",
      "Requirement already satisfied: platformdirs>=2.5 in /home/cslab03/anaconda3/envs/coEnv/lib/python3.9/site-packages (from jupyter-core!=5.0.*,>=4.12->ipykernel>=4.5.1->ipywidgets) (3.8.0)\n",
      "Requirement already satisfied: ptyprocess>=0.5 in /home/cslab03/anaconda3/envs/coEnv/lib/python3.9/site-packages (from pexpect>4.3->ipython>=6.1.0->ipywidgets) (0.7.0)\n",
      "Requirement already satisfied: wcwidth in /home/cslab03/anaconda3/envs/coEnv/lib/python3.9/site-packages (from prompt-toolkit!=3.0.37,<3.1.0,>=3.0.30->ipython>=6.1.0->ipywidgets) (0.2.6)\n",
      "Requirement already satisfied: executing>=1.2.0 in /home/cslab03/anaconda3/envs/coEnv/lib/python3.9/site-packages (from stack-data->ipython>=6.1.0->ipywidgets) (1.2.0)\n",
      "Requirement already satisfied: asttokens>=2.1.0 in /home/cslab03/anaconda3/envs/coEnv/lib/python3.9/site-packages (from stack-data->ipython>=6.1.0->ipywidgets) (2.2.1)\n",
      "Requirement already satisfied: pure-eval in /home/cslab03/anaconda3/envs/coEnv/lib/python3.9/site-packages (from stack-data->ipython>=6.1.0->ipywidgets) (0.2.2)\n",
      "Requirement already satisfied: six in /home/cslab03/anaconda3/envs/coEnv/lib/python3.9/site-packages (from asttokens>=2.1.0->stack-data->ipython>=6.1.0->ipywidgets) (1.16.0)\n",
      "Requirement already satisfied: zipp>=0.5 in /home/cslab03/.local/lib/python3.9/site-packages (from importlib-metadata>=4.8.3->jupyter-client>=6.1.12->ipykernel>=4.5.1->ipywidgets) (3.17.0)\n",
      "Collecting pytorch-lightning==1.5.10\n",
      "  Using cached pytorch_lightning-1.5.10-py3-none-any.whl (527 kB)\n",
      "Requirement already satisfied: numpy>=1.17.2 in /home/cslab03/anaconda3/envs/coEnv/lib/python3.9/site-packages (from pytorch-lightning==1.5.10) (1.22.4)\n",
      "Requirement already satisfied: torch>=1.7.* in /home/cslab03/anaconda3/envs/coEnv/lib/python3.9/site-packages (from pytorch-lightning==1.5.10) (2.0.1)\n",
      "Requirement already satisfied: future>=0.17.1 in /home/cslab03/anaconda3/envs/coEnv/lib/python3.9/site-packages (from pytorch-lightning==1.5.10) (0.18.3)\n",
      "Requirement already satisfied: tqdm>=4.41.0 in /home/cslab03/anaconda3/envs/coEnv/lib/python3.9/site-packages (from pytorch-lightning==1.5.10) (4.65.0)\n",
      "Requirement already satisfied: PyYAML>=5.1 in /home/cslab03/anaconda3/envs/coEnv/lib/python3.9/site-packages (from pytorch-lightning==1.5.10) (6.0)\n",
      "Requirement already satisfied: fsspec[http]!=2021.06.0,>=2021.05.0 in /home/cslab03/anaconda3/envs/coEnv/lib/python3.9/site-packages (from pytorch-lightning==1.5.10) (2023.6.0)\n",
      "Requirement already satisfied: tensorboard>=2.2.0 in /home/cslab03/.local/lib/python3.9/site-packages (from pytorch-lightning==1.5.10) (2.15.1)\n",
      "Requirement already satisfied: torchmetrics>=0.4.1 in /home/cslab03/anaconda3/envs/coEnv/lib/python3.9/site-packages (from pytorch-lightning==1.5.10) (0.11.4)\n",
      "Requirement already satisfied: pyDeprecate==0.3.1 in /home/cslab03/anaconda3/envs/coEnv/lib/python3.9/site-packages (from pytorch-lightning==1.5.10) (0.3.1)\n",
      "Requirement already satisfied: packaging>=17.0 in /home/cslab03/anaconda3/envs/coEnv/lib/python3.9/site-packages (from pytorch-lightning==1.5.10) (23.1)\n",
      "Requirement already satisfied: typing-extensions in /home/cslab03/anaconda3/envs/coEnv/lib/python3.9/site-packages (from pytorch-lightning==1.5.10) (4.5.0)\n",
      "Requirement already satisfied: setuptools==59.5.0 in /home/cslab03/anaconda3/envs/coEnv/lib/python3.9/site-packages (from pytorch-lightning==1.5.10) (59.5.0)\n",
      "Requirement already satisfied: requests in /home/cslab03/anaconda3/envs/coEnv/lib/python3.9/site-packages (from fsspec[http]!=2021.06.0,>=2021.05.0->pytorch-lightning==1.5.10) (2.31.0)\n",
      "Requirement already satisfied: aiohttp!=4.0.0a0,!=4.0.0a1 in /home/cslab03/anaconda3/envs/coEnv/lib/python3.9/site-packages (from fsspec[http]!=2021.06.0,>=2021.05.0->pytorch-lightning==1.5.10) (3.8.4)\n",
      "Requirement already satisfied: absl-py>=0.4 in /home/cslab03/.local/lib/python3.9/site-packages (from tensorboard>=2.2.0->pytorch-lightning==1.5.10) (2.0.0)\n",
      "Requirement already satisfied: grpcio>=1.48.2 in /home/cslab03/.local/lib/python3.9/site-packages (from tensorboard>=2.2.0->pytorch-lightning==1.5.10) (1.59.2)\n",
      "Requirement already satisfied: google-auth<3,>=1.6.3 in /home/cslab03/.local/lib/python3.9/site-packages (from tensorboard>=2.2.0->pytorch-lightning==1.5.10) (2.23.4)\n",
      "Requirement already satisfied: google-auth-oauthlib<2,>=0.5 in /home/cslab03/.local/lib/python3.9/site-packages (from tensorboard>=2.2.0->pytorch-lightning==1.5.10) (1.1.0)\n",
      "Requirement already satisfied: markdown>=2.6.8 in /home/cslab03/.local/lib/python3.9/site-packages (from tensorboard>=2.2.0->pytorch-lightning==1.5.10) (3.5.1)\n",
      "Requirement already satisfied: protobuf<4.24,>=3.19.6 in /home/cslab03/.local/lib/python3.9/site-packages (from tensorboard>=2.2.0->pytorch-lightning==1.5.10) (4.23.4)\n",
      "Requirement already satisfied: six>1.9 in /home/cslab03/anaconda3/envs/coEnv/lib/python3.9/site-packages (from tensorboard>=2.2.0->pytorch-lightning==1.5.10) (1.16.0)\n",
      "Requirement already satisfied: tensorboard-data-server<0.8.0,>=0.7.0 in /home/cslab03/.local/lib/python3.9/site-packages (from tensorboard>=2.2.0->pytorch-lightning==1.5.10) (0.7.2)\n",
      "Requirement already satisfied: werkzeug>=1.0.1 in /home/cslab03/.local/lib/python3.9/site-packages (from tensorboard>=2.2.0->pytorch-lightning==1.5.10) (3.0.1)\n",
      "Requirement already satisfied: filelock in /home/cslab03/anaconda3/envs/coEnv/lib/python3.9/site-packages (from torch>=1.7.*->pytorch-lightning==1.5.10) (3.12.2)\n",
      "Requirement already satisfied: sympy in /home/cslab03/anaconda3/envs/coEnv/lib/python3.9/site-packages (from torch>=1.7.*->pytorch-lightning==1.5.10) (1.12)\n",
      "Requirement already satisfied: networkx in /home/cslab03/anaconda3/envs/coEnv/lib/python3.9/site-packages (from torch>=1.7.*->pytorch-lightning==1.5.10) (3.1)\n",
      "Requirement already satisfied: jinja2 in /home/cslab03/anaconda3/envs/coEnv/lib/python3.9/site-packages (from torch>=1.7.*->pytorch-lightning==1.5.10) (3.1.2)\n",
      "Requirement already satisfied: nvidia-cuda-nvrtc-cu11==11.7.99 in /home/cslab03/anaconda3/envs/coEnv/lib/python3.9/site-packages (from torch>=1.7.*->pytorch-lightning==1.5.10) (11.7.99)\n",
      "Requirement already satisfied: nvidia-cuda-runtime-cu11==11.7.99 in /home/cslab03/anaconda3/envs/coEnv/lib/python3.9/site-packages (from torch>=1.7.*->pytorch-lightning==1.5.10) (11.7.99)\n",
      "Requirement already satisfied: nvidia-cuda-cupti-cu11==11.7.101 in /home/cslab03/anaconda3/envs/coEnv/lib/python3.9/site-packages (from torch>=1.7.*->pytorch-lightning==1.5.10) (11.7.101)\n",
      "Requirement already satisfied: nvidia-cudnn-cu11==8.5.0.96 in /home/cslab03/anaconda3/envs/coEnv/lib/python3.9/site-packages (from torch>=1.7.*->pytorch-lightning==1.5.10) (8.5.0.96)\n",
      "Requirement already satisfied: nvidia-cublas-cu11==11.10.3.66 in /home/cslab03/anaconda3/envs/coEnv/lib/python3.9/site-packages (from torch>=1.7.*->pytorch-lightning==1.5.10) (11.10.3.66)\n",
      "Requirement already satisfied: nvidia-cufft-cu11==10.9.0.58 in /home/cslab03/anaconda3/envs/coEnv/lib/python3.9/site-packages (from torch>=1.7.*->pytorch-lightning==1.5.10) (10.9.0.58)\n",
      "Requirement already satisfied: nvidia-curand-cu11==10.2.10.91 in /home/cslab03/anaconda3/envs/coEnv/lib/python3.9/site-packages (from torch>=1.7.*->pytorch-lightning==1.5.10) (10.2.10.91)\n",
      "Requirement already satisfied: nvidia-cusolver-cu11==11.4.0.1 in /home/cslab03/anaconda3/envs/coEnv/lib/python3.9/site-packages (from torch>=1.7.*->pytorch-lightning==1.5.10) (11.4.0.1)\n",
      "Requirement already satisfied: nvidia-cusparse-cu11==11.7.4.91 in /home/cslab03/anaconda3/envs/coEnv/lib/python3.9/site-packages (from torch>=1.7.*->pytorch-lightning==1.5.10) (11.7.4.91)\n",
      "Requirement already satisfied: nvidia-nccl-cu11==2.14.3 in /home/cslab03/anaconda3/envs/coEnv/lib/python3.9/site-packages (from torch>=1.7.*->pytorch-lightning==1.5.10) (2.14.3)\n",
      "Requirement already satisfied: nvidia-nvtx-cu11==11.7.91 in /home/cslab03/anaconda3/envs/coEnv/lib/python3.9/site-packages (from torch>=1.7.*->pytorch-lightning==1.5.10) (11.7.91)\n",
      "Requirement already satisfied: triton==2.0.0 in /home/cslab03/anaconda3/envs/coEnv/lib/python3.9/site-packages (from torch>=1.7.*->pytorch-lightning==1.5.10) (2.0.0)\n",
      "Requirement already satisfied: wheel in /home/cslab03/anaconda3/envs/coEnv/lib/python3.9/site-packages (from nvidia-cublas-cu11==11.10.3.66->torch>=1.7.*->pytorch-lightning==1.5.10) (0.40.0)\n",
      "Requirement already satisfied: cmake in /home/cslab03/anaconda3/envs/coEnv/lib/python3.9/site-packages (from triton==2.0.0->torch>=1.7.*->pytorch-lightning==1.5.10) (3.26.4)\n",
      "Requirement already satisfied: lit in /home/cslab03/anaconda3/envs/coEnv/lib/python3.9/site-packages (from triton==2.0.0->torch>=1.7.*->pytorch-lightning==1.5.10) (16.0.6)\n",
      "Requirement already satisfied: attrs>=17.3.0 in /home/cslab03/anaconda3/envs/coEnv/lib/python3.9/site-packages (from aiohttp!=4.0.0a0,!=4.0.0a1->fsspec[http]!=2021.06.0,>=2021.05.0->pytorch-lightning==1.5.10) (23.1.0)\n",
      "Requirement already satisfied: charset-normalizer<4.0,>=2.0 in /home/cslab03/anaconda3/envs/coEnv/lib/python3.9/site-packages (from aiohttp!=4.0.0a0,!=4.0.0a1->fsspec[http]!=2021.06.0,>=2021.05.0->pytorch-lightning==1.5.10) (3.1.0)\n",
      "Requirement already satisfied: multidict<7.0,>=4.5 in /home/cslab03/anaconda3/envs/coEnv/lib/python3.9/site-packages (from aiohttp!=4.0.0a0,!=4.0.0a1->fsspec[http]!=2021.06.0,>=2021.05.0->pytorch-lightning==1.5.10) (6.0.4)\n",
      "Requirement already satisfied: async-timeout<5.0,>=4.0.0a3 in /home/cslab03/anaconda3/envs/coEnv/lib/python3.9/site-packages (from aiohttp!=4.0.0a0,!=4.0.0a1->fsspec[http]!=2021.06.0,>=2021.05.0->pytorch-lightning==1.5.10) (4.0.2)\n",
      "Requirement already satisfied: yarl<2.0,>=1.0 in /home/cslab03/anaconda3/envs/coEnv/lib/python3.9/site-packages (from aiohttp!=4.0.0a0,!=4.0.0a1->fsspec[http]!=2021.06.0,>=2021.05.0->pytorch-lightning==1.5.10) (1.9.2)\n",
      "Requirement already satisfied: frozenlist>=1.1.1 in /home/cslab03/anaconda3/envs/coEnv/lib/python3.9/site-packages (from aiohttp!=4.0.0a0,!=4.0.0a1->fsspec[http]!=2021.06.0,>=2021.05.0->pytorch-lightning==1.5.10) (1.3.3)\n",
      "Requirement already satisfied: aiosignal>=1.1.2 in /home/cslab03/anaconda3/envs/coEnv/lib/python3.9/site-packages (from aiohttp!=4.0.0a0,!=4.0.0a1->fsspec[http]!=2021.06.0,>=2021.05.0->pytorch-lightning==1.5.10) (1.3.1)\n",
      "Requirement already satisfied: cachetools<6.0,>=2.0.0 in /home/cslab03/.local/lib/python3.9/site-packages (from google-auth<3,>=1.6.3->tensorboard>=2.2.0->pytorch-lightning==1.5.10) (5.3.2)\n",
      "Requirement already satisfied: pyasn1-modules>=0.2.1 in /home/cslab03/.local/lib/python3.9/site-packages (from google-auth<3,>=1.6.3->tensorboard>=2.2.0->pytorch-lightning==1.5.10) (0.3.0)\n",
      "Requirement already satisfied: rsa<5,>=3.1.4 in /home/cslab03/.local/lib/python3.9/site-packages (from google-auth<3,>=1.6.3->tensorboard>=2.2.0->pytorch-lightning==1.5.10) (4.9)\n",
      "Requirement already satisfied: requests-oauthlib>=0.7.0 in /home/cslab03/.local/lib/python3.9/site-packages (from google-auth-oauthlib<2,>=0.5->tensorboard>=2.2.0->pytorch-lightning==1.5.10) (1.3.1)\n",
      "Requirement already satisfied: importlib-metadata>=4.4 in /home/cslab03/.local/lib/python3.9/site-packages (from markdown>=2.6.8->tensorboard>=2.2.0->pytorch-lightning==1.5.10) (6.8.0)\n",
      "Requirement already satisfied: idna<4,>=2.5 in /home/cslab03/anaconda3/envs/coEnv/lib/python3.9/site-packages (from requests->fsspec[http]!=2021.06.0,>=2021.05.0->pytorch-lightning==1.5.10) (3.4)\n",
      "Requirement already satisfied: urllib3<3,>=1.21.1 in /home/cslab03/anaconda3/envs/coEnv/lib/python3.9/site-packages (from requests->fsspec[http]!=2021.06.0,>=2021.05.0->pytorch-lightning==1.5.10) (1.26.16)\n",
      "Requirement already satisfied: certifi>=2017.4.17 in /home/cslab03/anaconda3/envs/coEnv/lib/python3.9/site-packages (from requests->fsspec[http]!=2021.06.0,>=2021.05.0->pytorch-lightning==1.5.10) (2023.5.7)\n",
      "Requirement already satisfied: MarkupSafe>=2.1.1 in /home/cslab03/.local/lib/python3.9/site-packages (from werkzeug>=1.0.1->tensorboard>=2.2.0->pytorch-lightning==1.5.10) (2.1.3)\n",
      "Requirement already satisfied: mpmath>=0.19 in /home/cslab03/anaconda3/envs/coEnv/lib/python3.9/site-packages (from sympy->torch>=1.7.*->pytorch-lightning==1.5.10) (1.3.0)\n",
      "Requirement already satisfied: zipp>=0.5 in /home/cslab03/.local/lib/python3.9/site-packages (from importlib-metadata>=4.4->markdown>=2.6.8->tensorboard>=2.2.0->pytorch-lightning==1.5.10) (3.17.0)\n",
      "Requirement already satisfied: pyasn1<0.6.0,>=0.4.6 in /home/cslab03/.local/lib/python3.9/site-packages (from pyasn1-modules>=0.2.1->google-auth<3,>=1.6.3->tensorboard>=2.2.0->pytorch-lightning==1.5.10) (0.5.0)\n",
      "Requirement already satisfied: oauthlib>=3.0.0 in /home/cslab03/anaconda3/envs/coEnv/lib/python3.9/site-packages (from requests-oauthlib>=0.7.0->google-auth-oauthlib<2,>=0.5->tensorboard>=2.2.0->pytorch-lightning==1.5.10) (3.2.2)\n",
      "Installing collected packages: pytorch-lightning\n",
      "  Attempting uninstall: pytorch-lightning\n",
      "    Found existing installation: pytorch-lightning 1.9.5\n",
      "    Uninstalling pytorch-lightning-1.9.5:\n",
      "      Successfully uninstalled pytorch-lightning-1.9.5\n",
      "\u001b[31mERROR: pip's dependency resolver does not currently take into account all the packages that are installed. This behaviour is the source of the following dependency conflicts.\n",
      "lightning-bolts 0.7.0 requires pytorch-lightning<2.0.0,>1.7.0, but you have pytorch-lightning 1.5.10 which is incompatible.\u001b[0m\u001b[31m\n",
      "\u001b[0mSuccessfully installed pytorch-lightning-1.5.10\n",
      "Requirement already satisfied: nvidia-ml-py3 in /home/cslab03/anaconda3/envs/coEnv/lib/python3.9/site-packages (7.352.0)\n",
      "Requirement already satisfied: neptune-client in /home/cslab03/anaconda3/envs/coEnv/lib/python3.9/site-packages (1.3.1)\n",
      "Requirement already satisfied: GitPython>=2.0.8 in /home/cslab03/anaconda3/envs/coEnv/lib/python3.9/site-packages (from neptune-client) (3.1.31)\n",
      "Requirement already satisfied: Pillow>=1.1.6 in /home/cslab03/anaconda3/envs/coEnv/lib/python3.9/site-packages (from neptune-client) (9.5.0)\n",
      "Requirement already satisfied: PyJWT in /home/cslab03/anaconda3/envs/coEnv/lib/python3.9/site-packages (from neptune-client) (2.7.0)\n",
      "Requirement already satisfied: boto3>=1.16.0 in /home/cslab03/anaconda3/envs/coEnv/lib/python3.9/site-packages (from neptune-client) (1.26.165)\n",
      "Requirement already satisfied: bravado<12.0.0,>=11.0.0 in /home/cslab03/anaconda3/envs/coEnv/lib/python3.9/site-packages (from neptune-client) (11.0.3)\n",
      "Requirement already satisfied: click>=7.0 in /home/cslab03/anaconda3/envs/coEnv/lib/python3.9/site-packages (from neptune-client) (8.1.3)\n",
      "Requirement already satisfied: future>=0.17.1 in /home/cslab03/anaconda3/envs/coEnv/lib/python3.9/site-packages (from neptune-client) (0.18.3)\n",
      "Requirement already satisfied: oauthlib>=2.1.0 in /home/cslab03/anaconda3/envs/coEnv/lib/python3.9/site-packages (from neptune-client) (3.2.2)\n",
      "Requirement already satisfied: packaging in /home/cslab03/anaconda3/envs/coEnv/lib/python3.9/site-packages (from neptune-client) (23.1)\n",
      "Requirement already satisfied: pandas in /home/cslab03/.local/lib/python3.9/site-packages (from neptune-client) (2.1.2)\n",
      "Requirement already satisfied: psutil in /home/cslab03/anaconda3/envs/coEnv/lib/python3.9/site-packages (from neptune-client) (5.9.5)\n",
      "Requirement already satisfied: requests>=2.20.0 in /home/cslab03/anaconda3/envs/coEnv/lib/python3.9/site-packages (from neptune-client) (2.31.0)\n",
      "Requirement already satisfied: requests-oauthlib>=1.0.0 in /home/cslab03/.local/lib/python3.9/site-packages (from neptune-client) (1.3.1)\n",
      "Requirement already satisfied: six>=1.12.0 in /home/cslab03/anaconda3/envs/coEnv/lib/python3.9/site-packages (from neptune-client) (1.16.0)\n",
      "Requirement already satisfied: swagger-spec-validator>=2.7.4 in /home/cslab03/anaconda3/envs/coEnv/lib/python3.9/site-packages (from neptune-client) (3.0.3)\n",
      "Requirement already satisfied: urllib3 in /home/cslab03/anaconda3/envs/coEnv/lib/python3.9/site-packages (from neptune-client) (1.26.16)\n",
      "Requirement already satisfied: websocket-client!=1.0.0,>=0.35.0 in /home/cslab03/anaconda3/envs/coEnv/lib/python3.9/site-packages (from neptune-client) (1.6.1)\n",
      "Requirement already satisfied: botocore<1.30.0,>=1.29.165 in /home/cslab03/anaconda3/envs/coEnv/lib/python3.9/site-packages (from boto3>=1.16.0->neptune-client) (1.29.165)\n",
      "Requirement already satisfied: jmespath<2.0.0,>=0.7.1 in /home/cslab03/anaconda3/envs/coEnv/lib/python3.9/site-packages (from boto3>=1.16.0->neptune-client) (1.0.1)\n",
      "Requirement already satisfied: s3transfer<0.7.0,>=0.6.0 in /home/cslab03/anaconda3/envs/coEnv/lib/python3.9/site-packages (from boto3>=1.16.0->neptune-client) (0.6.1)\n",
      "Requirement already satisfied: bravado-core>=5.16.1 in /home/cslab03/anaconda3/envs/coEnv/lib/python3.9/site-packages (from bravado<12.0.0,>=11.0.0->neptune-client) (5.17.1)\n",
      "Requirement already satisfied: msgpack in /home/cslab03/anaconda3/envs/coEnv/lib/python3.9/site-packages (from bravado<12.0.0,>=11.0.0->neptune-client) (1.0.5)\n",
      "Requirement already satisfied: python-dateutil in /home/cslab03/.local/lib/python3.9/site-packages (from bravado<12.0.0,>=11.0.0->neptune-client) (2.8.2)\n",
      "Requirement already satisfied: pyyaml in /home/cslab03/anaconda3/envs/coEnv/lib/python3.9/site-packages (from bravado<12.0.0,>=11.0.0->neptune-client) (6.0)\n",
      "Requirement already satisfied: simplejson in /home/cslab03/anaconda3/envs/coEnv/lib/python3.9/site-packages (from bravado<12.0.0,>=11.0.0->neptune-client) (3.19.1)\n",
      "Requirement already satisfied: monotonic in /home/cslab03/anaconda3/envs/coEnv/lib/python3.9/site-packages (from bravado<12.0.0,>=11.0.0->neptune-client) (1.6)\n",
      "Requirement already satisfied: typing-extensions in /home/cslab03/anaconda3/envs/coEnv/lib/python3.9/site-packages (from bravado<12.0.0,>=11.0.0->neptune-client) (4.5.0)\n",
      "Requirement already satisfied: gitdb<5,>=4.0.1 in /home/cslab03/anaconda3/envs/coEnv/lib/python3.9/site-packages (from GitPython>=2.0.8->neptune-client) (4.0.10)\n",
      "Requirement already satisfied: charset-normalizer<4,>=2 in /home/cslab03/anaconda3/envs/coEnv/lib/python3.9/site-packages (from requests>=2.20.0->neptune-client) (3.1.0)\n",
      "Requirement already satisfied: idna<4,>=2.5 in /home/cslab03/anaconda3/envs/coEnv/lib/python3.9/site-packages (from requests>=2.20.0->neptune-client) (3.4)\n",
      "Requirement already satisfied: certifi>=2017.4.17 in /home/cslab03/anaconda3/envs/coEnv/lib/python3.9/site-packages (from requests>=2.20.0->neptune-client) (2023.5.7)\n",
      "Requirement already satisfied: jsonschema in /home/cslab03/anaconda3/envs/coEnv/lib/python3.9/site-packages (from swagger-spec-validator>=2.7.4->neptune-client) (4.17.3)\n",
      "Requirement already satisfied: numpy<2,>=1.22.4 in /home/cslab03/anaconda3/envs/coEnv/lib/python3.9/site-packages (from pandas->neptune-client) (1.22.4)\n",
      "Requirement already satisfied: pytz>=2020.1 in /home/cslab03/.local/lib/python3.9/site-packages (from pandas->neptune-client) (2023.3.post1)\n",
      "Requirement already satisfied: tzdata>=2022.1 in /home/cslab03/.local/lib/python3.9/site-packages (from pandas->neptune-client) (2023.3)\n",
      "Requirement already satisfied: jsonref in /home/cslab03/anaconda3/envs/coEnv/lib/python3.9/site-packages (from bravado-core>=5.16.1->bravado<12.0.0,>=11.0.0->neptune-client) (1.1.0)\n",
      "Requirement already satisfied: smmap<6,>=3.0.1 in /home/cslab03/anaconda3/envs/coEnv/lib/python3.9/site-packages (from gitdb<5,>=4.0.1->GitPython>=2.0.8->neptune-client) (5.0.0)\n",
      "Requirement already satisfied: attrs>=17.4.0 in /home/cslab03/anaconda3/envs/coEnv/lib/python3.9/site-packages (from jsonschema->swagger-spec-validator>=2.7.4->neptune-client) (23.1.0)\n",
      "Requirement already satisfied: pyrsistent!=0.17.0,!=0.17.1,!=0.17.2,>=0.14.0 in /home/cslab03/anaconda3/envs/coEnv/lib/python3.9/site-packages (from jsonschema->swagger-spec-validator>=2.7.4->neptune-client) (0.19.3)\n",
      "Requirement already satisfied: fqdn in /home/cslab03/anaconda3/envs/coEnv/lib/python3.9/site-packages (from jsonschema->swagger-spec-validator>=2.7.4->neptune-client) (1.5.1)\n",
      "Requirement already satisfied: isoduration in /home/cslab03/anaconda3/envs/coEnv/lib/python3.9/site-packages (from jsonschema->swagger-spec-validator>=2.7.4->neptune-client) (20.11.0)\n",
      "Requirement already satisfied: jsonpointer>1.13 in /home/cslab03/anaconda3/envs/coEnv/lib/python3.9/site-packages (from jsonschema->swagger-spec-validator>=2.7.4->neptune-client) (2.4)\n",
      "Requirement already satisfied: rfc3339-validator in /home/cslab03/anaconda3/envs/coEnv/lib/python3.9/site-packages (from jsonschema->swagger-spec-validator>=2.7.4->neptune-client) (0.1.4)\n",
      "Requirement already satisfied: rfc3987 in /home/cslab03/anaconda3/envs/coEnv/lib/python3.9/site-packages (from jsonschema->swagger-spec-validator>=2.7.4->neptune-client) (1.3.8)\n",
      "Requirement already satisfied: uri-template in /home/cslab03/anaconda3/envs/coEnv/lib/python3.9/site-packages (from jsonschema->swagger-spec-validator>=2.7.4->neptune-client) (1.3.0)\n",
      "Requirement already satisfied: webcolors>=1.11 in /home/cslab03/anaconda3/envs/coEnv/lib/python3.9/site-packages (from jsonschema->swagger-spec-validator>=2.7.4->neptune-client) (1.13)\n",
      "Requirement already satisfied: arrow>=0.15.0 in /home/cslab03/anaconda3/envs/coEnv/lib/python3.9/site-packages (from isoduration->jsonschema->swagger-spec-validator>=2.7.4->neptune-client) (1.2.3)\n",
      "Requirement already satisfied: lightning-bolts in /home/cslab03/anaconda3/envs/coEnv/lib/python3.9/site-packages (0.7.0)\n",
      "Requirement already satisfied: numpy in /home/cslab03/anaconda3/envs/coEnv/lib/python3.9/site-packages (from lightning-bolts) (1.22.4)\n",
      "Collecting pytorch-lightning<2.0.0,>1.7.0 (from lightning-bolts)\n",
      "  Using cached pytorch_lightning-1.9.5-py3-none-any.whl (829 kB)\n",
      "Requirement already satisfied: torchmetrics in /home/cslab03/anaconda3/envs/coEnv/lib/python3.9/site-packages (from lightning-bolts) (0.11.4)\n",
      "Requirement already satisfied: lightning-utilities>0.3.1 in /home/cslab03/anaconda3/envs/coEnv/lib/python3.9/site-packages (from lightning-bolts) (0.9.0)\n",
      "Requirement already satisfied: torchvision>=0.10.0 in /home/cslab03/anaconda3/envs/coEnv/lib/python3.9/site-packages (from lightning-bolts) (0.15.2)\n",
      "Requirement already satisfied: tensorboard>=2.9.1 in /home/cslab03/.local/lib/python3.9/site-packages (from lightning-bolts) (2.15.1)\n",
      "Requirement already satisfied: packaging>=17.1 in /home/cslab03/anaconda3/envs/coEnv/lib/python3.9/site-packages (from lightning-utilities>0.3.1->lightning-bolts) (23.1)\n",
      "Requirement already satisfied: typing-extensions in /home/cslab03/anaconda3/envs/coEnv/lib/python3.9/site-packages (from lightning-utilities>0.3.1->lightning-bolts) (4.5.0)\n",
      "Requirement already satisfied: torch>=1.10.0 in /home/cslab03/anaconda3/envs/coEnv/lib/python3.9/site-packages (from pytorch-lightning<2.0.0,>1.7.0->lightning-bolts) (2.0.1)\n",
      "Requirement already satisfied: tqdm>=4.57.0 in /home/cslab03/anaconda3/envs/coEnv/lib/python3.9/site-packages (from pytorch-lightning<2.0.0,>1.7.0->lightning-bolts) (4.65.0)\n",
      "Requirement already satisfied: PyYAML>=5.4 in /home/cslab03/anaconda3/envs/coEnv/lib/python3.9/site-packages (from pytorch-lightning<2.0.0,>1.7.0->lightning-bolts) (6.0)\n",
      "Requirement already satisfied: fsspec[http]>2021.06.0 in /home/cslab03/anaconda3/envs/coEnv/lib/python3.9/site-packages (from pytorch-lightning<2.0.0,>1.7.0->lightning-bolts) (2023.6.0)\n",
      "Requirement already satisfied: absl-py>=0.4 in /home/cslab03/.local/lib/python3.9/site-packages (from tensorboard>=2.9.1->lightning-bolts) (2.0.0)\n",
      "Requirement already satisfied: grpcio>=1.48.2 in /home/cslab03/.local/lib/python3.9/site-packages (from tensorboard>=2.9.1->lightning-bolts) (1.59.2)\n",
      "Requirement already satisfied: google-auth<3,>=1.6.3 in /home/cslab03/.local/lib/python3.9/site-packages (from tensorboard>=2.9.1->lightning-bolts) (2.23.4)\n",
      "Requirement already satisfied: google-auth-oauthlib<2,>=0.5 in /home/cslab03/.local/lib/python3.9/site-packages (from tensorboard>=2.9.1->lightning-bolts) (1.1.0)\n",
      "Requirement already satisfied: markdown>=2.6.8 in /home/cslab03/.local/lib/python3.9/site-packages (from tensorboard>=2.9.1->lightning-bolts) (3.5.1)\n",
      "Requirement already satisfied: protobuf<4.24,>=3.19.6 in /home/cslab03/.local/lib/python3.9/site-packages (from tensorboard>=2.9.1->lightning-bolts) (4.23.4)\n",
      "Requirement already satisfied: requests<3,>=2.21.0 in /home/cslab03/anaconda3/envs/coEnv/lib/python3.9/site-packages (from tensorboard>=2.9.1->lightning-bolts) (2.31.0)\n",
      "Requirement already satisfied: setuptools>=41.0.0 in /home/cslab03/anaconda3/envs/coEnv/lib/python3.9/site-packages (from tensorboard>=2.9.1->lightning-bolts) (59.5.0)\n",
      "Requirement already satisfied: six>1.9 in /home/cslab03/anaconda3/envs/coEnv/lib/python3.9/site-packages (from tensorboard>=2.9.1->lightning-bolts) (1.16.0)\n",
      "Requirement already satisfied: tensorboard-data-server<0.8.0,>=0.7.0 in /home/cslab03/.local/lib/python3.9/site-packages (from tensorboard>=2.9.1->lightning-bolts) (0.7.2)\n",
      "Requirement already satisfied: werkzeug>=1.0.1 in /home/cslab03/.local/lib/python3.9/site-packages (from tensorboard>=2.9.1->lightning-bolts) (3.0.1)\n",
      "Requirement already satisfied: pillow!=8.3.*,>=5.3.0 in /home/cslab03/anaconda3/envs/coEnv/lib/python3.9/site-packages (from torchvision>=0.10.0->lightning-bolts) (9.5.0)\n",
      "Requirement already satisfied: filelock in /home/cslab03/anaconda3/envs/coEnv/lib/python3.9/site-packages (from torch>=1.10.0->pytorch-lightning<2.0.0,>1.7.0->lightning-bolts) (3.12.2)\n",
      "Requirement already satisfied: sympy in /home/cslab03/anaconda3/envs/coEnv/lib/python3.9/site-packages (from torch>=1.10.0->pytorch-lightning<2.0.0,>1.7.0->lightning-bolts) (1.12)\n",
      "Requirement already satisfied: networkx in /home/cslab03/anaconda3/envs/coEnv/lib/python3.9/site-packages (from torch>=1.10.0->pytorch-lightning<2.0.0,>1.7.0->lightning-bolts) (3.1)\n",
      "Requirement already satisfied: jinja2 in /home/cslab03/anaconda3/envs/coEnv/lib/python3.9/site-packages (from torch>=1.10.0->pytorch-lightning<2.0.0,>1.7.0->lightning-bolts) (3.1.2)\n",
      "Requirement already satisfied: nvidia-cuda-nvrtc-cu11==11.7.99 in /home/cslab03/anaconda3/envs/coEnv/lib/python3.9/site-packages (from torch>=1.10.0->pytorch-lightning<2.0.0,>1.7.0->lightning-bolts) (11.7.99)\n",
      "Requirement already satisfied: nvidia-cuda-runtime-cu11==11.7.99 in /home/cslab03/anaconda3/envs/coEnv/lib/python3.9/site-packages (from torch>=1.10.0->pytorch-lightning<2.0.0,>1.7.0->lightning-bolts) (11.7.99)\n",
      "Requirement already satisfied: nvidia-cuda-cupti-cu11==11.7.101 in /home/cslab03/anaconda3/envs/coEnv/lib/python3.9/site-packages (from torch>=1.10.0->pytorch-lightning<2.0.0,>1.7.0->lightning-bolts) (11.7.101)\n",
      "Requirement already satisfied: nvidia-cudnn-cu11==8.5.0.96 in /home/cslab03/anaconda3/envs/coEnv/lib/python3.9/site-packages (from torch>=1.10.0->pytorch-lightning<2.0.0,>1.7.0->lightning-bolts) (8.5.0.96)\n",
      "Requirement already satisfied: nvidia-cublas-cu11==11.10.3.66 in /home/cslab03/anaconda3/envs/coEnv/lib/python3.9/site-packages (from torch>=1.10.0->pytorch-lightning<2.0.0,>1.7.0->lightning-bolts) (11.10.3.66)\n",
      "Requirement already satisfied: nvidia-cufft-cu11==10.9.0.58 in /home/cslab03/anaconda3/envs/coEnv/lib/python3.9/site-packages (from torch>=1.10.0->pytorch-lightning<2.0.0,>1.7.0->lightning-bolts) (10.9.0.58)\n",
      "Requirement already satisfied: nvidia-curand-cu11==10.2.10.91 in /home/cslab03/anaconda3/envs/coEnv/lib/python3.9/site-packages (from torch>=1.10.0->pytorch-lightning<2.0.0,>1.7.0->lightning-bolts) (10.2.10.91)\n",
      "Requirement already satisfied: nvidia-cusolver-cu11==11.4.0.1 in /home/cslab03/anaconda3/envs/coEnv/lib/python3.9/site-packages (from torch>=1.10.0->pytorch-lightning<2.0.0,>1.7.0->lightning-bolts) (11.4.0.1)\n",
      "Requirement already satisfied: nvidia-cusparse-cu11==11.7.4.91 in /home/cslab03/anaconda3/envs/coEnv/lib/python3.9/site-packages (from torch>=1.10.0->pytorch-lightning<2.0.0,>1.7.0->lightning-bolts) (11.7.4.91)\n",
      "Requirement already satisfied: nvidia-nccl-cu11==2.14.3 in /home/cslab03/anaconda3/envs/coEnv/lib/python3.9/site-packages (from torch>=1.10.0->pytorch-lightning<2.0.0,>1.7.0->lightning-bolts) (2.14.3)\n",
      "Requirement already satisfied: nvidia-nvtx-cu11==11.7.91 in /home/cslab03/anaconda3/envs/coEnv/lib/python3.9/site-packages (from torch>=1.10.0->pytorch-lightning<2.0.0,>1.7.0->lightning-bolts) (11.7.91)\n",
      "Requirement already satisfied: triton==2.0.0 in /home/cslab03/anaconda3/envs/coEnv/lib/python3.9/site-packages (from torch>=1.10.0->pytorch-lightning<2.0.0,>1.7.0->lightning-bolts) (2.0.0)\n",
      "Requirement already satisfied: wheel in /home/cslab03/anaconda3/envs/coEnv/lib/python3.9/site-packages (from nvidia-cublas-cu11==11.10.3.66->torch>=1.10.0->pytorch-lightning<2.0.0,>1.7.0->lightning-bolts) (0.40.0)\n",
      "Requirement already satisfied: cmake in /home/cslab03/anaconda3/envs/coEnv/lib/python3.9/site-packages (from triton==2.0.0->torch>=1.10.0->pytorch-lightning<2.0.0,>1.7.0->lightning-bolts) (3.26.4)\n",
      "Requirement already satisfied: lit in /home/cslab03/anaconda3/envs/coEnv/lib/python3.9/site-packages (from triton==2.0.0->torch>=1.10.0->pytorch-lightning<2.0.0,>1.7.0->lightning-bolts) (16.0.6)\n",
      "Requirement already satisfied: aiohttp!=4.0.0a0,!=4.0.0a1 in /home/cslab03/anaconda3/envs/coEnv/lib/python3.9/site-packages (from fsspec[http]>2021.06.0->pytorch-lightning<2.0.0,>1.7.0->lightning-bolts) (3.8.4)\n",
      "Requirement already satisfied: cachetools<6.0,>=2.0.0 in /home/cslab03/.local/lib/python3.9/site-packages (from google-auth<3,>=1.6.3->tensorboard>=2.9.1->lightning-bolts) (5.3.2)\n",
      "Requirement already satisfied: pyasn1-modules>=0.2.1 in /home/cslab03/.local/lib/python3.9/site-packages (from google-auth<3,>=1.6.3->tensorboard>=2.9.1->lightning-bolts) (0.3.0)\n",
      "Requirement already satisfied: rsa<5,>=3.1.4 in /home/cslab03/.local/lib/python3.9/site-packages (from google-auth<3,>=1.6.3->tensorboard>=2.9.1->lightning-bolts) (4.9)\n",
      "Requirement already satisfied: requests-oauthlib>=0.7.0 in /home/cslab03/.local/lib/python3.9/site-packages (from google-auth-oauthlib<2,>=0.5->tensorboard>=2.9.1->lightning-bolts) (1.3.1)\n",
      "Requirement already satisfied: importlib-metadata>=4.4 in /home/cslab03/.local/lib/python3.9/site-packages (from markdown>=2.6.8->tensorboard>=2.9.1->lightning-bolts) (6.8.0)\n",
      "Requirement already satisfied: charset-normalizer<4,>=2 in /home/cslab03/anaconda3/envs/coEnv/lib/python3.9/site-packages (from requests<3,>=2.21.0->tensorboard>=2.9.1->lightning-bolts) (3.1.0)\n",
      "Requirement already satisfied: idna<4,>=2.5 in /home/cslab03/anaconda3/envs/coEnv/lib/python3.9/site-packages (from requests<3,>=2.21.0->tensorboard>=2.9.1->lightning-bolts) (3.4)\n",
      "Requirement already satisfied: urllib3<3,>=1.21.1 in /home/cslab03/anaconda3/envs/coEnv/lib/python3.9/site-packages (from requests<3,>=2.21.0->tensorboard>=2.9.1->lightning-bolts) (1.26.16)\n",
      "Requirement already satisfied: certifi>=2017.4.17 in /home/cslab03/anaconda3/envs/coEnv/lib/python3.9/site-packages (from requests<3,>=2.21.0->tensorboard>=2.9.1->lightning-bolts) (2023.5.7)\n",
      "Requirement already satisfied: MarkupSafe>=2.1.1 in /home/cslab03/.local/lib/python3.9/site-packages (from werkzeug>=1.0.1->tensorboard>=2.9.1->lightning-bolts) (2.1.3)\n",
      "Requirement already satisfied: attrs>=17.3.0 in /home/cslab03/anaconda3/envs/coEnv/lib/python3.9/site-packages (from aiohttp!=4.0.0a0,!=4.0.0a1->fsspec[http]>2021.06.0->pytorch-lightning<2.0.0,>1.7.0->lightning-bolts) (23.1.0)\n",
      "Requirement already satisfied: multidict<7.0,>=4.5 in /home/cslab03/anaconda3/envs/coEnv/lib/python3.9/site-packages (from aiohttp!=4.0.0a0,!=4.0.0a1->fsspec[http]>2021.06.0->pytorch-lightning<2.0.0,>1.7.0->lightning-bolts) (6.0.4)\n",
      "Requirement already satisfied: async-timeout<5.0,>=4.0.0a3 in /home/cslab03/anaconda3/envs/coEnv/lib/python3.9/site-packages (from aiohttp!=4.0.0a0,!=4.0.0a1->fsspec[http]>2021.06.0->pytorch-lightning<2.0.0,>1.7.0->lightning-bolts) (4.0.2)\n",
      "Requirement already satisfied: yarl<2.0,>=1.0 in /home/cslab03/anaconda3/envs/coEnv/lib/python3.9/site-packages (from aiohttp!=4.0.0a0,!=4.0.0a1->fsspec[http]>2021.06.0->pytorch-lightning<2.0.0,>1.7.0->lightning-bolts) (1.9.2)\n",
      "Requirement already satisfied: frozenlist>=1.1.1 in /home/cslab03/anaconda3/envs/coEnv/lib/python3.9/site-packages (from aiohttp!=4.0.0a0,!=4.0.0a1->fsspec[http]>2021.06.0->pytorch-lightning<2.0.0,>1.7.0->lightning-bolts) (1.3.3)\n",
      "Requirement already satisfied: aiosignal>=1.1.2 in /home/cslab03/anaconda3/envs/coEnv/lib/python3.9/site-packages (from aiohttp!=4.0.0a0,!=4.0.0a1->fsspec[http]>2021.06.0->pytorch-lightning<2.0.0,>1.7.0->lightning-bolts) (1.3.1)\n",
      "Requirement already satisfied: zipp>=0.5 in /home/cslab03/.local/lib/python3.9/site-packages (from importlib-metadata>=4.4->markdown>=2.6.8->tensorboard>=2.9.1->lightning-bolts) (3.17.0)\n",
      "Requirement already satisfied: pyasn1<0.6.0,>=0.4.6 in /home/cslab03/.local/lib/python3.9/site-packages (from pyasn1-modules>=0.2.1->google-auth<3,>=1.6.3->tensorboard>=2.9.1->lightning-bolts) (0.5.0)\n",
      "Requirement already satisfied: oauthlib>=3.0.0 in /home/cslab03/anaconda3/envs/coEnv/lib/python3.9/site-packages (from requests-oauthlib>=0.7.0->google-auth-oauthlib<2,>=0.5->tensorboard>=2.9.1->lightning-bolts) (3.2.2)\n",
      "Requirement already satisfied: mpmath>=0.19 in /home/cslab03/anaconda3/envs/coEnv/lib/python3.9/site-packages (from sympy->torch>=1.10.0->pytorch-lightning<2.0.0,>1.7.0->lightning-bolts) (1.3.0)\n",
      "Installing collected packages: pytorch-lightning\n",
      "  Attempting uninstall: pytorch-lightning\n",
      "    Found existing installation: pytorch-lightning 1.5.10\n",
      "    Uninstalling pytorch-lightning-1.5.10:\n",
      "      Successfully uninstalled pytorch-lightning-1.5.10\n",
      "Successfully installed pytorch-lightning-1.9.5\n",
      "Requirement already satisfied: torchmetrics in /home/cslab03/anaconda3/envs/coEnv/lib/python3.9/site-packages (0.11.4)\n",
      "Requirement already satisfied: numpy>=1.17.2 in /home/cslab03/anaconda3/envs/coEnv/lib/python3.9/site-packages (from torchmetrics) (1.22.4)\n",
      "Requirement already satisfied: torch>=1.8.1 in /home/cslab03/anaconda3/envs/coEnv/lib/python3.9/site-packages (from torchmetrics) (2.0.1)\n",
      "Requirement already satisfied: packaging in /home/cslab03/anaconda3/envs/coEnv/lib/python3.9/site-packages (from torchmetrics) (23.1)\n",
      "Requirement already satisfied: filelock in /home/cslab03/anaconda3/envs/coEnv/lib/python3.9/site-packages (from torch>=1.8.1->torchmetrics) (3.12.2)\n",
      "Requirement already satisfied: typing-extensions in /home/cslab03/anaconda3/envs/coEnv/lib/python3.9/site-packages (from torch>=1.8.1->torchmetrics) (4.5.0)\n",
      "Requirement already satisfied: sympy in /home/cslab03/anaconda3/envs/coEnv/lib/python3.9/site-packages (from torch>=1.8.1->torchmetrics) (1.12)\n",
      "Requirement already satisfied: networkx in /home/cslab03/anaconda3/envs/coEnv/lib/python3.9/site-packages (from torch>=1.8.1->torchmetrics) (3.1)\n",
      "Requirement already satisfied: jinja2 in /home/cslab03/anaconda3/envs/coEnv/lib/python3.9/site-packages (from torch>=1.8.1->torchmetrics) (3.1.2)\n",
      "Requirement already satisfied: nvidia-cuda-nvrtc-cu11==11.7.99 in /home/cslab03/anaconda3/envs/coEnv/lib/python3.9/site-packages (from torch>=1.8.1->torchmetrics) (11.7.99)\n",
      "Requirement already satisfied: nvidia-cuda-runtime-cu11==11.7.99 in /home/cslab03/anaconda3/envs/coEnv/lib/python3.9/site-packages (from torch>=1.8.1->torchmetrics) (11.7.99)\n",
      "Requirement already satisfied: nvidia-cuda-cupti-cu11==11.7.101 in /home/cslab03/anaconda3/envs/coEnv/lib/python3.9/site-packages (from torch>=1.8.1->torchmetrics) (11.7.101)\n",
      "Requirement already satisfied: nvidia-cudnn-cu11==8.5.0.96 in /home/cslab03/anaconda3/envs/coEnv/lib/python3.9/site-packages (from torch>=1.8.1->torchmetrics) (8.5.0.96)\n",
      "Requirement already satisfied: nvidia-cublas-cu11==11.10.3.66 in /home/cslab03/anaconda3/envs/coEnv/lib/python3.9/site-packages (from torch>=1.8.1->torchmetrics) (11.10.3.66)\n",
      "Requirement already satisfied: nvidia-cufft-cu11==10.9.0.58 in /home/cslab03/anaconda3/envs/coEnv/lib/python3.9/site-packages (from torch>=1.8.1->torchmetrics) (10.9.0.58)\n",
      "Requirement already satisfied: nvidia-curand-cu11==10.2.10.91 in /home/cslab03/anaconda3/envs/coEnv/lib/python3.9/site-packages (from torch>=1.8.1->torchmetrics) (10.2.10.91)\n",
      "Requirement already satisfied: nvidia-cusolver-cu11==11.4.0.1 in /home/cslab03/anaconda3/envs/coEnv/lib/python3.9/site-packages (from torch>=1.8.1->torchmetrics) (11.4.0.1)\n",
      "Requirement already satisfied: nvidia-cusparse-cu11==11.7.4.91 in /home/cslab03/anaconda3/envs/coEnv/lib/python3.9/site-packages (from torch>=1.8.1->torchmetrics) (11.7.4.91)\n",
      "Requirement already satisfied: nvidia-nccl-cu11==2.14.3 in /home/cslab03/anaconda3/envs/coEnv/lib/python3.9/site-packages (from torch>=1.8.1->torchmetrics) (2.14.3)\n",
      "Requirement already satisfied: nvidia-nvtx-cu11==11.7.91 in /home/cslab03/anaconda3/envs/coEnv/lib/python3.9/site-packages (from torch>=1.8.1->torchmetrics) (11.7.91)\n",
      "Requirement already satisfied: triton==2.0.0 in /home/cslab03/anaconda3/envs/coEnv/lib/python3.9/site-packages (from torch>=1.8.1->torchmetrics) (2.0.0)\n",
      "Requirement already satisfied: setuptools in /home/cslab03/anaconda3/envs/coEnv/lib/python3.9/site-packages (from nvidia-cublas-cu11==11.10.3.66->torch>=1.8.1->torchmetrics) (59.5.0)\n",
      "Requirement already satisfied: wheel in /home/cslab03/anaconda3/envs/coEnv/lib/python3.9/site-packages (from nvidia-cublas-cu11==11.10.3.66->torch>=1.8.1->torchmetrics) (0.40.0)\n",
      "Requirement already satisfied: cmake in /home/cslab03/anaconda3/envs/coEnv/lib/python3.9/site-packages (from triton==2.0.0->torch>=1.8.1->torchmetrics) (3.26.4)\n",
      "Requirement already satisfied: lit in /home/cslab03/anaconda3/envs/coEnv/lib/python3.9/site-packages (from triton==2.0.0->torch>=1.8.1->torchmetrics) (16.0.6)\n",
      "Requirement already satisfied: MarkupSafe>=2.0 in /home/cslab03/.local/lib/python3.9/site-packages (from jinja2->torch>=1.8.1->torchmetrics) (2.1.3)\n",
      "Requirement already satisfied: mpmath>=0.19 in /home/cslab03/anaconda3/envs/coEnv/lib/python3.9/site-packages (from sympy->torch>=1.8.1->torchmetrics) (1.3.0)\n"
     ]
    }
   ],
   "source": [
    "!pip install transformers\n",
    "!pip install ipywidgets\n",
    "!pip install pytorch-lightning==1.5.10\n",
    "!pip install nvidia-ml-py3\n",
    "!pip install neptune-client\n",
    "!pip install lightning-bolts\n",
    "!pip install torchmetrics"
   ]
  },
  {
   "cell_type": "code",
   "execution_count": 30,
   "metadata": {},
   "outputs": [],
   "source": [
    "from transformers import Wav2Vec2Processor, Wav2Vec2Model, Wav2Vec2Config\n",
    "import torch\n",
    "from transformers.models.wav2vec2.modeling_wav2vec2 import Wav2Vec2FeatureEncoder, Wav2Vec2NoLayerNormConvLayer, Wav2Vec2LayerNormConvLayer\n",
    "from torch import nn\n",
    "from transformers.activations import ACT2FN\n",
    "import ipywidgets\n",
    "import os\n",
    "import pandas as pd\n",
    "from sklearn.model_selection import train_test_split\n",
    "import csv\n",
    "import torchaudio\n",
    "import torchtext\n",
    "import pytorch_lightning as pl\n",
    "import nvidia_smi\n",
    "from pytorch_lightning.loggers.neptune import NeptuneLogger\n",
    "from pytorch_lightning.loggers import NeptuneLogger\n",
    "from IPython.display import display, HTML\n",
    "from dataclasses import dataclass, field\n",
    "from torch.utils.data import DataLoader\n",
    "from typing import Any, Dict, List, Optional, Union\n",
    "from pl_bolts.optimizers.lr_scheduler import LinearWarmupCosineAnnealingLR\n",
    "from torchmetrics import Accuracy\n",
    "from torchmetrics import F1Score\n",
    "from sklearn.metrics import confusion_matrix\n",
    "import torch.nn.functional as F\n",
    "import numpy as np\n",
    "import contextlib\n",
    "from statistics import mean, stdev\n"
   ]
  },
  {
   "cell_type": "markdown",
   "metadata": {},
   "source": [
    "Verify if the GPU is working"
   ]
  },
  {
   "cell_type": "code",
   "execution_count": 3,
   "metadata": {},
   "outputs": [
    {
     "name": "stdout",
     "output_type": "stream",
     "text": [
      "Sat Nov 25 11:36:28 2023       \n",
      "+-----------------------------------------------------------------------------+\n",
      "| NVIDIA-SMI 525.147.05   Driver Version: 525.147.05   CUDA Version: 12.0     |\n",
      "|-------------------------------+----------------------+----------------------+\n",
      "| GPU  Name        Persistence-M| Bus-Id        Disp.A | Volatile Uncorr. ECC |\n",
      "| Fan  Temp  Perf  Pwr:Usage/Cap|         Memory-Usage | GPU-Util  Compute M. |\n",
      "|                               |                      |               MIG M. |\n",
      "|===============================+======================+======================|\n",
      "|   0  NVIDIA RTX A4000    Off  | 00000000:B3:00.0  On |                  Off |\n",
      "| 41%   37C    P8    21W / 140W |    368MiB / 16376MiB |     39%      Default |\n",
      "|                               |                      |                  N/A |\n",
      "+-------------------------------+----------------------+----------------------+\n",
      "                                                                               \n",
      "+-----------------------------------------------------------------------------+\n",
      "| Processes:                                                                  |\n",
      "|  GPU   GI   CI        PID   Type   Process name                  GPU Memory |\n",
      "|        ID   ID                                                   Usage      |\n",
      "|=============================================================================|\n",
      "|    0   N/A  N/A      1953      G   /usr/lib/xorg/Xorg                 39MiB |\n",
      "|    0   N/A  N/A      4030      G   /usr/lib/xorg/Xorg                119MiB |\n",
      "|    0   N/A  N/A      4225      G   /usr/bin/gnome-shell               85MiB |\n",
      "|    0   N/A  N/A      8083      G   ...mviewer/tv_bin/TeamViewer       19MiB |\n",
      "|    0   N/A  N/A      8368      G   ...RendererForSitePerProcess       92MiB |\n",
      "+-----------------------------------------------------------------------------+\n"
     ]
    }
   ],
   "source": [
    "!nvidia-smi"
   ]
  },
  {
   "cell_type": "code",
   "execution_count": 4,
   "metadata": {},
   "outputs": [
    {
     "name": "stdout",
     "output_type": "stream",
     "text": [
      "Pytorch Lightning Version: 1.9.5\n",
      "Device name: b'NVIDIA RTX A4000'\n"
     ]
    }
   ],
   "source": [
    "print(f\"Pytorch Lightning Version: {pl.__version__}\")\n",
    "nvidia_smi.nvmlInit()\n",
    "handle = nvidia_smi.nvmlDeviceGetHandleByIndex(0)\n",
    "print(f\"Device name: {nvidia_smi.nvmlDeviceGetName(handle)}\")"
   ]
  },
  {
   "cell_type": "markdown",
   "metadata": {},
   "source": [
    "Define hyperparameters"
   ]
  },
  {
   "cell_type": "code",
   "execution_count": 5,
   "metadata": {},
   "outputs": [
    {
     "data": {
      "text/plain": [
       "{'version': 'wav2vec2-sound_sismic_train',\n",
       " 'lr': 1e-05,\n",
       " 'w_decay': 0.0001,\n",
       " 'bs': 16,\n",
       " 'patience': 15,\n",
       " 'hold_epochs': 20,\n",
       " 'accum_grads': 4,\n",
       " 'pretrained': 'facebook/wav2vec2-base-960h',\n",
       " 'wav2vec2_processor': 'facebook/wav2vec2-base-960h',\n",
       " 'freeze_finetune_updates': 0,\n",
       " 'warmup_epochs': 40,\n",
       " 'apply_mask': False,\n",
       " 'mask_time_length': 1,\n",
       " 'max_epochs': 300}"
      ]
     },
     "execution_count": 5,
     "metadata": {},
     "output_type": "execute_result"
    }
   ],
   "source": [
    "version = \"wav2vec2-sound_sismic_train\" #@param {type: \"string\"}\n",
    "lr = 1e-5#@param {type: \"number\"}\n",
    "w_decay = 1e-4#@param {type: \"number\"}\n",
    "bs = 16#@param {type: \"integer\"}\n",
    "accum_grads = 4#@param {type: \"integer\"}\n",
    "patience = 15#@param {type: \"integer\"}\n",
    "max_epochs = 300#@param {type: \"integer\"}\n",
    "# warmup_steps = 1000#@param {type: \"integer\"}\n",
    "hold_epochs = 20#@param {type: \"integer\"}\n",
    "pretrained = \"facebook/wav2vec2-base-960h\"#@param {type: \"string\"}\n",
    "wav2vec2_processor = \"facebook/wav2vec2-base-960h\"#@param {type: \"string\"}\n",
    "freeze_finetune_updates = 0#@param {type: \"integer\"}\n",
    "warmup_epochs = 40#@param {type: \"integer\"}\n",
    "apply_mask=False#@param {type: \"boolean\"}\n",
    "mask_time_length= 1#@param {type: \"integer\"}, era 1\n",
    "\n",
    "# Define hyperparameters\n",
    "hparams = {\"version\": version,\n",
    "          \"lr\": lr,\n",
    "          \"w_decay\": w_decay,\n",
    "          \"bs\": bs,\n",
    "          \"patience\": patience,\n",
    "          \"hold_epochs\":hold_epochs,\n",
    "          \"accum_grads\": accum_grads,\n",
    "          \"pretrained\":pretrained,\n",
    "          \"wav2vec2_processor\": wav2vec2_processor,\n",
    "          \"freeze_finetune_updates\":freeze_finetune_updates,\n",
    "          \"warmup_epochs\":warmup_epochs,\n",
    "          \"apply_mask\":apply_mask,\n",
    "          \"mask_time_length\":mask_time_length,\n",
    "          \"max_epochs\": max_epochs}\n",
    "hparams"
   ]
  },
  {
   "cell_type": "markdown",
   "metadata": {},
   "source": [
    "Use the original processor from Wav2Vec2"
   ]
  },
  {
   "cell_type": "code",
   "execution_count": 6,
   "metadata": {},
   "outputs": [],
   "source": [
    "processor = Wav2Vec2Processor.from_pretrained(hparams[\"wav2vec2_processor\"], return_attention_mask=True)"
   ]
  },
  {
   "cell_type": "code",
   "execution_count": 7,
   "metadata": {},
   "outputs": [
    {
     "name": "stdout",
     "output_type": "stream",
     "text": [
      "Wav2Vec2Processor:\n",
      "- feature_extractor: Wav2Vec2FeatureExtractor {\n",
      "  \"do_normalize\": true,\n",
      "  \"feature_extractor_type\": \"Wav2Vec2FeatureExtractor\",\n",
      "  \"feature_size\": 1,\n",
      "  \"padding_side\": \"right\",\n",
      "  \"padding_value\": 0.0,\n",
      "  \"return_attention_mask\": true,\n",
      "  \"sampling_rate\": 16000\n",
      "}\n",
      "\n",
      "- tokenizer: PreTrainedTokenizer(name_or_path='facebook/wav2vec2-base-960h', vocab_size=32, model_max_len=9223372036854775807, is_fast=False, padding_side='right', truncation_side='right', special_tokens={'bos_token': '<s>', 'eos_token': '</s>', 'unk_token': '<unk>', 'pad_token': '<pad>'})\n"
     ]
    }
   ],
   "source": [
    "print(processor)"
   ]
  },
  {
   "cell_type": "code",
   "execution_count": 8,
   "metadata": {},
   "outputs": [
    {
     "name": "stderr",
     "output_type": "stream",
     "text": [
      "Some weights of the model checkpoint at facebook/wav2vec2-base-960h were not used when initializing Wav2Vec2Model: ['lm_head.bias', 'lm_head.weight']\n",
      "- This IS expected if you are initializing Wav2Vec2Model from the checkpoint of a model trained on another task or with another architecture (e.g. initializing a BertForSequenceClassification model from a BertForPreTraining model).\n",
      "- This IS NOT expected if you are initializing Wav2Vec2Model from the checkpoint of a model that you expect to be exactly identical (initializing a BertForSequenceClassification model from a BertForSequenceClassification model).\n",
      "Some weights of Wav2Vec2Model were not initialized from the model checkpoint at facebook/wav2vec2-base-960h and are newly initialized: ['wav2vec2.masked_spec_embed']\n",
      "You should probably TRAIN this model on a down-stream task to be able to use it for predictions and inference.\n"
     ]
    }
   ],
   "source": [
    "model = Wav2Vec2Model.from_pretrained(hparams[\"pretrained\"])"
   ]
  },
  {
   "cell_type": "code",
   "execution_count": 9,
   "metadata": {},
   "outputs": [
    {
     "name": "stdout",
     "output_type": "stream",
     "text": [
      "Wav2Vec2Model(\n",
      "  (feature_extractor): Wav2Vec2FeatureEncoder(\n",
      "    (conv_layers): ModuleList(\n",
      "      (0): Wav2Vec2GroupNormConvLayer(\n",
      "        (conv): Conv1d(1, 512, kernel_size=(10,), stride=(5,), bias=False)\n",
      "        (activation): GELUActivation()\n",
      "        (layer_norm): GroupNorm(512, 512, eps=1e-05, affine=True)\n",
      "      )\n",
      "      (1-4): 4 x Wav2Vec2NoLayerNormConvLayer(\n",
      "        (conv): Conv1d(512, 512, kernel_size=(3,), stride=(2,), bias=False)\n",
      "        (activation): GELUActivation()\n",
      "      )\n",
      "      (5-6): 2 x Wav2Vec2NoLayerNormConvLayer(\n",
      "        (conv): Conv1d(512, 512, kernel_size=(2,), stride=(2,), bias=False)\n",
      "        (activation): GELUActivation()\n",
      "      )\n",
      "    )\n",
      "  )\n",
      "  (feature_projection): Wav2Vec2FeatureProjection(\n",
      "    (layer_norm): LayerNorm((512,), eps=1e-05, elementwise_affine=True)\n",
      "    (projection): Linear(in_features=512, out_features=768, bias=True)\n",
      "    (dropout): Dropout(p=0.1, inplace=False)\n",
      "  )\n",
      "  (encoder): Wav2Vec2Encoder(\n",
      "    (pos_conv_embed): Wav2Vec2PositionalConvEmbedding(\n",
      "      (conv): Conv1d(768, 768, kernel_size=(128,), stride=(1,), padding=(64,), groups=16)\n",
      "      (padding): Wav2Vec2SamePadLayer()\n",
      "      (activation): GELUActivation()\n",
      "    )\n",
      "    (layer_norm): LayerNorm((768,), eps=1e-05, elementwise_affine=True)\n",
      "    (dropout): Dropout(p=0.1, inplace=False)\n",
      "    (layers): ModuleList(\n",
      "      (0-11): 12 x Wav2Vec2EncoderLayer(\n",
      "        (attention): Wav2Vec2Attention(\n",
      "          (k_proj): Linear(in_features=768, out_features=768, bias=True)\n",
      "          (v_proj): Linear(in_features=768, out_features=768, bias=True)\n",
      "          (q_proj): Linear(in_features=768, out_features=768, bias=True)\n",
      "          (out_proj): Linear(in_features=768, out_features=768, bias=True)\n",
      "        )\n",
      "        (dropout): Dropout(p=0.1, inplace=False)\n",
      "        (layer_norm): LayerNorm((768,), eps=1e-05, elementwise_affine=True)\n",
      "        (feed_forward): Wav2Vec2FeedForward(\n",
      "          (intermediate_dropout): Dropout(p=0.1, inplace=False)\n",
      "          (intermediate_dense): Linear(in_features=768, out_features=3072, bias=True)\n",
      "          (intermediate_act_fn): GELUActivation()\n",
      "          (output_dense): Linear(in_features=3072, out_features=768, bias=True)\n",
      "          (output_dropout): Dropout(p=0.1, inplace=False)\n",
      "        )\n",
      "        (final_layer_norm): LayerNorm((768,), eps=1e-05, elementwise_affine=True)\n",
      "      )\n",
      "    )\n",
      "  )\n",
      ")\n"
     ]
    }
   ],
   "source": [
    "print(model)"
   ]
  },
  {
   "cell_type": "code",
   "execution_count": 10,
   "metadata": {},
   "outputs": [
    {
     "name": "stdout",
     "output_type": "stream",
     "text": [
      "Wav2Vec2FeatureEncoder(\n",
      "  (conv_layers): ModuleList(\n",
      "    (0): Wav2Vec2GroupNormConvLayer(\n",
      "      (conv): Conv1d(1, 512, kernel_size=(10,), stride=(5,), bias=False)\n",
      "      (activation): GELUActivation()\n",
      "      (layer_norm): GroupNorm(512, 512, eps=1e-05, affine=True)\n",
      "    )\n",
      "    (1-4): 4 x Wav2Vec2NoLayerNormConvLayer(\n",
      "      (conv): Conv1d(512, 512, kernel_size=(3,), stride=(2,), bias=False)\n",
      "      (activation): GELUActivation()\n",
      "    )\n",
      "    (5-6): 2 x Wav2Vec2NoLayerNormConvLayer(\n",
      "      (conv): Conv1d(512, 512, kernel_size=(2,), stride=(2,), bias=False)\n",
      "      (activation): GELUActivation()\n",
      "    )\n",
      "  )\n",
      ")\n"
     ]
    }
   ],
   "source": [
    "print(model.feature_extractor)"
   ]
  },
  {
   "cell_type": "markdown",
   "metadata": {},
   "source": [
    "DO THE TRAIN-TEST SPLIT"
   ]
  },
  {
   "cell_type": "code",
   "execution_count": 11,
   "metadata": {},
   "outputs": [],
   "source": [
    "#from sklearn.model_selection import train_test_split\n",
    "#import os\n",
    "#import shutil\n",
    "#import librosa\n",
    "\n",
    "# #Define la ruta de la carpeta que contiene los archivos de audio\n",
    "#input_folder = '/media/cslab03/TOSHIBA EXT/TESIS/DataSet/AudioSismig1/'\n",
    "\n",
    "# #Lista todos los archivos de la carpeta\n",
    "#files = [os.path.join(input_folder, file) for file in os.listdir(input_folder)]\n",
    "\n",
    "# #Define las proporciones para train, test y validation sets\n",
    "#train_ratio = 0.7\n",
    "#test_ratio = 0.15\n",
    "#validation_ratio = 0.15\n",
    "\n",
    "# ##Divide los datos en train, test y validation sets\n",
    "#train_files, temp_files = train_test_split(files, test_size=1 - train_ratio)\n",
    "#test_files, validation_files = train_test_split(temp_files, test_size=validation_ratio / (test_ratio + validation_ratio))\n",
    "\n",
    " #Define las carpetas de salida\n",
    "#output_folder = './data1/'\n",
    "#os.makedirs(os.path.join(output_folder, 'train'), exist_ok=True)\n",
    "#os.makedirs(os.path.join(output_folder, 'test'), exist_ok=True)\n",
    "#os.makedirs(os.path.join(output_folder, 'validation'), exist_ok=True)\n",
    "\n",
    "\n",
    " #Copia los archivos a las carpetas correspondientes\n",
    "#for file in train_files:\n",
    "#    if 'BHZ' in file:    \n",
    "#        try:\n",
    "#            audio, _ = librosa.load(file, sr=None)\n",
    "#            shutil.copy(file, os.path.join(output_folder, 'train'))\n",
    "#        except Exception as e:\n",
    "#            print(e)\n",
    "#            print(file)\n",
    "#    else:\n",
    "#        continue\n",
    "    \n",
    "#for file in test_files:\n",
    "#    if 'BHZ' in file:\n",
    "#        try:\n",
    "#            audio, _ = librosa.load(file, sr=None)\n",
    "#            shutil.copy(file, os.path.join(output_folder, 'test'))\n",
    "#        except Exception as e:\n",
    "#            print(e)\n",
    "#            print(file)\n",
    "#    else:\n",
    "#        continue\n",
    "    \n",
    "#for file in validation_files:\n",
    "#    if 'BHZ' in file:\n",
    "#        try:\n",
    "#            audio, _ = librosa.load(file, sr=None)\n",
    "#            shutil.copy(file, os.path.join(output_folder, 'validation'))\n",
    "#        except Exception as e:\n",
    "#            print(e)\n",
    "#            print(file)\n",
    "#    else:\n",
    "#        continue\n",
    "\n",
    "#print(\"Data split completed.\")\n"
   ]
  },
  {
   "cell_type": "code",
   "execution_count": 12,
   "metadata": {},
   "outputs": [],
   "source": [
    "# from sklearn.model_selection import train_test_split\n",
    "# import os\n",
    "# import shutil\n",
    "# import librosa\n",
    "\n",
    "# # Define la ruta de la carpeta que contiene los archivos de audio\n",
    "# input_folder = '/home/cslab03/Desktop/QuakeWavNet/test_audios/'\n",
    "\n",
    "# # Lista todos los archivos de la carpeta\n",
    "# files = [os.path.join(input_folder, file) for file in os.listdir(input_folder)]\n",
    "\n",
    "# # Filtra los archivos 'LP' y 'VT'\n",
    "# lp_files = [file for file in files if '_00.wav' in file]\n",
    "# vt_files = [file for file in files if '_01.wav' in file]\n",
    "\n",
    "# print(f'LP files: {len(lp_files)}')\n",
    "# print(f'VT files: {len(vt_files)}')\n",
    "# # Define las proporciones para train, test y validation sets\n",
    "# train_ratio = 0.7\n",
    "# test_ratio = 0.15\n",
    "# validation_ratio = 0.15\n",
    "\n",
    "# # Divide los datos en train, test y validation sets\n",
    "# lp_train_files, lp_temp_files = train_test_split(lp_files, test_size=1 - train_ratio)\n",
    "# lp_test_files, lp_validation_files = train_test_split(lp_temp_files, test_size=validation_ratio / (test_ratio + validation_ratio))\n",
    "# print(f'LP train files: {len(lp_train_files)}')\n",
    "# print(f'LP test files: {len(lp_test_files)}')\n",
    "# print(f'LP validation files: {len(lp_validation_files)}')\n",
    "\n",
    "# vt_train_files, vt_temp_files = train_test_split(vt_files, test_size=1 - train_ratio)\n",
    "# vt_test_files, vt_validation_files = train_test_split(vt_temp_files, test_size=validation_ratio / (test_ratio + validation_ratio))\n",
    "# print(f'VT train files: {len(vt_train_files)}')\n",
    "# print(f'VT test files: {len(vt_test_files)}')\n",
    "# print(f'VT validation files: {len(vt_validation_files)}')\n",
    "\n",
    "\n",
    "# # Define las carpetas de salida\n",
    "# output_folder = './data2/'\n",
    "# os.makedirs(os.path.join(output_folder, 'train'), exist_ok=True)\n",
    "# os.makedirs(os.path.join(output_folder, 'test'), exist_ok=True)\n",
    "# os.makedirs(os.path.join(output_folder, 'validation'), exist_ok=True)\n",
    "\n",
    "# # Copia los archivos 'LP' a las carpetas correspondientes\n",
    "# for file in lp_train_files:\n",
    "#     try:\n",
    "#         audio, _ = librosa.load(file, sr=None)\n",
    "#         shutil.copy(file, os.path.join(output_folder, 'train'))\n",
    "#     except Exception as e:\n",
    "#         print(e)\n",
    "#         print(file)\n",
    "\n",
    "# for file in lp_test_files:\n",
    "#     try:\n",
    "#         audio, _ = librosa.load(file, sr=None)\n",
    "#         shutil.copy(file, os.path.join(output_folder, 'test'))\n",
    "#     except Exception as e:\n",
    "#         print(e)\n",
    "#         print(file)\n",
    "\n",
    "# for file in lp_validation_files:\n",
    "#     try:\n",
    "#         audio, _ = librosa.load(file, sr=None)\n",
    "#         shutil.copy(file, os.path.join(output_folder, 'validation'))\n",
    "#     except Exception as e:\n",
    "#         print(e)\n",
    "#         print(file)\n",
    "\n",
    "# # Copia los archivos 'VT' a las carpetas correspondientes\n",
    "# for file in vt_train_files:\n",
    "#     try:\n",
    "#         audio, _ = librosa.load(file, sr=None)\n",
    "#         shutil.copy(file, os.path.join(output_folder, 'train'))\n",
    "#     except Exception as e:\n",
    "#         print(e)\n",
    "#         print(file)\n",
    "\n",
    "# for file in vt_test_files:\n",
    "#     try:\n",
    "#         audio, _ = librosa.load(file, sr=None)\n",
    "#         shutil.copy(file, os.path.join(output_folder, 'test'))\n",
    "#     except Exception as e:\n",
    "#         print(e)\n",
    "#         print(file)\n",
    "\n",
    "# for file in vt_validation_files:\n",
    "#     try:\n",
    "#         audio, _ = librosa.load(file, sr=None)\n",
    "#         shutil.copy(file, os.path.join(output_folder, 'validation'))\n",
    "#     except Exception as e:\n",
    "#         print(e)\n",
    "#         print(file)\n"
   ]
  },
  {
   "cell_type": "markdown",
   "metadata": {},
   "source": [
    "Create the dataset to use DataLoader"
   ]
  },
  {
   "cell_type": "code",
   "execution_count": 13,
   "metadata": {},
   "outputs": [],
   "source": [
    "import torch\n",
    "import torchaudio\n",
    "from transformers import Wav2Vec2Processor\n",
    "from transformers import AutoFeatureExtractor\n",
    "\n",
    "class ANSYN_Dataset_SE(torch.utils.data.Dataset):\n",
    "\n",
    "    def __init__(self, filenames, audio_path):\n",
    "        self.filenames = [filename for filename in filenames if not any(substring in filename for substring in ['TRBA', 'EXPL', 'VLP', 'TRESP','HB'])]\n",
    "        self.audio_path = audio_path\n",
    "        self.feature_extractor = AutoFeatureExtractor.from_pretrained(hparams[\"pretrained\"])\n",
    "    \n",
    "    def preprocess_function(self, audio_arrays):        \n",
    "        inputs = self.feature_extractor(\n",
    "            audio_arrays, sampling_rate=self.feature_extractor.sampling_rate, max_length=16000, truncation=True\n",
    "        )\n",
    "        return inputs\n",
    "\n",
    "    def normalize_layer(self, feats):\n",
    "        with torch.no_grad():\n",
    "            feats = torch.nn.functional.layer_norm(feats, feats.shape)\n",
    "        return feats\n",
    "\n",
    "    def __len__(self):\n",
    "        return len(self.filenames)\n",
    "\n",
    "    def __getitem__(self, index):\n",
    "        # Intenta cargar el archivo de audio\n",
    "        feats, _ = torchaudio.load(self.filenames[index])\n",
    "\n",
    "        # Asigna una etiqueta de destino basada en el nombre del archivo\n",
    "        if 'LP' in self.filenames[index]:\n",
    "            target = torch.tensor(int('00')).long() \n",
    "        elif 'VT' in self.filenames[index]:\n",
    "            target = torch.tensor(int('01')).long()\n",
    "        else:\n",
    "            # Si las etiquetas están codificadas en el nombre del archivo\n",
    "            target = torch.tensor(int(self.filenames[index][-6:-4])).long()\n",
    "\n",
    "        feats = self.normalize_layer(feats)\n",
    "        feats = self.preprocess_function(feats.numpy())\n",
    "        feats = torch.tensor(feats.input_values).float()\n",
    "        feats = feats.squeeze()\n",
    "        \n",
    "        \n",
    "        \n",
    "        \n",
    "        return {\"input_values\": feats, \"label\": target}\n",
    "\n"
   ]
  },
  {
   "cell_type": "code",
   "execution_count": 14,
   "metadata": {},
   "outputs": [],
   "source": [
    "@dataclass\n",
    "class DataCollatorWithPadding:\n",
    "    processor: Wav2Vec2Processor\n",
    "    padding: Union[bool, str] = True\n",
    "    max_length: Optional[int] = None\n",
    "    max_length_labels: Optional[int] = None\n",
    "    pad_to_multiple_of: Optional[int] = None\n",
    "    pad_to_multiple_of_labels: Optional[int] = None\n",
    "@dataclass\n",
    "class DataCollatorWithPadding:\n",
    "     \"\"\"\n",
    "     Data collator that will dynamically pad the inputs received.\n",
    "     Args:\n",
    "        processor (:class:`~transformers.Wav2Vec2Processor`)\n",
    "             The processor used for proccessing the data.\n",
    "         padding (:obj:`bool`, :obj:`str` or :class:`~transformers.tokenization_utils_base.PaddingStrategy`, `optional`, defaults to :obj:`True`):\n",
    "             Select a strategy to pad the returned sequences (according to the model's padding side and padding index)\n",
    "             among:\n",
    "             * :obj:`True` or :obj:`'longest'`: Pad to the longest sequence in the batch (or no padding if only a single\n",
    "               sequence if provided).\n",
    "             * :obj:`'max_length'`: Pad to a maximum length specified with the argument :obj:`max_length` or to the\n",
    "               maximum acceptable input length for the model if that argument is not provided.\n",
    "             * :obj:`False` or :obj:`'do_not_pad'` (default): No padding (i.e., can output a batch with sequences of\n",
    "               different lengths).\n",
    "         max_length (:obj:`int`, `optional`):\n",
    "             Maximum length of the ``input_values`` of the returned list and optionally padding length (see above).\n",
    "         max_length_labels (:obj:`int`, `optional`):\n",
    "             Maximum length of the ``labels`` returned list and optionally padding length (see above).\n",
    "         pad_to_multiple_of (:obj:`int`, `optional`):\n",
    "             If set will pad the sequence to a multiple of the provided value.\n",
    "             This is especially useful to enable the use of Tensor Cores on NVIDIA hardware with compute capability >=\n",
    "             7.5 (Volta).\n",
    "     \"\"\"\n",
    "     processor: Wav2Vec2Processor\n",
    "     padding: Union[bool, str] = True\n",
    "     max_length: Optional[int] = None\n",
    "     max_length_labels: Optional[int] = None\n",
    "     pad_to_multiple_of: Optional[int] = None\n",
    "     pad_to_multiple_of_labels: Optional[int] = None\n",
    "\n",
    "     def __call__(self, features: List[Dict[str, Union[List[int], torch.Tensor]]]) -> Dict[str, torch.Tensor]:\n",
    "                \n",
    "        input_features = [{\"input_values\": feature[\"input_values\"]} for feature in features]\n",
    "        label_features = [{\"input_ids\": feature[\"label\"]} for feature in features]\n",
    "        batch = self.processor.pad(\n",
    "             input_features,\n",
    "             padding=self.padding,\n",
    "             max_length=self.max_length,\n",
    "             pad_to_multiple_of=self.pad_to_multiple_of,\n",
    "             return_tensors=\"pt\",\n",
    "         )\n",
    "        #print('batch', batch)\n",
    "        with self.processor.as_target_processor(): labels_batch = self.processor.pad( label_features, padding=True,max_length=self.max_length_labels,pad_to_multiple_of=self.pad_to_multiple_of_labels,return_tensors=\"pt\",)\n",
    "        #print('labels_batch', labels_batch)\n",
    "\n",
    "        labels = labels_batch[\"input_ids\"]\n",
    "\n",
    "        batch[\"label\"] = labels\n",
    "\n",
    "        return batch"
   ]
  },
  {
   "cell_type": "code",
   "execution_count": 15,
   "metadata": {},
   "outputs": [],
   "source": [
    "from sklearn.model_selection import StratifiedKFold\n",
    "from sklearn.model_selection import train_test_split"
   ]
  },
  {
   "cell_type": "markdown",
   "metadata": {},
   "source": [
    "DataModule to create kfold and train, validation and test dataset"
   ]
  },
  {
   "cell_type": "code",
   "execution_count": 16,
   "metadata": {},
   "outputs": [],
   "source": [
    "from pytorch_lightning.utilities.types import EVAL_DATALOADERS\n",
    "\n",
    "\n",
    "class SismgDataModule(pl.LightningDataModule):\n",
    "    def __init__(self, audio_path,list_dir, total_kfold, batch_size, data_collator):\n",
    "        super().__init__()\n",
    "        self.audio_path = audio_path\n",
    "        self.file_dir = list_dir\n",
    "        self.total_kfold = total_kfold\n",
    "        self.batch_size = batch_size\n",
    "        self.data_collator = data_collator\n",
    "        self.folds = None\n",
    "        self.train_dataset = None\n",
    "        self.val_dataset = None\n",
    "        self.test_dataset = None\n",
    "        self.labels = None\n",
    "        self.weights = ()\n",
    "        self.set_folds()\n",
    "    \n",
    "\n",
    "    def train_dataloader(self):\n",
    "        return DataLoader(self.train_dataset, batch_size=self.batch_size,\n",
    "                          collate_fn = self.data_collator,\n",
    "                          shuffle=True, num_workers=4)\n",
    "\n",
    "    def val_dataloader(self):\n",
    "        return DataLoader(self.val_dataset, batch_size=self.batch_size,\n",
    "                          collate_fn = self.data_collator,\n",
    "                          shuffle=False, num_workers=4)\n",
    "\n",
    "    def test_dataloader(self):\n",
    "        return DataLoader(self.test_dataset, batch_size=self.batch_size,\n",
    "                          collate_fn = self.data_collator,\n",
    "                          shuffle=False, num_workers=4)\n",
    "        \n",
    "    def predict_dataloader(self):\n",
    "        return DataLoader(self.test_dataset, batch_size=self.batch_size,\n",
    "                          collate_fn = self.data_collator,\n",
    "                          shuffle=False, num_workers=4)\n",
    "\n",
    "    def setup(self, fold, stage=None):\n",
    "        file_dir = []\n",
    "        for file in self.file_dir:\n",
    "            if '_LP.' in file:\n",
    "                file = file.replace('_LP', '_00')\n",
    "            elif '_VT.' in file:\n",
    "                file = file.replace('_VT', '_01')\n",
    "            else:\n",
    "                continue\n",
    "            file_dir.append(file)\n",
    "        train_index, val_index = train_test_split(self.folds[fold][0], test_size=0.2, random_state=42, stratify=[int(file_dir[file][-6:-4]) for file in self.folds[fold][0]])\n",
    "        \n",
    "        train_dir = [self.file_dir[file]for file in train_index]\n",
    "        val_dir = [self.file_dir[file]for file in val_index]\n",
    "        test_dir = [self.file_dir[file]for file in self.folds[fold][1]]\n",
    "        \n",
    "        self.train_dataset = ANSYN_Dataset_SE(train_dir, self.audio_path)\n",
    "        self.val_dataset = ANSYN_Dataset_SE(val_dir, self.audio_path)\n",
    "        self.test_dataset = ANSYN_Dataset_SE(test_dir, self.audio_path)\n",
    "        self.weights = self.weights_labels()\n",
    "            \n",
    "    def set_folds(self):\n",
    "        self.folds = []\n",
    "        file_dir = []\n",
    "        for file in self.file_dir:\n",
    "            if '_LP.' in file:\n",
    "                file = file.replace('_LP', '_00')\n",
    "            elif '_VT.' in file:\n",
    "                file = file.replace('_VT', '_01')\n",
    "            else:\n",
    "                continue\n",
    "            file_dir.append(file)\n",
    "        kfold = StratifiedKFold(n_splits=self.total_kfold, shuffle=True, random_state=42)\n",
    "        kfold_split = kfold.split(self.file_dir, [int(file[-6:-4]) for file in file_dir])\n",
    "        for fold in range(0,kfold.get_n_splits()):\n",
    "            print(f'-------------Fold: {fold+1}----------------')\n",
    "            self.folds.append(next(kfold_split))\n",
    "            print(self.folds[fold])\n",
    "    \n",
    "    def weights_labels(self):\n",
    "        classes_train = {}\n",
    "        classes_val = {}\n",
    "        classes_test = {}\n",
    "        for data in self.train_dataset:\n",
    "            label = data[\"label\"].item()\n",
    "                    \n",
    "            if label in classes_train:\n",
    "                classes_train[label] += 1\n",
    "            else:\n",
    "                classes_train[label] = 1\n",
    "                \n",
    "        for data in self.val_dataset:\n",
    "            label = data[\"label\"].item()\n",
    "                    \n",
    "            if label in classes_val:\n",
    "                classes_val[label] += 1\n",
    "            else:\n",
    "                classes_val[label] = 1\n",
    "\n",
    "        for data in self.test_dataset:\n",
    "            label = data[\"label\"].item()\n",
    "                    \n",
    "            if label in classes_test:\n",
    "                classes_test[label] += 1\n",
    "            else:\n",
    "                classes_test[label] = 1\n",
    "\n",
    "        classes_train = dict(sorted(classes_train.items(), key=lambda x: x[0]))\n",
    "        classes_val = dict(sorted(classes_val.items(), key=lambda x: x[0]))\n",
    "        classes_test = dict(sorted(classes_test.items(), key=lambda x: x[0]))\n",
    "        classes_weights_train = [round(len(self.train_dataset) / (len(classes_train) * classes_train[class_id]), 4) for class_id in classes_train]\n",
    "        classes_weights_train = torch.FloatTensor(classes_weights_train).to('cuda')\n",
    "\n",
    "        classes_weights_val = [round(len(self.val_dataset) / (len(classes_val) * classes_val[class_id]), 4) for class_id in classes_val]\n",
    "        classes_weights_val = torch.FloatTensor(classes_weights_val).to('cuda')\n",
    "\n",
    "        classes_weights_test = [round(len(self.test_dataset) / (len(classes_test) * classes_test[class_id]), 4) for class_id in classes_test]\n",
    "        classes_weights_test = torch.FloatTensor(classes_weights_test).to('cuda')\n",
    "        \n",
    "        \n",
    "        self.labels = classes_train.keys()\n",
    "        self.labels = list(self.labels)\n",
    "        \n",
    "        return classes_weights_train, classes_weights_val, classes_weights_test\n",
    "        \n"
   ]
  },
  {
   "cell_type": "code",
   "execution_count": 17,
   "metadata": {},
   "outputs": [],
   "source": [
    "audio_path = '/home/cslab03/Desktop/test2/AudioSismig1/'"
   ]
  },
  {
   "cell_type": "code",
   "execution_count": 18,
   "metadata": {},
   "outputs": [
    {
     "data": {
      "text/plain": [
       "'/home/cslab03/Desktop/test2/AudioSismig1/2e55d06a9ef7dcd44da6bf9fea6c372e_BDF_BTAM_LP.wav'"
      ]
     },
     "execution_count": 18,
     "metadata": {},
     "output_type": "execute_result"
    }
   ],
   "source": [
    "files = [os.path.join(audio_path, file) for file in os.listdir(audio_path)]\n",
    "files[0]"
   ]
  },
  {
   "cell_type": "code",
   "execution_count": 19,
   "metadata": {},
   "outputs": [
    {
     "name": "stdout",
     "output_type": "stream",
     "text": [
      "20459\n"
     ]
    }
   ],
   "source": [
    "import os\n",
    "import librosa\n",
    "\n",
    "list_dir = []\n",
    "lp_count = 0\n",
    "vt_count = 0\n",
    "\n",
    "for file in files:\n",
    "    if 'BHZ' in file:\n",
    "        try:\n",
    "            audio, _ = torchaudio.load(file)\n",
    "            list_dir.append(file)\n",
    "        except Exception as e:\n",
    "            print(e)\n",
    "            print(file)\n",
    "\n",
    "list_dir = [filename for filename in list_dir if not any(substring in filename for substring in ['TRBA', 'EXPL', 'VLP', 'TRESP','HB'])]\n",
    "\n",
    "print(len(list_dir))\n"
   ]
  },
  {
   "cell_type": "code",
   "execution_count": 20,
   "metadata": {},
   "outputs": [],
   "source": [
    "data_collator = DataCollatorWithPadding(processor=processor,\n",
    "                                        #max_length=188,\n",
    "                                        padding=True)"
   ]
  },
  {
   "cell_type": "code",
   "execution_count": 21,
   "metadata": {},
   "outputs": [
    {
     "name": "stdout",
     "output_type": "stream",
     "text": [
      "-------------Fold: 1----------------\n",
      "(array([    1,     2,     4, ..., 20456, 20457, 20458]), array([    0,     3,    13, ..., 20441, 20442, 20454]))\n",
      "-------------Fold: 2----------------\n",
      "(array([    0,     1,     2, ..., 20456, 20457, 20458]), array([   21,    26,    30, ..., 20410, 20435, 20453]))\n",
      "-------------Fold: 3----------------\n",
      "(array([    0,     1,     3, ..., 20456, 20457, 20458]), array([    2,     7,    10, ..., 20396, 20417, 20426]))\n",
      "-------------Fold: 4----------------\n",
      "(array([    0,     1,     2, ..., 20456, 20457, 20458]), array([   24,    35,    50, ..., 20446, 20449, 20455]))\n",
      "-------------Fold: 5----------------\n",
      "(array([    0,     1,     2, ..., 20455, 20456, 20458]), array([   43,    49,    51, ..., 20405, 20447, 20457]))\n",
      "-------------Fold: 6----------------\n",
      "(array([    0,     1,     2, ..., 20455, 20457, 20458]), array([    6,     8,    15, ..., 20431, 20433, 20456]))\n",
      "-------------Fold: 7----------------\n",
      "(array([    0,     1,     2, ..., 20456, 20457, 20458]), array([   14,    17,    22, ..., 20450, 20451, 20452]))\n",
      "-------------Fold: 8----------------\n",
      "(array([    0,     2,     3, ..., 20456, 20457, 20458]), array([    1,     4,    11, ..., 20436, 20439, 20443]))\n",
      "-------------Fold: 9----------------\n",
      "(array([    0,     1,     2, ..., 20455, 20456, 20457]), array([    9,    23,    25, ..., 20438, 20448, 20458]))\n",
      "-------------Fold: 10----------------\n",
      "(array([    0,     1,     2, ..., 20456, 20457, 20458]), array([    5,    18,    29, ..., 20427, 20428, 20444]))\n"
     ]
    }
   ],
   "source": [
    "dataset = SismgDataModule(audio_path=audio_path, list_dir=list_dir, total_kfold=10, batch_size=hparams[\"bs\"], data_collator=data_collator)"
   ]
  },
  {
   "cell_type": "markdown",
   "metadata": {},
   "source": [
    "Metrics to track during the training"
   ]
  },
  {
   "cell_type": "code",
   "execution_count": 22,
   "metadata": {},
   "outputs": [],
   "source": [
    "n_classes = 2\n",
    "f1 = F1Score(num_classes=n_classes, average='weighted', task='multiclass')\n",
    "accuracy = Accuracy(num_classes=n_classes,task='multiclass')"
   ]
  },
  {
   "cell_type": "code",
   "execution_count": 23,
   "metadata": {},
   "outputs": [],
   "source": [
    "from pytorch_lightning.loggers import TensorBoardLogger\n",
    "from torchmetrics import ConfusionMatrix\n",
    "import seaborn as sns\n",
    "import matplotlib.pyplot as plt\n",
    "from PIL import Image\n",
    "import io\n",
    "import torchvision\n",
    "from transformers import Wav2Vec2Tokenizer\n",
    "from sklearn.manifold import TSNE\n",
    "from torch.nn import CrossEntropyLoss\n"
   ]
  },
  {
   "cell_type": "code",
   "execution_count": 24,
   "metadata": {},
   "outputs": [],
   "source": [
    "from pytorch_lightning.trainer.supporters import CombinedLoader\n",
    "import itertools\n"
   ]
  },
  {
   "cell_type": "code",
   "execution_count": 25,
   "metadata": {},
   "outputs": [],
   "source": [
    "# # Define hyperparameters\n",
    "# grid = {  \"lr\": [1e-5, 1e-4, 1e-3],\n",
    "#           'module__n_neurons': [32,64,128],\n",
    "#           'weight_decay': [1e-3, 1e-4],\n",
    "#           }\n",
    "\n",
    "\n",
    "# # Combina los valores de la cuadrícula en todas las combinaciones posibles\n",
    "# combinations = list(itertools.product(*grid.values()))\n",
    "# print(f\"Total de combinaciones: {combinations}\")\n",
    "# print(f\"Total de combinaciones: {len(combinations)}\")"
   ]
  },
  {
   "cell_type": "code",
   "execution_count": 26,
   "metadata": {},
   "outputs": [],
   "source": [
    "from sklearn.metrics import accuracy_score, precision_score, recall_score, roc_auc_score, f1_score, matthews_corrcoef, roc_curve, auc, precision_recall_curve"
   ]
  },
  {
   "cell_type": "markdown",
   "metadata": {},
   "source": [
    "Class to fine tuning Wav2Vec 2.0 to a classifier"
   ]
  },
  {
   "cell_type": "code",
   "execution_count": 27,
   "metadata": {},
   "outputs": [],
   "source": [
    "from typing import Any, List\n",
    "\n",
    "\n",
    "class Wav2Vec2_sound_detection(pl.LightningModule):\n",
    "    def __init__(self, *args, **kwargs):\n",
    "        super().__init__()\n",
    "\n",
    "        self.hparams.update(hparams)\n",
    "\n",
    "        self.freeze_finetune_updates = hparams[\"freeze_finetune_updates\"]\n",
    "        \n",
    "        #self.params = params       \n",
    "                \n",
    "        self.train_losses = [] \n",
    "        self.val_losses = []\n",
    "        self.val_f1_scores = []\n",
    "        self.test_f1_scores = []\n",
    "        self.labels = 2\n",
    "        self.embeddings = []\n",
    "        self.confussion_matrix = None\n",
    "        self.all_preds = None\n",
    "        self.all_targets = None\n",
    "        self.softs_values = None\n",
    "        \n",
    "        self.classes_weights_train, self.classes_weights_val, self.classes_weights_test = dataset.weights\n",
    "        \n",
    "        self.model = Wav2Vec2Model.from_pretrained(hparams[\"pretrained\"]).to('cuda')\n",
    "        self.processor = Wav2Vec2Processor.from_pretrained(hparams[\"pretrained\"])\n",
    "        \n",
    "        num_labels = 2\n",
    "        \n",
    "        self.classification_head = torch.nn.Sequential(\n",
    "            torch.nn.Linear(self.model.config.hidden_size, 256),\n",
    "            torch.nn.LeakyReLU(),\n",
    "            torch.nn.Dropout(p=0.1),  \n",
    "             torch.nn.Linear(256, 256),\n",
    "            torch.nn.LeakyReLU(),\n",
    "            torch.nn.Dropout(p=0.1),  \n",
    "            torch.nn.Linear(256, num_labels),\n",
    "        )\n",
    "\n",
    "        # self.model.feature_extractor._freeze_parameters()\n",
    "\n",
    "        # # # freeze base-model\n",
    "        # for param in self.model.parameters():\n",
    "        #     param.requires_grad = False\n",
    "\n",
    "        \n",
    "        self.logger_initialized = False\n",
    "    \n",
    "    \n",
    "    \n",
    "    def initialize_logger(self, logger):\n",
    "        self.logger = logger\n",
    "        self.logger_initialized = True\n",
    "\n",
    "    def forward(self, samples, attention_mask=None):\n",
    "        #ft = self.freeze_finetune_updates <= self.trainer.global_step\n",
    "        input_dict = self.processor(samples['input_values'].squeeze(), return_tensors=\"pt\", padding=True, attention_mask=samples['attention_mask'], sampling_rate=self.processor.feature_extractor.sampling_rate)\n",
    "        input_ids = input_dict.input_values.squeeze().to('cuda')\n",
    "        outputs = self.model(input_ids, attention_mask=attention_mask)\n",
    "        last_hidden_states = outputs.last_hidden_state\n",
    "        pooled_output = torch.mean(last_hidden_states, dim=1)\n",
    "        \n",
    "        logits = self.classification_head(pooled_output)       \n",
    "        \n",
    "        return logits, pooled_output\n",
    "\n",
    "            \n",
    "        \n",
    "    def training_step(self, train_batch, batch_idx):\n",
    "        \n",
    "        y_value = train_batch.pop(\"label\")\n",
    "                    \n",
    "        log_softs, _ = self.forward(train_batch)\n",
    "        \n",
    "        loss = CrossEntropyLoss(weight=self.classes_weights_train)\n",
    "        \n",
    "        train_loss = loss(log_softs, y_value)\n",
    "        \n",
    "\n",
    "        self.log('loss_step', train_loss, on_step=True, prog_bar=True)\n",
    "        \n",
    "        \n",
    "        #self.logger.log_metrics({'train_loss': loss.item()}, step=self.global_step)\n",
    "\n",
    "        return train_loss\n",
    "\n",
    "    def training_epoch_end(self, outputs):\n",
    "        loss = torch.stack([x['loss'] for x in outputs]).mean()\n",
    "        \n",
    "\n",
    "        self.log(\"train_loss\", loss, prog_bar=True)\n",
    "        self.train_losses.append(loss.item())\n",
    "        \n",
    "        self.logger.log_metrics({'train_loss_epoch': loss.item()}, step=self.current_epoch)\n",
    "        \n",
    "\n",
    "    def validation_step(self, val_batch, batch_idx):\n",
    "\n",
    "        y_value = val_batch.pop(\"label\")\n",
    "        \n",
    "                \n",
    "        log_softs, _ = self.forward(val_batch)\n",
    "        preds = torch.argmax(log_softs, dim=1)\n",
    "\n",
    "        val_acc = accuracy(preds.cpu(), y_value.cpu())\n",
    "        val_f1 = f1(preds.cpu(), y_value.cpu())\n",
    "        \n",
    "        loss = CrossEntropyLoss(weight=self.classes_weights_val)\n",
    "        \n",
    "        val_loss = loss(log_softs, y_value)\n",
    "        \n",
    "\n",
    "        self.log('val_acc', val_acc, prog_bar=True)\n",
    "        self.log('val_f1', val_f1, prog_bar=True)\n",
    "        self.log('val_loss', val_loss, prog_bar=True)\n",
    "        \n",
    "        \n",
    "        \n",
    "        #self.logger.log_metrics({'val_acc': val_acc, 'val_f1': val_f1, 'val_loss': val_loss.item()}, step=self.global_step)\n",
    "\n",
    "        return {\"val_acc_step\": val_acc, \"val_f1_step\": val_f1, \"val_loss_step\": val_loss}\n",
    "\n",
    "    \n",
    "    def validation_epoch_end(self, outputs):\n",
    "        acc_mean = torch.stack([x['val_acc_step'] for x in outputs]).mean()\n",
    "        f1_mean = torch.stack([x['val_f1_step'] for x in outputs]).mean()\n",
    "        loss_mean = torch.stack([x['val_loss_step'] for x in outputs]).mean()\n",
    "                \n",
    "\n",
    "        self.log(\"val_acc\", acc_mean, prog_bar=True)\n",
    "        self.log(\"val_f1\", f1_mean, prog_bar=True)\n",
    "        self.log(\"val_loss\", loss_mean, prog_bar=True)\n",
    "\n",
    "        self.val_f1_scores.append(f1_mean)\n",
    "        self.val_losses.append(loss_mean.item())\n",
    "        \n",
    "        self.logger.log_metrics({'val_acc_epoch': acc_mean, 'val_f1_epoch': f1_mean, 'val_loss_epoch': loss_mean.item()}, step=self.current_epoch)\n",
    "        \n",
    "    #import torch.functional as F\n",
    "    \n",
    "    \"\"\"def validation_epoch_end(self, outputs):\n",
    "        acc_mean = torch.stack([x['val_acc_step'] for x in outputs]).mean()\n",
    "        f1_mean = torch.stack([x['val_f1_step'] for x in outputs]).mean()\n",
    "        loss_mean = torch.stack([x['val_loss_step'] for x in outputs]).mean()\n",
    "\n",
    "        self.log(\"val_acc\", acc_mean, prog_bar=True)\n",
    "        self.log(\"val_f1\", f1_mean, prog_bar=True)\n",
    "        self.log(\"val_loss\", loss_mean, prog_bar=True)\"\"\"\n",
    "\n",
    "    def test_step(self, test_batch, batch_idx):\n",
    "\n",
    "        y_value = test_batch.pop(\"label\")\n",
    "        \n",
    "        \n",
    "        log_softs, pooled_output = self.forward(test_batch)\n",
    "        softs = F.softmax(log_softs,dim=1)\n",
    "        preds = torch.argmax(log_softs, dim=1)\n",
    "\n",
    "        test_acc = accuracy(preds.cpu(), y_value.cpu())\n",
    "        test_f1 = f1(preds.cpu(), y_value.cpu())\n",
    "        \n",
    "        loss = CrossEntropyLoss(weight=self.classes_weights_test)\n",
    "        test_loss = loss(log_softs, y_value)\n",
    "                \n",
    "        embedding = pooled_output.detach().cpu().numpy().tolist()\n",
    "        self.embeddings.extend(embedding)\n",
    "\n",
    "        self.log('test_acc', test_acc, prog_bar=True)\n",
    "        self.log('test_f1', test_f1, prog_bar=True)\n",
    "        self.log('test_loss', test_loss, prog_bar=True)\n",
    "        \n",
    "        self.logger.log_metrics({'test_acc': test_acc, 'test_f1': test_f1, 'test_loss': test_loss.item()}, step=self.global_step)\n",
    "        \n",
    "        return {\"test_acc_step\": test_acc, \"test_f1_step\": test_f1,  \"test_loss_step\": test_loss, \"preds\": preds, \"y_value\": y_value, 'softs': softs}\n",
    "\n",
    "    def test_epoch_end(self, outputs):\n",
    "        acc_mean = torch.stack([x['test_acc_step'] for x in outputs]).mean()\n",
    "        f1_mean = torch.stack([x['test_f1_step'] for x in outputs]).mean()\n",
    "        loss_mean = torch.stack([x['test_loss_step'] for x in outputs]).mean()\n",
    "        \n",
    "\n",
    "        self.log(\"test_acc\", acc_mean, prog_bar=True)\n",
    "        self.log(\"test_f1\", f1_mean, prog_bar=True)\n",
    "        self.log(\"test_loss\", loss_mean, prog_bar=True)\n",
    "        \n",
    "        self.test_f1_scores.append(f1_mean)\n",
    "        self.all_preds = torch.cat([x['preds'] for x in outputs])\n",
    "        self.all_targets = torch.cat([x['y_value'] for x in outputs])\n",
    "        self.softs_values = torch.cat([x['softs'] for x in outputs])\n",
    "        \n",
    "        #self.logger.log_metrics({'test_acc_epoch': acc_mean, 'test_f1_epoch': f1_mean, 'test_loss_epoch': loss_mean.item()}, step=self.current_epoch)\n",
    "    \n",
    "    \n",
    "    \n",
    "    def configure_optimizers(self):\n",
    "\n",
    "        optimizer = torch.optim.Adam(self.parameters(),\n",
    "                         lr=self.hparams['lr'],\n",
    "                         betas=(0.9,0.98),\n",
    "                         eps=1e-6,\n",
    "                         weight_decay=self.hparams['w_decay'])\n",
    "\n",
    "        scheduler = LinearWarmupCosineAnnealingLR(optimizer,\n",
    "                                                  eta_min=0,\n",
    "                                                  warmup_start_lr=self.hparams[\"lr\"],\n",
    "                                                  warmup_epochs=self.hparams[\"warmup_epochs\"],\n",
    "                                                  max_epochs=self.hparams[\"max_epochs\"])\n",
    "\n",
    "        return {'optimizer': optimizer, 'lr_scheduler': scheduler}"
   ]
  },
  {
   "cell_type": "code",
   "execution_count": 35,
   "metadata": {},
   "outputs": [],
   "source": [
    "#Set metrics\n",
    "accu_list = []\n",
    "precision_list = []\n",
    "recall_list = []\n",
    "auc_list = []\n",
    "loss_list = []\n",
    "f1_list = []\n",
    "all_preds = None\n",
    "all_targets = None\n",
    "all_softs = None"
   ]
  },
  {
   "cell_type": "code",
   "execution_count": 36,
   "metadata": {},
   "outputs": [
    {
     "name": "stderr",
     "output_type": "stream",
     "text": [
      "Some weights of the model checkpoint at facebook/wav2vec2-base-960h were not used when initializing Wav2Vec2Model: ['lm_head.bias', 'lm_head.weight']\n",
      "- This IS expected if you are initializing Wav2Vec2Model from the checkpoint of a model trained on another task or with another architecture (e.g. initializing a BertForSequenceClassification model from a BertForPreTraining model).\n",
      "- This IS NOT expected if you are initializing Wav2Vec2Model from the checkpoint of a model that you expect to be exactly identical (initializing a BertForSequenceClassification model from a BertForSequenceClassification model).\n",
      "Some weights of Wav2Vec2Model were not initialized from the model checkpoint at facebook/wav2vec2-base-960h and are newly initialized: ['wav2vec2.masked_spec_embed']\n",
      "You should probably TRAIN this model on a down-stream task to be able to use it for predictions and inference.\n",
      "/home/cslab03/anaconda3/envs/coEnv/lib/python3.9/site-packages/pytorch_lightning/trainer/connectors/accelerator_connector.py:478: LightningDeprecationWarning: Setting `Trainer(gpus=1)` is deprecated in v1.7 and will be removed in v2.0. Please use `Trainer(accelerator='gpu', devices=1)` instead.\n",
      "  rank_zero_deprecation(\n",
      "Using 16bit None Automatic Mixed Precision (AMP)\n",
      "GPU available: True (cuda), used: True\n",
      "TPU available: False, using: 0 TPU cores\n",
      "IPU available: False, using: 0 IPUs\n",
      "HPU available: False, using: 0 HPUs\n",
      "You are using a CUDA device ('NVIDIA RTX A4000') that has Tensor Cores. To properly utilize them, you should set `torch.set_float32_matmul_precision('medium' | 'high')` which will trade-off precision for performance. For more details, read https://pytorch.org/docs/stable/generated/torch.set_float32_matmul_precision.html#torch.set_float32_matmul_precision\n",
      "Missing logger folder: logs/metrics/model_1\n",
      "LOCAL_RANK: 0 - CUDA_VISIBLE_DEVICES: [0]\n",
      "/tmp/ipykernel_8863/3866840437.py:205: UnderReviewWarning: The feature LinearWarmupCosineAnnealingLR is currently marked under review. The compatibility with other Lightning projects is not guaranteed and API may change at any time. The API and functionality may change without warning in future releases. More details: https://lightning-bolts.readthedocs.io/en/latest/stability.html\n",
      "  scheduler = LinearWarmupCosineAnnealingLR(optimizer,\n",
      "\n",
      "  | Name                | Type          | Params\n",
      "------------------------------------------------------\n",
      "0 | model               | Wav2Vec2Model | 94.4 M\n",
      "1 | classification_head | Sequential    | 263 K \n",
      "------------------------------------------------------\n",
      "94.6 M    Trainable params\n",
      "0         Non-trainable params\n",
      "94.6 M    Total params\n",
      "189.270   Total estimated model params size (MB)\n"
     ]
    },
    {
     "name": "stdout",
     "output_type": "stream",
     "text": [
      "Files in /home/cslab03/Desktop/PFDM/Results/model_0_0/: []\n",
      "Saving checkpoints to /home/cslab03/Desktop/PFDM/Results/model_0_0/\n"
     ]
    },
    {
     "data": {
      "application/vnd.jupyter.widget-view+json": {
       "model_id": "85bbe6dab5d4449681f988944aaa0d17",
       "version_major": 2,
       "version_minor": 0
      },
      "text/plain": [
       "Training: 0it [00:00, ?it/s]"
      ]
     },
     "metadata": {},
     "output_type": "display_data"
    },
    {
     "data": {
      "application/vnd.jupyter.widget-view+json": {
       "model_id": "8838fc320e3f40dfaef5f82263e43089",
       "version_major": 2,
       "version_minor": 0
      },
      "text/plain": [
       "Validation: 0it [00:00, ?it/s]"
      ]
     },
     "metadata": {},
     "output_type": "display_data"
    },
    {
     "name": "stderr",
     "output_type": "stream",
     "text": [
      "Epoch 0, global step 231: 'val_f1' reached 0.87362 (best 0.87362), saving model to '/home/cslab03/Desktop/PFDM/Results/model_0_0/model_0-wav2vec2-sound_sismic_train.ckpt' as top 1\n"
     ]
    },
    {
     "data": {
      "application/vnd.jupyter.widget-view+json": {
       "model_id": "a1a4e54f320348ed9735096c6f9ccaab",
       "version_major": 2,
       "version_minor": 0
      },
      "text/plain": [
       "Validation: 0it [00:00, ?it/s]"
      ]
     },
     "metadata": {},
     "output_type": "display_data"
    },
    {
     "name": "stderr",
     "output_type": "stream",
     "text": [
      "Epoch 1, global step 462: 'val_f1' reached 0.89332 (best 0.89332), saving model to '/home/cslab03/Desktop/PFDM/Results/model_0_0/model_0-wav2vec2-sound_sismic_train.ckpt' as top 1\n"
     ]
    },
    {
     "data": {
      "application/vnd.jupyter.widget-view+json": {
       "model_id": "f12fa2a3f74949f4b721ee4e1354c147",
       "version_major": 2,
       "version_minor": 0
      },
      "text/plain": [
       "Validation: 0it [00:00, ?it/s]"
      ]
     },
     "metadata": {},
     "output_type": "display_data"
    },
    {
     "name": "stderr",
     "output_type": "stream",
     "text": [
      "Epoch 2, global step 693: 'val_f1' was not in top 1\n"
     ]
    },
    {
     "data": {
      "application/vnd.jupyter.widget-view+json": {
       "model_id": "1203429dde4c419c87d311674b5596e5",
       "version_major": 2,
       "version_minor": 0
      },
      "text/plain": [
       "Validation: 0it [00:00, ?it/s]"
      ]
     },
     "metadata": {},
     "output_type": "display_data"
    },
    {
     "name": "stderr",
     "output_type": "stream",
     "text": [
      "Epoch 3, global step 924: 'val_f1' reached 0.90819 (best 0.90819), saving model to '/home/cslab03/Desktop/PFDM/Results/model_0_0/model_0-wav2vec2-sound_sismic_train.ckpt' as top 1\n"
     ]
    },
    {
     "data": {
      "application/vnd.jupyter.widget-view+json": {
       "model_id": "9d50a3cb64e84235a49f19736a64b8de",
       "version_major": 2,
       "version_minor": 0
      },
      "text/plain": [
       "Validation: 0it [00:00, ?it/s]"
      ]
     },
     "metadata": {},
     "output_type": "display_data"
    },
    {
     "name": "stderr",
     "output_type": "stream",
     "text": [
      "Epoch 4, global step 1155: 'val_f1' was not in top 1\n"
     ]
    },
    {
     "data": {
      "application/vnd.jupyter.widget-view+json": {
       "model_id": "2c3a498cca1b4a1c8d184a4efa744b8b",
       "version_major": 2,
       "version_minor": 0
      },
      "text/plain": [
       "Validation: 0it [00:00, ?it/s]"
      ]
     },
     "metadata": {},
     "output_type": "display_data"
    },
    {
     "name": "stderr",
     "output_type": "stream",
     "text": [
      "Epoch 5, global step 1386: 'val_f1' was not in top 1\n"
     ]
    },
    {
     "data": {
      "application/vnd.jupyter.widget-view+json": {
       "model_id": "cee11cf587d84c28959e0820a62843fd",
       "version_major": 2,
       "version_minor": 0
      },
      "text/plain": [
       "Validation: 0it [00:00, ?it/s]"
      ]
     },
     "metadata": {},
     "output_type": "display_data"
    },
    {
     "name": "stderr",
     "output_type": "stream",
     "text": [
      "Epoch 6, global step 1617: 'val_f1' was not in top 1\n"
     ]
    },
    {
     "data": {
      "application/vnd.jupyter.widget-view+json": {
       "model_id": "7a7b1fc116a74477899a8d2022071466",
       "version_major": 2,
       "version_minor": 0
      },
      "text/plain": [
       "Validation: 0it [00:00, ?it/s]"
      ]
     },
     "metadata": {},
     "output_type": "display_data"
    },
    {
     "name": "stderr",
     "output_type": "stream",
     "text": [
      "Epoch 7, global step 1848: 'val_f1' reached 0.91501 (best 0.91501), saving model to '/home/cslab03/Desktop/PFDM/Results/model_0_0/model_0-wav2vec2-sound_sismic_train.ckpt' as top 1\n"
     ]
    },
    {
     "data": {
      "application/vnd.jupyter.widget-view+json": {
       "model_id": "d352fecb6cfd427db2ef4a8076e35cc2",
       "version_major": 2,
       "version_minor": 0
      },
      "text/plain": [
       "Validation: 0it [00:00, ?it/s]"
      ]
     },
     "metadata": {},
     "output_type": "display_data"
    },
    {
     "name": "stderr",
     "output_type": "stream",
     "text": [
      "Epoch 8, global step 2079: 'val_f1' reached 0.91771 (best 0.91771), saving model to '/home/cslab03/Desktop/PFDM/Results/model_0_0/model_0-wav2vec2-sound_sismic_train.ckpt' as top 1\n"
     ]
    },
    {
     "data": {
      "application/vnd.jupyter.widget-view+json": {
       "model_id": "0c1a59cb99044c7b90d0d649e0149e38",
       "version_major": 2,
       "version_minor": 0
      },
      "text/plain": [
       "Validation: 0it [00:00, ?it/s]"
      ]
     },
     "metadata": {},
     "output_type": "display_data"
    },
    {
     "name": "stderr",
     "output_type": "stream",
     "text": [
      "Epoch 9, global step 2310: 'val_f1' reached 0.92316 (best 0.92316), saving model to '/home/cslab03/Desktop/PFDM/Results/model_0_0/model_0-wav2vec2-sound_sismic_train.ckpt' as top 1\n"
     ]
    },
    {
     "data": {
      "application/vnd.jupyter.widget-view+json": {
       "model_id": "75e8ff6f553048e2bc92aa8737046591",
       "version_major": 2,
       "version_minor": 0
      },
      "text/plain": [
       "Validation: 0it [00:00, ?it/s]"
      ]
     },
     "metadata": {},
     "output_type": "display_data"
    },
    {
     "name": "stderr",
     "output_type": "stream",
     "text": [
      "Epoch 10, global step 2541: 'val_f1' was not in top 1\n"
     ]
    },
    {
     "data": {
      "application/vnd.jupyter.widget-view+json": {
       "model_id": "0fffb673a09547e5a644396558697d2e",
       "version_major": 2,
       "version_minor": 0
      },
      "text/plain": [
       "Validation: 0it [00:00, ?it/s]"
      ]
     },
     "metadata": {},
     "output_type": "display_data"
    },
    {
     "name": "stderr",
     "output_type": "stream",
     "text": [
      "Epoch 11, global step 2772: 'val_f1' was not in top 1\n"
     ]
    },
    {
     "data": {
      "application/vnd.jupyter.widget-view+json": {
       "model_id": "0c6000dea1274d52bd412171008fbedb",
       "version_major": 2,
       "version_minor": 0
      },
      "text/plain": [
       "Validation: 0it [00:00, ?it/s]"
      ]
     },
     "metadata": {},
     "output_type": "display_data"
    },
    {
     "name": "stderr",
     "output_type": "stream",
     "text": [
      "Epoch 12, global step 3003: 'val_f1' was not in top 1\n"
     ]
    },
    {
     "data": {
      "application/vnd.jupyter.widget-view+json": {
       "model_id": "8ee0ff705971480aa63faaa8d939f104",
       "version_major": 2,
       "version_minor": 0
      },
      "text/plain": [
       "Validation: 0it [00:00, ?it/s]"
      ]
     },
     "metadata": {},
     "output_type": "display_data"
    },
    {
     "name": "stderr",
     "output_type": "stream",
     "text": [
      "Epoch 13, global step 3234: 'val_f1' was not in top 1\n"
     ]
    },
    {
     "data": {
      "application/vnd.jupyter.widget-view+json": {
       "model_id": "d0bb5151774249a0bc50e9c3eb253602",
       "version_major": 2,
       "version_minor": 0
      },
      "text/plain": [
       "Validation: 0it [00:00, ?it/s]"
      ]
     },
     "metadata": {},
     "output_type": "display_data"
    },
    {
     "name": "stderr",
     "output_type": "stream",
     "text": [
      "Epoch 14, global step 3465: 'val_f1' reached 0.92647 (best 0.92647), saving model to '/home/cslab03/Desktop/PFDM/Results/model_0_0/model_0-wav2vec2-sound_sismic_train.ckpt' as top 1\n"
     ]
    },
    {
     "data": {
      "application/vnd.jupyter.widget-view+json": {
       "model_id": "7c6fa42d7b0a47f6a732af9c0dfcaa41",
       "version_major": 2,
       "version_minor": 0
      },
      "text/plain": [
       "Validation: 0it [00:00, ?it/s]"
      ]
     },
     "metadata": {},
     "output_type": "display_data"
    },
    {
     "name": "stderr",
     "output_type": "stream",
     "text": [
      "Epoch 15, global step 3696: 'val_f1' was not in top 1\n",
      "/home/cslab03/anaconda3/envs/coEnv/lib/python3.9/site-packages/pytorch_lightning/trainer/connectors/checkpoint_connector.py:124: UserWarning: `.test(ckpt_path=None)` was called without a model. The best model of the previous `fit` call will be used. You can pass `.test(ckpt_path='best')` to use the best model or `.test(ckpt_path='last')` to use the last model. If you pass a value, this warning will be silenced.\n",
      "  rank_zero_warn(\n",
      "You are using a CUDA device ('NVIDIA RTX A4000') that has Tensor Cores. To properly utilize them, you should set `torch.set_float32_matmul_precision('medium' | 'high')` which will trade-off precision for performance. For more details, read https://pytorch.org/docs/stable/generated/torch.set_float32_matmul_precision.html#torch.set_float32_matmul_precision\n",
      "Restoring states from the checkpoint path at /home/cslab03/Desktop/PFDM/Results/model_0_0/model_0-wav2vec2-sound_sismic_train.ckpt\n",
      "LOCAL_RANK: 0 - CUDA_VISIBLE_DEVICES: [0]\n",
      "Loaded model weights from checkpoint at /home/cslab03/Desktop/PFDM/Results/model_0_0/model_0-wav2vec2-sound_sismic_train.ckpt\n"
     ]
    },
    {
     "data": {
      "application/vnd.jupyter.widget-view+json": {
       "model_id": "24172466da8a48e7bb97d325dc9659f3",
       "version_major": 2,
       "version_minor": 0
      },
      "text/plain": [
       "Testing: 0it [00:00, ?it/s]"
      ]
     },
     "metadata": {},
     "output_type": "display_data"
    },
    {
     "name": "stdout",
     "output_type": "stream",
     "text": [
      "────────────────────────────────────────────────────────────────────────────────────────────────────────────────────────\n",
      "       Test metric             DataLoader 0\n",
      "────────────────────────────────────────────────────────────────────────────────────────────────────────────────────────\n",
      "        test_acc            0.9349888563156128\n",
      "         test_f1            0.9355714321136475\n",
      "        test_loss           0.17663750052452087\n",
      "────────────────────────────────────────────────────────────────────────────────────────────────────────────────────────\n"
     ]
    },
    {
     "name": "stderr",
     "output_type": "stream",
     "text": [
      "Some weights of the model checkpoint at facebook/wav2vec2-base-960h were not used when initializing Wav2Vec2Model: ['lm_head.bias', 'lm_head.weight']\n",
      "- This IS expected if you are initializing Wav2Vec2Model from the checkpoint of a model trained on another task or with another architecture (e.g. initializing a BertForSequenceClassification model from a BertForPreTraining model).\n",
      "- This IS NOT expected if you are initializing Wav2Vec2Model from the checkpoint of a model that you expect to be exactly identical (initializing a BertForSequenceClassification model from a BertForSequenceClassification model).\n",
      "Some weights of Wav2Vec2Model were not initialized from the model checkpoint at facebook/wav2vec2-base-960h and are newly initialized: ['wav2vec2.masked_spec_embed']\n",
      "You should probably TRAIN this model on a down-stream task to be able to use it for predictions and inference.\n",
      "/home/cslab03/anaconda3/envs/coEnv/lib/python3.9/site-packages/pytorch_lightning/trainer/connectors/accelerator_connector.py:478: LightningDeprecationWarning: Setting `Trainer(gpus=1)` is deprecated in v1.7 and will be removed in v2.0. Please use `Trainer(accelerator='gpu', devices=1)` instead.\n",
      "  rank_zero_deprecation(\n",
      "Using 16bit None Automatic Mixed Precision (AMP)\n",
      "GPU available: True (cuda), used: True\n",
      "TPU available: False, using: 0 TPU cores\n",
      "IPU available: False, using: 0 IPUs\n",
      "HPU available: False, using: 0 HPUs\n",
      "You are using a CUDA device ('NVIDIA RTX A4000') that has Tensor Cores. To properly utilize them, you should set `torch.set_float32_matmul_precision('medium' | 'high')` which will trade-off precision for performance. For more details, read https://pytorch.org/docs/stable/generated/torch.set_float32_matmul_precision.html#torch.set_float32_matmul_precision\n",
      "LOCAL_RANK: 0 - CUDA_VISIBLE_DEVICES: [0]\n",
      "/tmp/ipykernel_8863/3866840437.py:205: UnderReviewWarning: The feature LinearWarmupCosineAnnealingLR is currently marked under review. The compatibility with other Lightning projects is not guaranteed and API may change at any time. The API and functionality may change without warning in future releases. More details: https://lightning-bolts.readthedocs.io/en/latest/stability.html\n",
      "  scheduler = LinearWarmupCosineAnnealingLR(optimizer,\n",
      "\n",
      "  | Name                | Type          | Params\n",
      "------------------------------------------------------\n",
      "0 | model               | Wav2Vec2Model | 94.4 M\n",
      "1 | classification_head | Sequential    | 263 K \n",
      "------------------------------------------------------\n",
      "94.6 M    Trainable params\n",
      "0         Non-trainable params\n",
      "94.6 M    Total params\n",
      "189.270   Total estimated model params size (MB)\n"
     ]
    },
    {
     "name": "stdout",
     "output_type": "stream",
     "text": [
      "Files in /home/cslab03/Desktop/PFDM/Results/model_1_1/: []\n",
      "Saving checkpoints to /home/cslab03/Desktop/PFDM/Results/model_1_1/\n"
     ]
    },
    {
     "data": {
      "application/vnd.jupyter.widget-view+json": {
       "model_id": "e551413ad546458cab20deba1f4f5376",
       "version_major": 2,
       "version_minor": 0
      },
      "text/plain": [
       "Training: 0it [00:00, ?it/s]"
      ]
     },
     "metadata": {},
     "output_type": "display_data"
    },
    {
     "data": {
      "application/vnd.jupyter.widget-view+json": {
       "model_id": "fa31b260f6304b7a8e3e6be18bf665d3",
       "version_major": 2,
       "version_minor": 0
      },
      "text/plain": [
       "Validation: 0it [00:00, ?it/s]"
      ]
     },
     "metadata": {},
     "output_type": "display_data"
    },
    {
     "name": "stderr",
     "output_type": "stream",
     "text": [
      "Epoch 0, global step 231: 'val_f1' reached 0.87864 (best 0.87864), saving model to '/home/cslab03/Desktop/PFDM/Results/model_1_1/model_1-wav2vec2-sound_sismic_train.ckpt' as top 1\n"
     ]
    },
    {
     "data": {
      "application/vnd.jupyter.widget-view+json": {
       "model_id": "c6c5e651f96743bea999e09f835e86a4",
       "version_major": 2,
       "version_minor": 0
      },
      "text/plain": [
       "Validation: 0it [00:00, ?it/s]"
      ]
     },
     "metadata": {},
     "output_type": "display_data"
    },
    {
     "name": "stderr",
     "output_type": "stream",
     "text": [
      "Epoch 1, global step 462: 'val_f1' reached 0.88152 (best 0.88152), saving model to '/home/cslab03/Desktop/PFDM/Results/model_1_1/model_1-wav2vec2-sound_sismic_train.ckpt' as top 1\n"
     ]
    },
    {
     "data": {
      "application/vnd.jupyter.widget-view+json": {
       "model_id": "8b0c2a717f19441abe14e63d72488d60",
       "version_major": 2,
       "version_minor": 0
      },
      "text/plain": [
       "Validation: 0it [00:00, ?it/s]"
      ]
     },
     "metadata": {},
     "output_type": "display_data"
    },
    {
     "name": "stderr",
     "output_type": "stream",
     "text": [
      "Epoch 2, global step 693: 'val_f1' reached 0.89870 (best 0.89870), saving model to '/home/cslab03/Desktop/PFDM/Results/model_1_1/model_1-wav2vec2-sound_sismic_train.ckpt' as top 1\n"
     ]
    },
    {
     "data": {
      "application/vnd.jupyter.widget-view+json": {
       "model_id": "7a1b1e0c073e4e3c8c1a34cd575070ee",
       "version_major": 2,
       "version_minor": 0
      },
      "text/plain": [
       "Validation: 0it [00:00, ?it/s]"
      ]
     },
     "metadata": {},
     "output_type": "display_data"
    },
    {
     "name": "stderr",
     "output_type": "stream",
     "text": [
      "Epoch 3, global step 924: 'val_f1' reached 0.91060 (best 0.91060), saving model to '/home/cslab03/Desktop/PFDM/Results/model_1_1/model_1-wav2vec2-sound_sismic_train.ckpt' as top 1\n"
     ]
    },
    {
     "data": {
      "application/vnd.jupyter.widget-view+json": {
       "model_id": "51922e11ec304929b3eaf705312fad86",
       "version_major": 2,
       "version_minor": 0
      },
      "text/plain": [
       "Validation: 0it [00:00, ?it/s]"
      ]
     },
     "metadata": {},
     "output_type": "display_data"
    },
    {
     "name": "stderr",
     "output_type": "stream",
     "text": [
      "Epoch 4, global step 1155: 'val_f1' reached 0.91744 (best 0.91744), saving model to '/home/cslab03/Desktop/PFDM/Results/model_1_1/model_1-wav2vec2-sound_sismic_train.ckpt' as top 1\n"
     ]
    },
    {
     "data": {
      "application/vnd.jupyter.widget-view+json": {
       "model_id": "47abcd96b9414a9bb01936d64873d2af",
       "version_major": 2,
       "version_minor": 0
      },
      "text/plain": [
       "Validation: 0it [00:00, ?it/s]"
      ]
     },
     "metadata": {},
     "output_type": "display_data"
    },
    {
     "name": "stderr",
     "output_type": "stream",
     "text": [
      "Epoch 5, global step 1386: 'val_f1' was not in top 1\n"
     ]
    },
    {
     "data": {
      "application/vnd.jupyter.widget-view+json": {
       "model_id": "aec74ecb7b6846ca8ae025b3c2954c75",
       "version_major": 2,
       "version_minor": 0
      },
      "text/plain": [
       "Validation: 0it [00:00, ?it/s]"
      ]
     },
     "metadata": {},
     "output_type": "display_data"
    },
    {
     "name": "stderr",
     "output_type": "stream",
     "text": [
      "Epoch 6, global step 1617: 'val_f1' was not in top 1\n"
     ]
    },
    {
     "data": {
      "application/vnd.jupyter.widget-view+json": {
       "model_id": "edbe883b0fa0418bb79229180bd42586",
       "version_major": 2,
       "version_minor": 0
      },
      "text/plain": [
       "Validation: 0it [00:00, ?it/s]"
      ]
     },
     "metadata": {},
     "output_type": "display_data"
    },
    {
     "name": "stderr",
     "output_type": "stream",
     "text": [
      "Epoch 7, global step 1848: 'val_f1' reached 0.92065 (best 0.92065), saving model to '/home/cslab03/Desktop/PFDM/Results/model_1_1/model_1-wav2vec2-sound_sismic_train.ckpt' as top 1\n"
     ]
    },
    {
     "data": {
      "application/vnd.jupyter.widget-view+json": {
       "model_id": "6f376a619c1c4ed493111f44cf47b6ac",
       "version_major": 2,
       "version_minor": 0
      },
      "text/plain": [
       "Validation: 0it [00:00, ?it/s]"
      ]
     },
     "metadata": {},
     "output_type": "display_data"
    },
    {
     "name": "stderr",
     "output_type": "stream",
     "text": [
      "Epoch 8, global step 2079: 'val_f1' reached 0.92541 (best 0.92541), saving model to '/home/cslab03/Desktop/PFDM/Results/model_1_1/model_1-wav2vec2-sound_sismic_train.ckpt' as top 1\n"
     ]
    },
    {
     "data": {
      "application/vnd.jupyter.widget-view+json": {
       "model_id": "4b09cbf4d9a94403b58c3baaa7538470",
       "version_major": 2,
       "version_minor": 0
      },
      "text/plain": [
       "Validation: 0it [00:00, ?it/s]"
      ]
     },
     "metadata": {},
     "output_type": "display_data"
    },
    {
     "name": "stderr",
     "output_type": "stream",
     "text": [
      "Epoch 9, global step 2310: 'val_f1' was not in top 1\n"
     ]
    },
    {
     "data": {
      "application/vnd.jupyter.widget-view+json": {
       "model_id": "818742a76613495780aca6617413ca11",
       "version_major": 2,
       "version_minor": 0
      },
      "text/plain": [
       "Validation: 0it [00:00, ?it/s]"
      ]
     },
     "metadata": {},
     "output_type": "display_data"
    },
    {
     "name": "stderr",
     "output_type": "stream",
     "text": [
      "Epoch 10, global step 2541: 'val_f1' was not in top 1\n"
     ]
    },
    {
     "data": {
      "application/vnd.jupyter.widget-view+json": {
       "model_id": "2e430774556e474bbb55397d1107584a",
       "version_major": 2,
       "version_minor": 0
      },
      "text/plain": [
       "Validation: 0it [00:00, ?it/s]"
      ]
     },
     "metadata": {},
     "output_type": "display_data"
    },
    {
     "name": "stderr",
     "output_type": "stream",
     "text": [
      "Epoch 11, global step 2772: 'val_f1' was not in top 1\n"
     ]
    },
    {
     "data": {
      "application/vnd.jupyter.widget-view+json": {
       "model_id": "2b8901adb2da4308acbe3d17624b2a73",
       "version_major": 2,
       "version_minor": 0
      },
      "text/plain": [
       "Validation: 0it [00:00, ?it/s]"
      ]
     },
     "metadata": {},
     "output_type": "display_data"
    },
    {
     "name": "stderr",
     "output_type": "stream",
     "text": [
      "Epoch 12, global step 3003: 'val_f1' was not in top 1\n"
     ]
    },
    {
     "data": {
      "application/vnd.jupyter.widget-view+json": {
       "model_id": "783ba565b9024f2f9d2a0ddb06b4fd9a",
       "version_major": 2,
       "version_minor": 0
      },
      "text/plain": [
       "Validation: 0it [00:00, ?it/s]"
      ]
     },
     "metadata": {},
     "output_type": "display_data"
    },
    {
     "name": "stderr",
     "output_type": "stream",
     "text": [
      "Epoch 13, global step 3234: 'val_f1' reached 0.92940 (best 0.92940), saving model to '/home/cslab03/Desktop/PFDM/Results/model_1_1/model_1-wav2vec2-sound_sismic_train.ckpt' as top 1\n"
     ]
    },
    {
     "data": {
      "application/vnd.jupyter.widget-view+json": {
       "model_id": "c48ca595fe234a8cbf92299af466b88d",
       "version_major": 2,
       "version_minor": 0
      },
      "text/plain": [
       "Validation: 0it [00:00, ?it/s]"
      ]
     },
     "metadata": {},
     "output_type": "display_data"
    },
    {
     "name": "stderr",
     "output_type": "stream",
     "text": [
      "Epoch 14, global step 3465: 'val_f1' was not in top 1\n"
     ]
    },
    {
     "data": {
      "application/vnd.jupyter.widget-view+json": {
       "model_id": "168958ea956a46bb98c35583d75e3054",
       "version_major": 2,
       "version_minor": 0
      },
      "text/plain": [
       "Validation: 0it [00:00, ?it/s]"
      ]
     },
     "metadata": {},
     "output_type": "display_data"
    },
    {
     "name": "stderr",
     "output_type": "stream",
     "text": [
      "Epoch 15, global step 3696: 'val_f1' was not in top 1\n",
      "/home/cslab03/anaconda3/envs/coEnv/lib/python3.9/site-packages/pytorch_lightning/trainer/connectors/checkpoint_connector.py:124: UserWarning: `.test(ckpt_path=None)` was called without a model. The best model of the previous `fit` call will be used. You can pass `.test(ckpt_path='best')` to use the best model or `.test(ckpt_path='last')` to use the last model. If you pass a value, this warning will be silenced.\n",
      "  rank_zero_warn(\n",
      "You are using a CUDA device ('NVIDIA RTX A4000') that has Tensor Cores. To properly utilize them, you should set `torch.set_float32_matmul_precision('medium' | 'high')` which will trade-off precision for performance. For more details, read https://pytorch.org/docs/stable/generated/torch.set_float32_matmul_precision.html#torch.set_float32_matmul_precision\n",
      "Restoring states from the checkpoint path at /home/cslab03/Desktop/PFDM/Results/model_1_1/model_1-wav2vec2-sound_sismic_train.ckpt\n",
      "LOCAL_RANK: 0 - CUDA_VISIBLE_DEVICES: [0]\n",
      "Loaded model weights from checkpoint at /home/cslab03/Desktop/PFDM/Results/model_1_1/model_1-wav2vec2-sound_sismic_train.ckpt\n"
     ]
    },
    {
     "data": {
      "application/vnd.jupyter.widget-view+json": {
       "model_id": "087930ef0d1743d29d74e3710682e68d",
       "version_major": 2,
       "version_minor": 0
      },
      "text/plain": [
       "Testing: 0it [00:00, ?it/s]"
      ]
     },
     "metadata": {},
     "output_type": "display_data"
    },
    {
     "name": "stdout",
     "output_type": "stream",
     "text": [
      "────────────────────────────────────────────────────────────────────────────────────────────────────────────────────────\n",
      "       Test metric             DataLoader 0\n",
      "────────────────────────────────────────────────────────────────────────────────────────────────────────────────────────\n",
      "        test_acc            0.9295480251312256\n",
      "         test_f1            0.9293957352638245\n",
      "        test_loss           0.19515523314476013\n",
      "────────────────────────────────────────────────────────────────────────────────────────────────────────────────────────\n"
     ]
    },
    {
     "name": "stderr",
     "output_type": "stream",
     "text": [
      "Some weights of the model checkpoint at facebook/wav2vec2-base-960h were not used when initializing Wav2Vec2Model: ['lm_head.bias', 'lm_head.weight']\n",
      "- This IS expected if you are initializing Wav2Vec2Model from the checkpoint of a model trained on another task or with another architecture (e.g. initializing a BertForSequenceClassification model from a BertForPreTraining model).\n",
      "- This IS NOT expected if you are initializing Wav2Vec2Model from the checkpoint of a model that you expect to be exactly identical (initializing a BertForSequenceClassification model from a BertForSequenceClassification model).\n",
      "Some weights of Wav2Vec2Model were not initialized from the model checkpoint at facebook/wav2vec2-base-960h and are newly initialized: ['wav2vec2.masked_spec_embed']\n",
      "You should probably TRAIN this model on a down-stream task to be able to use it for predictions and inference.\n",
      "/home/cslab03/anaconda3/envs/coEnv/lib/python3.9/site-packages/pytorch_lightning/trainer/connectors/accelerator_connector.py:478: LightningDeprecationWarning: Setting `Trainer(gpus=1)` is deprecated in v1.7 and will be removed in v2.0. Please use `Trainer(accelerator='gpu', devices=1)` instead.\n",
      "  rank_zero_deprecation(\n",
      "Using 16bit None Automatic Mixed Precision (AMP)\n",
      "GPU available: True (cuda), used: True\n",
      "TPU available: False, using: 0 TPU cores\n",
      "IPU available: False, using: 0 IPUs\n",
      "HPU available: False, using: 0 HPUs\n",
      "You are using a CUDA device ('NVIDIA RTX A4000') that has Tensor Cores. To properly utilize them, you should set `torch.set_float32_matmul_precision('medium' | 'high')` which will trade-off precision for performance. For more details, read https://pytorch.org/docs/stable/generated/torch.set_float32_matmul_precision.html#torch.set_float32_matmul_precision\n",
      "LOCAL_RANK: 0 - CUDA_VISIBLE_DEVICES: [0]\n",
      "/tmp/ipykernel_8863/3866840437.py:205: UnderReviewWarning: The feature LinearWarmupCosineAnnealingLR is currently marked under review. The compatibility with other Lightning projects is not guaranteed and API may change at any time. The API and functionality may change without warning in future releases. More details: https://lightning-bolts.readthedocs.io/en/latest/stability.html\n",
      "  scheduler = LinearWarmupCosineAnnealingLR(optimizer,\n",
      "\n",
      "  | Name                | Type          | Params\n",
      "------------------------------------------------------\n",
      "0 | model               | Wav2Vec2Model | 94.4 M\n",
      "1 | classification_head | Sequential    | 263 K \n",
      "------------------------------------------------------\n",
      "94.6 M    Trainable params\n",
      "0         Non-trainable params\n",
      "94.6 M    Total params\n",
      "189.270   Total estimated model params size (MB)\n"
     ]
    },
    {
     "name": "stdout",
     "output_type": "stream",
     "text": [
      "Files in /home/cslab03/Desktop/PFDM/Results/model_2_2/: []\n",
      "Saving checkpoints to /home/cslab03/Desktop/PFDM/Results/model_2_2/\n"
     ]
    },
    {
     "data": {
      "application/vnd.jupyter.widget-view+json": {
       "model_id": "f4c472df84fc40f68ebefa93c3f2aa56",
       "version_major": 2,
       "version_minor": 0
      },
      "text/plain": [
       "Training: 0it [00:00, ?it/s]"
      ]
     },
     "metadata": {},
     "output_type": "display_data"
    },
    {
     "data": {
      "application/vnd.jupyter.widget-view+json": {
       "model_id": "c7516a7d10df433abe14caaad8e9188f",
       "version_major": 2,
       "version_minor": 0
      },
      "text/plain": [
       "Validation: 0it [00:00, ?it/s]"
      ]
     },
     "metadata": {},
     "output_type": "display_data"
    },
    {
     "name": "stderr",
     "output_type": "stream",
     "text": [
      "Epoch 0, global step 231: 'val_f1' reached 0.88633 (best 0.88633), saving model to '/home/cslab03/Desktop/PFDM/Results/model_2_2/model_2-wav2vec2-sound_sismic_train.ckpt' as top 1\n"
     ]
    },
    {
     "data": {
      "application/vnd.jupyter.widget-view+json": {
       "model_id": "24ee588d58904f8f8346d4a27fef0f97",
       "version_major": 2,
       "version_minor": 0
      },
      "text/plain": [
       "Validation: 0it [00:00, ?it/s]"
      ]
     },
     "metadata": {},
     "output_type": "display_data"
    },
    {
     "name": "stderr",
     "output_type": "stream",
     "text": [
      "Epoch 1, global step 462: 'val_f1' reached 0.91006 (best 0.91006), saving model to '/home/cslab03/Desktop/PFDM/Results/model_2_2/model_2-wav2vec2-sound_sismic_train.ckpt' as top 1\n"
     ]
    },
    {
     "data": {
      "application/vnd.jupyter.widget-view+json": {
       "model_id": "8d03da4b000247b4b0ca1cd10a0effb7",
       "version_major": 2,
       "version_minor": 0
      },
      "text/plain": [
       "Validation: 0it [00:00, ?it/s]"
      ]
     },
     "metadata": {},
     "output_type": "display_data"
    },
    {
     "name": "stderr",
     "output_type": "stream",
     "text": [
      "Epoch 2, global step 693: 'val_f1' was not in top 1\n"
     ]
    },
    {
     "data": {
      "application/vnd.jupyter.widget-view+json": {
       "model_id": "dbdb824b614841b882c3460c4bf08712",
       "version_major": 2,
       "version_minor": 0
      },
      "text/plain": [
       "Validation: 0it [00:00, ?it/s]"
      ]
     },
     "metadata": {},
     "output_type": "display_data"
    },
    {
     "name": "stderr",
     "output_type": "stream",
     "text": [
      "Epoch 3, global step 924: 'val_f1' was not in top 1\n"
     ]
    },
    {
     "data": {
      "application/vnd.jupyter.widget-view+json": {
       "model_id": "df71e94386744cb7a1fb1c579fd65a0a",
       "version_major": 2,
       "version_minor": 0
      },
      "text/plain": [
       "Validation: 0it [00:00, ?it/s]"
      ]
     },
     "metadata": {},
     "output_type": "display_data"
    },
    {
     "name": "stderr",
     "output_type": "stream",
     "text": [
      "Epoch 4, global step 1155: 'val_f1' reached 0.91110 (best 0.91110), saving model to '/home/cslab03/Desktop/PFDM/Results/model_2_2/model_2-wav2vec2-sound_sismic_train.ckpt' as top 1\n"
     ]
    },
    {
     "data": {
      "application/vnd.jupyter.widget-view+json": {
       "model_id": "65481e5ec12143b2b56822ba0fc47c5e",
       "version_major": 2,
       "version_minor": 0
      },
      "text/plain": [
       "Validation: 0it [00:00, ?it/s]"
      ]
     },
     "metadata": {},
     "output_type": "display_data"
    },
    {
     "name": "stderr",
     "output_type": "stream",
     "text": [
      "Epoch 5, global step 1386: 'val_f1' was not in top 1\n"
     ]
    },
    {
     "data": {
      "application/vnd.jupyter.widget-view+json": {
       "model_id": "d625803d2047496e9f41dbe3be7ed489",
       "version_major": 2,
       "version_minor": 0
      },
      "text/plain": [
       "Validation: 0it [00:00, ?it/s]"
      ]
     },
     "metadata": {},
     "output_type": "display_data"
    },
    {
     "name": "stderr",
     "output_type": "stream",
     "text": [
      "Epoch 6, global step 1617: 'val_f1' reached 0.91806 (best 0.91806), saving model to '/home/cslab03/Desktop/PFDM/Results/model_2_2/model_2-wav2vec2-sound_sismic_train.ckpt' as top 1\n"
     ]
    },
    {
     "data": {
      "application/vnd.jupyter.widget-view+json": {
       "model_id": "1009af12ce3a4966a4912e30285bcd36",
       "version_major": 2,
       "version_minor": 0
      },
      "text/plain": [
       "Validation: 0it [00:00, ?it/s]"
      ]
     },
     "metadata": {},
     "output_type": "display_data"
    },
    {
     "name": "stderr",
     "output_type": "stream",
     "text": [
      "Epoch 7, global step 1848: 'val_f1' was not in top 1\n"
     ]
    },
    {
     "data": {
      "application/vnd.jupyter.widget-view+json": {
       "model_id": "f706b6ff846c434a87976a5425f69512",
       "version_major": 2,
       "version_minor": 0
      },
      "text/plain": [
       "Validation: 0it [00:00, ?it/s]"
      ]
     },
     "metadata": {},
     "output_type": "display_data"
    },
    {
     "name": "stderr",
     "output_type": "stream",
     "text": [
      "Epoch 8, global step 2079: 'val_f1' reached 0.91969 (best 0.91969), saving model to '/home/cslab03/Desktop/PFDM/Results/model_2_2/model_2-wav2vec2-sound_sismic_train.ckpt' as top 1\n"
     ]
    },
    {
     "data": {
      "application/vnd.jupyter.widget-view+json": {
       "model_id": "70a7ab5cc170421a9460cd079e314302",
       "version_major": 2,
       "version_minor": 0
      },
      "text/plain": [
       "Validation: 0it [00:00, ?it/s]"
      ]
     },
     "metadata": {},
     "output_type": "display_data"
    },
    {
     "name": "stderr",
     "output_type": "stream",
     "text": [
      "Epoch 9, global step 2310: 'val_f1' reached 0.92102 (best 0.92102), saving model to '/home/cslab03/Desktop/PFDM/Results/model_2_2/model_2-wav2vec2-sound_sismic_train.ckpt' as top 1\n"
     ]
    },
    {
     "data": {
      "application/vnd.jupyter.widget-view+json": {
       "model_id": "5aa4a625871e468b8f43b2027ec673c3",
       "version_major": 2,
       "version_minor": 0
      },
      "text/plain": [
       "Validation: 0it [00:00, ?it/s]"
      ]
     },
     "metadata": {},
     "output_type": "display_data"
    },
    {
     "name": "stderr",
     "output_type": "stream",
     "text": [
      "Epoch 10, global step 2541: 'val_f1' was not in top 1\n"
     ]
    },
    {
     "data": {
      "application/vnd.jupyter.widget-view+json": {
       "model_id": "0a68fe800ec74affbe201dad23fee7ff",
       "version_major": 2,
       "version_minor": 0
      },
      "text/plain": [
       "Validation: 0it [00:00, ?it/s]"
      ]
     },
     "metadata": {},
     "output_type": "display_data"
    },
    {
     "name": "stderr",
     "output_type": "stream",
     "text": [
      "Epoch 11, global step 2772: 'val_f1' reached 0.92830 (best 0.92830), saving model to '/home/cslab03/Desktop/PFDM/Results/model_2_2/model_2-wav2vec2-sound_sismic_train.ckpt' as top 1\n"
     ]
    },
    {
     "data": {
      "application/vnd.jupyter.widget-view+json": {
       "model_id": "380dfa2e693a480ca3bb0507729a9f71",
       "version_major": 2,
       "version_minor": 0
      },
      "text/plain": [
       "Validation: 0it [00:00, ?it/s]"
      ]
     },
     "metadata": {},
     "output_type": "display_data"
    },
    {
     "name": "stderr",
     "output_type": "stream",
     "text": [
      "Epoch 12, global step 3003: 'val_f1' was not in top 1\n"
     ]
    },
    {
     "data": {
      "application/vnd.jupyter.widget-view+json": {
       "model_id": "22a302cd2ec849fd8408ef2660e5dd25",
       "version_major": 2,
       "version_minor": 0
      },
      "text/plain": [
       "Validation: 0it [00:00, ?it/s]"
      ]
     },
     "metadata": {},
     "output_type": "display_data"
    },
    {
     "name": "stderr",
     "output_type": "stream",
     "text": [
      "Epoch 13, global step 3234: 'val_f1' was not in top 1\n"
     ]
    },
    {
     "data": {
      "application/vnd.jupyter.widget-view+json": {
       "model_id": "c7e1bca896b54e8dbb602cbe9ac4e746",
       "version_major": 2,
       "version_minor": 0
      },
      "text/plain": [
       "Validation: 0it [00:00, ?it/s]"
      ]
     },
     "metadata": {},
     "output_type": "display_data"
    },
    {
     "name": "stderr",
     "output_type": "stream",
     "text": [
      "Epoch 14, global step 3465: 'val_f1' was not in top 1\n"
     ]
    },
    {
     "data": {
      "application/vnd.jupyter.widget-view+json": {
       "model_id": "07808f554b17450ba04c0ae87c853565",
       "version_major": 2,
       "version_minor": 0
      },
      "text/plain": [
       "Validation: 0it [00:00, ?it/s]"
      ]
     },
     "metadata": {},
     "output_type": "display_data"
    },
    {
     "name": "stderr",
     "output_type": "stream",
     "text": [
      "Epoch 15, global step 3696: 'val_f1' was not in top 1\n",
      "/home/cslab03/anaconda3/envs/coEnv/lib/python3.9/site-packages/pytorch_lightning/trainer/connectors/checkpoint_connector.py:124: UserWarning: `.test(ckpt_path=None)` was called without a model. The best model of the previous `fit` call will be used. You can pass `.test(ckpt_path='best')` to use the best model or `.test(ckpt_path='last')` to use the last model. If you pass a value, this warning will be silenced.\n",
      "  rank_zero_warn(\n",
      "You are using a CUDA device ('NVIDIA RTX A4000') that has Tensor Cores. To properly utilize them, you should set `torch.set_float32_matmul_precision('medium' | 'high')` which will trade-off precision for performance. For more details, read https://pytorch.org/docs/stable/generated/torch.set_float32_matmul_precision.html#torch.set_float32_matmul_precision\n",
      "Restoring states from the checkpoint path at /home/cslab03/Desktop/PFDM/Results/model_2_2/model_2-wav2vec2-sound_sismic_train.ckpt\n",
      "LOCAL_RANK: 0 - CUDA_VISIBLE_DEVICES: [0]\n",
      "Loaded model weights from checkpoint at /home/cslab03/Desktop/PFDM/Results/model_2_2/model_2-wav2vec2-sound_sismic_train.ckpt\n"
     ]
    },
    {
     "data": {
      "application/vnd.jupyter.widget-view+json": {
       "model_id": "f765c317765b4152bb40431c50f9a209",
       "version_major": 2,
       "version_minor": 0
      },
      "text/plain": [
       "Testing: 0it [00:00, ?it/s]"
      ]
     },
     "metadata": {},
     "output_type": "display_data"
    },
    {
     "name": "stdout",
     "output_type": "stream",
     "text": [
      "────────────────────────────────────────────────────────────────────────────────────────────────────────────────────────\n",
      "       Test metric             DataLoader 0\n",
      "────────────────────────────────────────────────────────────────────────────────────────────────────────────────────────\n",
      "        test_acc               0.92138671875\n",
      "         test_f1            0.9204680919647217\n",
      "        test_loss           0.21258564293384552\n",
      "────────────────────────────────────────────────────────────────────────────────────────────────────────────────────────\n"
     ]
    },
    {
     "name": "stderr",
     "output_type": "stream",
     "text": [
      "Some weights of the model checkpoint at facebook/wav2vec2-base-960h were not used when initializing Wav2Vec2Model: ['lm_head.bias', 'lm_head.weight']\n",
      "- This IS expected if you are initializing Wav2Vec2Model from the checkpoint of a model trained on another task or with another architecture (e.g. initializing a BertForSequenceClassification model from a BertForPreTraining model).\n",
      "- This IS NOT expected if you are initializing Wav2Vec2Model from the checkpoint of a model that you expect to be exactly identical (initializing a BertForSequenceClassification model from a BertForSequenceClassification model).\n",
      "Some weights of Wav2Vec2Model were not initialized from the model checkpoint at facebook/wav2vec2-base-960h and are newly initialized: ['wav2vec2.masked_spec_embed']\n",
      "You should probably TRAIN this model on a down-stream task to be able to use it for predictions and inference.\n",
      "/home/cslab03/anaconda3/envs/coEnv/lib/python3.9/site-packages/pytorch_lightning/trainer/connectors/accelerator_connector.py:478: LightningDeprecationWarning: Setting `Trainer(gpus=1)` is deprecated in v1.7 and will be removed in v2.0. Please use `Trainer(accelerator='gpu', devices=1)` instead.\n",
      "  rank_zero_deprecation(\n",
      "Using 16bit None Automatic Mixed Precision (AMP)\n",
      "GPU available: True (cuda), used: True\n",
      "TPU available: False, using: 0 TPU cores\n",
      "IPU available: False, using: 0 IPUs\n",
      "HPU available: False, using: 0 HPUs\n",
      "You are using a CUDA device ('NVIDIA RTX A4000') that has Tensor Cores. To properly utilize them, you should set `torch.set_float32_matmul_precision('medium' | 'high')` which will trade-off precision for performance. For more details, read https://pytorch.org/docs/stable/generated/torch.set_float32_matmul_precision.html#torch.set_float32_matmul_precision\n",
      "LOCAL_RANK: 0 - CUDA_VISIBLE_DEVICES: [0]\n",
      "/tmp/ipykernel_8863/3866840437.py:205: UnderReviewWarning: The feature LinearWarmupCosineAnnealingLR is currently marked under review. The compatibility with other Lightning projects is not guaranteed and API may change at any time. The API and functionality may change without warning in future releases. More details: https://lightning-bolts.readthedocs.io/en/latest/stability.html\n",
      "  scheduler = LinearWarmupCosineAnnealingLR(optimizer,\n",
      "\n",
      "  | Name                | Type          | Params\n",
      "------------------------------------------------------\n",
      "0 | model               | Wav2Vec2Model | 94.4 M\n",
      "1 | classification_head | Sequential    | 263 K \n",
      "------------------------------------------------------\n",
      "94.6 M    Trainable params\n",
      "0         Non-trainable params\n",
      "94.6 M    Total params\n",
      "189.270   Total estimated model params size (MB)\n"
     ]
    },
    {
     "name": "stdout",
     "output_type": "stream",
     "text": [
      "Files in /home/cslab03/Desktop/PFDM/Results/model_3_3/: []\n",
      "Saving checkpoints to /home/cslab03/Desktop/PFDM/Results/model_3_3/\n"
     ]
    },
    {
     "data": {
      "application/vnd.jupyter.widget-view+json": {
       "model_id": "7a8c7583539c465f8c13e21bf87a8c27",
       "version_major": 2,
       "version_minor": 0
      },
      "text/plain": [
       "Training: 0it [00:00, ?it/s]"
      ]
     },
     "metadata": {},
     "output_type": "display_data"
    },
    {
     "data": {
      "application/vnd.jupyter.widget-view+json": {
       "model_id": "4394b7d8e7de45259c54065a685fffdb",
       "version_major": 2,
       "version_minor": 0
      },
      "text/plain": [
       "Validation: 0it [00:00, ?it/s]"
      ]
     },
     "metadata": {},
     "output_type": "display_data"
    },
    {
     "name": "stderr",
     "output_type": "stream",
     "text": [
      "Epoch 0, global step 231: 'val_f1' reached 0.85821 (best 0.85821), saving model to '/home/cslab03/Desktop/PFDM/Results/model_3_3/model_3-wav2vec2-sound_sismic_train.ckpt' as top 1\n"
     ]
    },
    {
     "data": {
      "application/vnd.jupyter.widget-view+json": {
       "model_id": "9213eab10dd2416383a224e9d21caf9d",
       "version_major": 2,
       "version_minor": 0
      },
      "text/plain": [
       "Validation: 0it [00:00, ?it/s]"
      ]
     },
     "metadata": {},
     "output_type": "display_data"
    },
    {
     "name": "stderr",
     "output_type": "stream",
     "text": [
      "Epoch 1, global step 462: 'val_f1' reached 0.88475 (best 0.88475), saving model to '/home/cslab03/Desktop/PFDM/Results/model_3_3/model_3-wav2vec2-sound_sismic_train.ckpt' as top 1\n"
     ]
    },
    {
     "data": {
      "application/vnd.jupyter.widget-view+json": {
       "model_id": "7a49c503ea97486c805165266081829d",
       "version_major": 2,
       "version_minor": 0
      },
      "text/plain": [
       "Validation: 0it [00:00, ?it/s]"
      ]
     },
     "metadata": {},
     "output_type": "display_data"
    },
    {
     "name": "stderr",
     "output_type": "stream",
     "text": [
      "Epoch 2, global step 693: 'val_f1' reached 0.89637 (best 0.89637), saving model to '/home/cslab03/Desktop/PFDM/Results/model_3_3/model_3-wav2vec2-sound_sismic_train.ckpt' as top 1\n"
     ]
    },
    {
     "data": {
      "application/vnd.jupyter.widget-view+json": {
       "model_id": "503180929e2c4d0d86111cd17017653f",
       "version_major": 2,
       "version_minor": 0
      },
      "text/plain": [
       "Validation: 0it [00:00, ?it/s]"
      ]
     },
     "metadata": {},
     "output_type": "display_data"
    },
    {
     "name": "stderr",
     "output_type": "stream",
     "text": [
      "Epoch 3, global step 924: 'val_f1' reached 0.90646 (best 0.90646), saving model to '/home/cslab03/Desktop/PFDM/Results/model_3_3/model_3-wav2vec2-sound_sismic_train.ckpt' as top 1\n"
     ]
    },
    {
     "data": {
      "application/vnd.jupyter.widget-view+json": {
       "model_id": "c8ebd50244654b0a99061d30c2b0cbe2",
       "version_major": 2,
       "version_minor": 0
      },
      "text/plain": [
       "Validation: 0it [00:00, ?it/s]"
      ]
     },
     "metadata": {},
     "output_type": "display_data"
    },
    {
     "name": "stderr",
     "output_type": "stream",
     "text": [
      "Epoch 4, global step 1155: 'val_f1' was not in top 1\n"
     ]
    },
    {
     "data": {
      "application/vnd.jupyter.widget-view+json": {
       "model_id": "d8d09999f1564d70a084f094e6e4cf7c",
       "version_major": 2,
       "version_minor": 0
      },
      "text/plain": [
       "Validation: 0it [00:00, ?it/s]"
      ]
     },
     "metadata": {},
     "output_type": "display_data"
    },
    {
     "name": "stderr",
     "output_type": "stream",
     "text": [
      "Epoch 5, global step 1386: 'val_f1' reached 0.90996 (best 0.90996), saving model to '/home/cslab03/Desktop/PFDM/Results/model_3_3/model_3-wav2vec2-sound_sismic_train.ckpt' as top 1\n"
     ]
    },
    {
     "data": {
      "application/vnd.jupyter.widget-view+json": {
       "model_id": "450a0758d5024a4ea1f57c90cf2a5084",
       "version_major": 2,
       "version_minor": 0
      },
      "text/plain": [
       "Validation: 0it [00:00, ?it/s]"
      ]
     },
     "metadata": {},
     "output_type": "display_data"
    },
    {
     "name": "stderr",
     "output_type": "stream",
     "text": [
      "Epoch 6, global step 1617: 'val_f1' reached 0.91272 (best 0.91272), saving model to '/home/cslab03/Desktop/PFDM/Results/model_3_3/model_3-wav2vec2-sound_sismic_train.ckpt' as top 1\n"
     ]
    },
    {
     "data": {
      "application/vnd.jupyter.widget-view+json": {
       "model_id": "c4f777c3727a4ebe9d945f80b36ff8d4",
       "version_major": 2,
       "version_minor": 0
      },
      "text/plain": [
       "Validation: 0it [00:00, ?it/s]"
      ]
     },
     "metadata": {},
     "output_type": "display_data"
    },
    {
     "name": "stderr",
     "output_type": "stream",
     "text": [
      "Epoch 7, global step 1848: 'val_f1' reached 0.91352 (best 0.91352), saving model to '/home/cslab03/Desktop/PFDM/Results/model_3_3/model_3-wav2vec2-sound_sismic_train.ckpt' as top 1\n"
     ]
    },
    {
     "data": {
      "application/vnd.jupyter.widget-view+json": {
       "model_id": "933025bc17304930bd4b3c7fcfe2fdba",
       "version_major": 2,
       "version_minor": 0
      },
      "text/plain": [
       "Validation: 0it [00:00, ?it/s]"
      ]
     },
     "metadata": {},
     "output_type": "display_data"
    },
    {
     "name": "stderr",
     "output_type": "stream",
     "text": [
      "Epoch 8, global step 2079: 'val_f1' reached 0.91820 (best 0.91820), saving model to '/home/cslab03/Desktop/PFDM/Results/model_3_3/model_3-wav2vec2-sound_sismic_train.ckpt' as top 1\n"
     ]
    },
    {
     "data": {
      "application/vnd.jupyter.widget-view+json": {
       "model_id": "75cd34eb30b446e08076e5fa0146ef8d",
       "version_major": 2,
       "version_minor": 0
      },
      "text/plain": [
       "Validation: 0it [00:00, ?it/s]"
      ]
     },
     "metadata": {},
     "output_type": "display_data"
    },
    {
     "name": "stderr",
     "output_type": "stream",
     "text": [
      "Epoch 9, global step 2310: 'val_f1' reached 0.92233 (best 0.92233), saving model to '/home/cslab03/Desktop/PFDM/Results/model_3_3/model_3-wav2vec2-sound_sismic_train.ckpt' as top 1\n"
     ]
    },
    {
     "data": {
      "application/vnd.jupyter.widget-view+json": {
       "model_id": "9f0c132b2d1f4c489e39b42812105981",
       "version_major": 2,
       "version_minor": 0
      },
      "text/plain": [
       "Validation: 0it [00:00, ?it/s]"
      ]
     },
     "metadata": {},
     "output_type": "display_data"
    },
    {
     "name": "stderr",
     "output_type": "stream",
     "text": [
      "Epoch 10, global step 2541: 'val_f1' was not in top 1\n"
     ]
    },
    {
     "data": {
      "application/vnd.jupyter.widget-view+json": {
       "model_id": "fd64be92934e49219d169cf0e2f03b47",
       "version_major": 2,
       "version_minor": 0
      },
      "text/plain": [
       "Validation: 0it [00:00, ?it/s]"
      ]
     },
     "metadata": {},
     "output_type": "display_data"
    },
    {
     "name": "stderr",
     "output_type": "stream",
     "text": [
      "Epoch 11, global step 2772: 'val_f1' was not in top 1\n"
     ]
    },
    {
     "data": {
      "application/vnd.jupyter.widget-view+json": {
       "model_id": "ec47c51c74114b868210a9c41c6f5402",
       "version_major": 2,
       "version_minor": 0
      },
      "text/plain": [
       "Validation: 0it [00:00, ?it/s]"
      ]
     },
     "metadata": {},
     "output_type": "display_data"
    },
    {
     "name": "stderr",
     "output_type": "stream",
     "text": [
      "Epoch 12, global step 3003: 'val_f1' reached 0.92725 (best 0.92725), saving model to '/home/cslab03/Desktop/PFDM/Results/model_3_3/model_3-wav2vec2-sound_sismic_train.ckpt' as top 1\n"
     ]
    },
    {
     "data": {
      "application/vnd.jupyter.widget-view+json": {
       "model_id": "f521c9b87e4b4818bf3e333abb7e5d9e",
       "version_major": 2,
       "version_minor": 0
      },
      "text/plain": [
       "Validation: 0it [00:00, ?it/s]"
      ]
     },
     "metadata": {},
     "output_type": "display_data"
    },
    {
     "name": "stderr",
     "output_type": "stream",
     "text": [
      "Epoch 13, global step 3234: 'val_f1' reached 0.92768 (best 0.92768), saving model to '/home/cslab03/Desktop/PFDM/Results/model_3_3/model_3-wav2vec2-sound_sismic_train.ckpt' as top 1\n"
     ]
    },
    {
     "data": {
      "application/vnd.jupyter.widget-view+json": {
       "model_id": "b453bdb5feb44fbeadcabe6b5bc5d889",
       "version_major": 2,
       "version_minor": 0
      },
      "text/plain": [
       "Validation: 0it [00:00, ?it/s]"
      ]
     },
     "metadata": {},
     "output_type": "display_data"
    },
    {
     "name": "stderr",
     "output_type": "stream",
     "text": [
      "Epoch 14, global step 3465: 'val_f1' was not in top 1\n"
     ]
    },
    {
     "data": {
      "application/vnd.jupyter.widget-view+json": {
       "model_id": "8655ae2d3d0e4929aa08de3bb6cc3546",
       "version_major": 2,
       "version_minor": 0
      },
      "text/plain": [
       "Validation: 0it [00:00, ?it/s]"
      ]
     },
     "metadata": {},
     "output_type": "display_data"
    },
    {
     "name": "stderr",
     "output_type": "stream",
     "text": [
      "Epoch 15, global step 3696: 'val_f1' reached 0.93301 (best 0.93301), saving model to '/home/cslab03/Desktop/PFDM/Results/model_3_3/model_3-wav2vec2-sound_sismic_train.ckpt' as top 1\n",
      "/home/cslab03/anaconda3/envs/coEnv/lib/python3.9/site-packages/pytorch_lightning/trainer/connectors/checkpoint_connector.py:124: UserWarning: `.test(ckpt_path=None)` was called without a model. The best model of the previous `fit` call will be used. You can pass `.test(ckpt_path='best')` to use the best model or `.test(ckpt_path='last')` to use the last model. If you pass a value, this warning will be silenced.\n",
      "  rank_zero_warn(\n",
      "You are using a CUDA device ('NVIDIA RTX A4000') that has Tensor Cores. To properly utilize them, you should set `torch.set_float32_matmul_precision('medium' | 'high')` which will trade-off precision for performance. For more details, read https://pytorch.org/docs/stable/generated/torch.set_float32_matmul_precision.html#torch.set_float32_matmul_precision\n",
      "Restoring states from the checkpoint path at /home/cslab03/Desktop/PFDM/Results/model_3_3/model_3-wav2vec2-sound_sismic_train.ckpt\n",
      "LOCAL_RANK: 0 - CUDA_VISIBLE_DEVICES: [0]\n",
      "Loaded model weights from checkpoint at /home/cslab03/Desktop/PFDM/Results/model_3_3/model_3-wav2vec2-sound_sismic_train.ckpt\n"
     ]
    },
    {
     "data": {
      "application/vnd.jupyter.widget-view+json": {
       "model_id": "bca0621fe5fc498aa92e07d6c57562c1",
       "version_major": 2,
       "version_minor": 0
      },
      "text/plain": [
       "Testing: 0it [00:00, ?it/s]"
      ]
     },
     "metadata": {},
     "output_type": "display_data"
    },
    {
     "name": "stdout",
     "output_type": "stream",
     "text": [
      "────────────────────────────────────────────────────────────────────────────────────────────────────────────────────────\n",
      "       Test metric             DataLoader 0\n",
      "────────────────────────────────────────────────────────────────────────────────────────────────────────────────────────\n",
      "        test_acc                0.931640625\n",
      "         test_f1            0.9316622614860535\n",
      "        test_loss           0.18674376606941223\n",
      "────────────────────────────────────────────────────────────────────────────────────────────────────────────────────────\n"
     ]
    },
    {
     "name": "stderr",
     "output_type": "stream",
     "text": [
      "Some weights of the model checkpoint at facebook/wav2vec2-base-960h were not used when initializing Wav2Vec2Model: ['lm_head.bias', 'lm_head.weight']\n",
      "- This IS expected if you are initializing Wav2Vec2Model from the checkpoint of a model trained on another task or with another architecture (e.g. initializing a BertForSequenceClassification model from a BertForPreTraining model).\n",
      "- This IS NOT expected if you are initializing Wav2Vec2Model from the checkpoint of a model that you expect to be exactly identical (initializing a BertForSequenceClassification model from a BertForSequenceClassification model).\n",
      "Some weights of Wav2Vec2Model were not initialized from the model checkpoint at facebook/wav2vec2-base-960h and are newly initialized: ['wav2vec2.masked_spec_embed']\n",
      "You should probably TRAIN this model on a down-stream task to be able to use it for predictions and inference.\n",
      "/home/cslab03/anaconda3/envs/coEnv/lib/python3.9/site-packages/pytorch_lightning/trainer/connectors/accelerator_connector.py:478: LightningDeprecationWarning: Setting `Trainer(gpus=1)` is deprecated in v1.7 and will be removed in v2.0. Please use `Trainer(accelerator='gpu', devices=1)` instead.\n",
      "  rank_zero_deprecation(\n",
      "Using 16bit None Automatic Mixed Precision (AMP)\n",
      "GPU available: True (cuda), used: True\n",
      "TPU available: False, using: 0 TPU cores\n",
      "IPU available: False, using: 0 IPUs\n",
      "HPU available: False, using: 0 HPUs\n",
      "You are using a CUDA device ('NVIDIA RTX A4000') that has Tensor Cores. To properly utilize them, you should set `torch.set_float32_matmul_precision('medium' | 'high')` which will trade-off precision for performance. For more details, read https://pytorch.org/docs/stable/generated/torch.set_float32_matmul_precision.html#torch.set_float32_matmul_precision\n",
      "LOCAL_RANK: 0 - CUDA_VISIBLE_DEVICES: [0]\n",
      "/tmp/ipykernel_8863/3866840437.py:205: UnderReviewWarning: The feature LinearWarmupCosineAnnealingLR is currently marked under review. The compatibility with other Lightning projects is not guaranteed and API may change at any time. The API and functionality may change without warning in future releases. More details: https://lightning-bolts.readthedocs.io/en/latest/stability.html\n",
      "  scheduler = LinearWarmupCosineAnnealingLR(optimizer,\n",
      "\n",
      "  | Name                | Type          | Params\n",
      "------------------------------------------------------\n",
      "0 | model               | Wav2Vec2Model | 94.4 M\n",
      "1 | classification_head | Sequential    | 263 K \n",
      "------------------------------------------------------\n",
      "94.6 M    Trainable params\n",
      "0         Non-trainable params\n",
      "94.6 M    Total params\n",
      "189.270   Total estimated model params size (MB)\n"
     ]
    },
    {
     "name": "stdout",
     "output_type": "stream",
     "text": [
      "Files in /home/cslab03/Desktop/PFDM/Results/model_4_4/: []\n",
      "Saving checkpoints to /home/cslab03/Desktop/PFDM/Results/model_4_4/\n"
     ]
    },
    {
     "data": {
      "application/vnd.jupyter.widget-view+json": {
       "model_id": "c5e2c706760d489f81cbb5ece8e0fc75",
       "version_major": 2,
       "version_minor": 0
      },
      "text/plain": [
       "Training: 0it [00:00, ?it/s]"
      ]
     },
     "metadata": {},
     "output_type": "display_data"
    },
    {
     "data": {
      "application/vnd.jupyter.widget-view+json": {
       "model_id": "58b43c4009414901a6dc721ddada507d",
       "version_major": 2,
       "version_minor": 0
      },
      "text/plain": [
       "Validation: 0it [00:00, ?it/s]"
      ]
     },
     "metadata": {},
     "output_type": "display_data"
    },
    {
     "name": "stderr",
     "output_type": "stream",
     "text": [
      "Epoch 0, global step 231: 'val_f1' reached 0.86264 (best 0.86264), saving model to '/home/cslab03/Desktop/PFDM/Results/model_4_4/model_4-wav2vec2-sound_sismic_train.ckpt' as top 1\n"
     ]
    },
    {
     "data": {
      "application/vnd.jupyter.widget-view+json": {
       "model_id": "7d06f165a4db4b1bbd233f5b41fadf2f",
       "version_major": 2,
       "version_minor": 0
      },
      "text/plain": [
       "Validation: 0it [00:00, ?it/s]"
      ]
     },
     "metadata": {},
     "output_type": "display_data"
    },
    {
     "name": "stderr",
     "output_type": "stream",
     "text": [
      "Epoch 1, global step 462: 'val_f1' reached 0.89274 (best 0.89274), saving model to '/home/cslab03/Desktop/PFDM/Results/model_4_4/model_4-wav2vec2-sound_sismic_train.ckpt' as top 1\n"
     ]
    },
    {
     "data": {
      "application/vnd.jupyter.widget-view+json": {
       "model_id": "86fd0d010e674b1ca2a63d7ec0a542ff",
       "version_major": 2,
       "version_minor": 0
      },
      "text/plain": [
       "Validation: 0it [00:00, ?it/s]"
      ]
     },
     "metadata": {},
     "output_type": "display_data"
    },
    {
     "name": "stderr",
     "output_type": "stream",
     "text": [
      "Epoch 2, global step 693: 'val_f1' was not in top 1\n"
     ]
    },
    {
     "data": {
      "application/vnd.jupyter.widget-view+json": {
       "model_id": "86edadcb2f854ffa809b41d40a102591",
       "version_major": 2,
       "version_minor": 0
      },
      "text/plain": [
       "Validation: 0it [00:00, ?it/s]"
      ]
     },
     "metadata": {},
     "output_type": "display_data"
    },
    {
     "name": "stderr",
     "output_type": "stream",
     "text": [
      "Epoch 3, global step 924: 'val_f1' reached 0.90608 (best 0.90608), saving model to '/home/cslab03/Desktop/PFDM/Results/model_4_4/model_4-wav2vec2-sound_sismic_train.ckpt' as top 1\n"
     ]
    },
    {
     "data": {
      "application/vnd.jupyter.widget-view+json": {
       "model_id": "153682a190ee40dfb54324027deccece",
       "version_major": 2,
       "version_minor": 0
      },
      "text/plain": [
       "Validation: 0it [00:00, ?it/s]"
      ]
     },
     "metadata": {},
     "output_type": "display_data"
    },
    {
     "name": "stderr",
     "output_type": "stream",
     "text": [
      "Epoch 4, global step 1155: 'val_f1' reached 0.90833 (best 0.90833), saving model to '/home/cslab03/Desktop/PFDM/Results/model_4_4/model_4-wav2vec2-sound_sismic_train.ckpt' as top 1\n"
     ]
    },
    {
     "data": {
      "application/vnd.jupyter.widget-view+json": {
       "model_id": "d41825cb766742e9b1331914e61061ea",
       "version_major": 2,
       "version_minor": 0
      },
      "text/plain": [
       "Validation: 0it [00:00, ?it/s]"
      ]
     },
     "metadata": {},
     "output_type": "display_data"
    },
    {
     "name": "stderr",
     "output_type": "stream",
     "text": [
      "Epoch 5, global step 1386: 'val_f1' reached 0.91684 (best 0.91684), saving model to '/home/cslab03/Desktop/PFDM/Results/model_4_4/model_4-wav2vec2-sound_sismic_train.ckpt' as top 1\n"
     ]
    },
    {
     "data": {
      "application/vnd.jupyter.widget-view+json": {
       "model_id": "d3d463ec84c94157b67cd4f0b752f55b",
       "version_major": 2,
       "version_minor": 0
      },
      "text/plain": [
       "Validation: 0it [00:00, ?it/s]"
      ]
     },
     "metadata": {},
     "output_type": "display_data"
    },
    {
     "name": "stderr",
     "output_type": "stream",
     "text": [
      "Epoch 6, global step 1617: 'val_f1' was not in top 1\n"
     ]
    },
    {
     "data": {
      "application/vnd.jupyter.widget-view+json": {
       "model_id": "13914b34fe7a4e88a620808fe8c226d1",
       "version_major": 2,
       "version_minor": 0
      },
      "text/plain": [
       "Validation: 0it [00:00, ?it/s]"
      ]
     },
     "metadata": {},
     "output_type": "display_data"
    },
    {
     "name": "stderr",
     "output_type": "stream",
     "text": [
      "Epoch 7, global step 1848: 'val_f1' was not in top 1\n"
     ]
    },
    {
     "data": {
      "application/vnd.jupyter.widget-view+json": {
       "model_id": "586a3136e6f54159a31dfadd0633c099",
       "version_major": 2,
       "version_minor": 0
      },
      "text/plain": [
       "Validation: 0it [00:00, ?it/s]"
      ]
     },
     "metadata": {},
     "output_type": "display_data"
    },
    {
     "name": "stderr",
     "output_type": "stream",
     "text": [
      "Epoch 8, global step 2079: 'val_f1' reached 0.92616 (best 0.92616), saving model to '/home/cslab03/Desktop/PFDM/Results/model_4_4/model_4-wav2vec2-sound_sismic_train.ckpt' as top 1\n"
     ]
    },
    {
     "data": {
      "application/vnd.jupyter.widget-view+json": {
       "model_id": "3a0ffb7bf6aa4c85927229cbdc0cf2d5",
       "version_major": 2,
       "version_minor": 0
      },
      "text/plain": [
       "Validation: 0it [00:00, ?it/s]"
      ]
     },
     "metadata": {},
     "output_type": "display_data"
    },
    {
     "name": "stderr",
     "output_type": "stream",
     "text": [
      "Epoch 9, global step 2310: 'val_f1' was not in top 1\n"
     ]
    },
    {
     "data": {
      "application/vnd.jupyter.widget-view+json": {
       "model_id": "efdfa8693ec04581bee29f945bd6a110",
       "version_major": 2,
       "version_minor": 0
      },
      "text/plain": [
       "Validation: 0it [00:00, ?it/s]"
      ]
     },
     "metadata": {},
     "output_type": "display_data"
    },
    {
     "name": "stderr",
     "output_type": "stream",
     "text": [
      "Epoch 10, global step 2541: 'val_f1' was not in top 1\n"
     ]
    },
    {
     "data": {
      "application/vnd.jupyter.widget-view+json": {
       "model_id": "c5038f25339b4e94b2b657e7083607d4",
       "version_major": 2,
       "version_minor": 0
      },
      "text/plain": [
       "Validation: 0it [00:00, ?it/s]"
      ]
     },
     "metadata": {},
     "output_type": "display_data"
    },
    {
     "name": "stderr",
     "output_type": "stream",
     "text": [
      "Epoch 11, global step 2772: 'val_f1' reached 0.92930 (best 0.92930), saving model to '/home/cslab03/Desktop/PFDM/Results/model_4_4/model_4-wav2vec2-sound_sismic_train.ckpt' as top 1\n"
     ]
    },
    {
     "data": {
      "application/vnd.jupyter.widget-view+json": {
       "model_id": "18c844386bd641f6b05e8e93427468b9",
       "version_major": 2,
       "version_minor": 0
      },
      "text/plain": [
       "Validation: 0it [00:00, ?it/s]"
      ]
     },
     "metadata": {},
     "output_type": "display_data"
    },
    {
     "name": "stderr",
     "output_type": "stream",
     "text": [
      "Epoch 12, global step 3003: 'val_f1' was not in top 1\n"
     ]
    },
    {
     "data": {
      "application/vnd.jupyter.widget-view+json": {
       "model_id": "8f2aa7ffc485417ab82576d5695cd23f",
       "version_major": 2,
       "version_minor": 0
      },
      "text/plain": [
       "Validation: 0it [00:00, ?it/s]"
      ]
     },
     "metadata": {},
     "output_type": "display_data"
    },
    {
     "name": "stderr",
     "output_type": "stream",
     "text": [
      "Epoch 13, global step 3234: 'val_f1' was not in top 1\n"
     ]
    },
    {
     "data": {
      "application/vnd.jupyter.widget-view+json": {
       "model_id": "5e908e8d47cc439bad0d56167256825a",
       "version_major": 2,
       "version_minor": 0
      },
      "text/plain": [
       "Validation: 0it [00:00, ?it/s]"
      ]
     },
     "metadata": {},
     "output_type": "display_data"
    },
    {
     "name": "stderr",
     "output_type": "stream",
     "text": [
      "Epoch 14, global step 3465: 'val_f1' was not in top 1\n"
     ]
    },
    {
     "data": {
      "application/vnd.jupyter.widget-view+json": {
       "model_id": "0e3b4a492a5c4f8ca0bbc47156c6e41d",
       "version_major": 2,
       "version_minor": 0
      },
      "text/plain": [
       "Validation: 0it [00:00, ?it/s]"
      ]
     },
     "metadata": {},
     "output_type": "display_data"
    },
    {
     "name": "stderr",
     "output_type": "stream",
     "text": [
      "Epoch 15, global step 3696: 'val_f1' was not in top 1\n",
      "/home/cslab03/anaconda3/envs/coEnv/lib/python3.9/site-packages/pytorch_lightning/trainer/connectors/checkpoint_connector.py:124: UserWarning: `.test(ckpt_path=None)` was called without a model. The best model of the previous `fit` call will be used. You can pass `.test(ckpt_path='best')` to use the best model or `.test(ckpt_path='last')` to use the last model. If you pass a value, this warning will be silenced.\n",
      "  rank_zero_warn(\n",
      "You are using a CUDA device ('NVIDIA RTX A4000') that has Tensor Cores. To properly utilize them, you should set `torch.set_float32_matmul_precision('medium' | 'high')` which will trade-off precision for performance. For more details, read https://pytorch.org/docs/stable/generated/torch.set_float32_matmul_precision.html#torch.set_float32_matmul_precision\n",
      "Restoring states from the checkpoint path at /home/cslab03/Desktop/PFDM/Results/model_4_4/model_4-wav2vec2-sound_sismic_train.ckpt\n",
      "LOCAL_RANK: 0 - CUDA_VISIBLE_DEVICES: [0]\n",
      "Loaded model weights from checkpoint at /home/cslab03/Desktop/PFDM/Results/model_4_4/model_4-wav2vec2-sound_sismic_train.ckpt\n"
     ]
    },
    {
     "data": {
      "application/vnd.jupyter.widget-view+json": {
       "model_id": "a5e5fa03a9d441f1a6a348ab35df8c8e",
       "version_major": 2,
       "version_minor": 0
      },
      "text/plain": [
       "Testing: 0it [00:00, ?it/s]"
      ]
     },
     "metadata": {},
     "output_type": "display_data"
    },
    {
     "name": "stdout",
     "output_type": "stream",
     "text": [
      "────────────────────────────────────────────────────────────────────────────────────────────────────────────────────────\n",
      "       Test metric             DataLoader 0\n",
      "────────────────────────────────────────────────────────────────────────────────────────────────────────────────────────\n",
      "        test_acc            0.9222935438156128\n",
      "         test_f1            0.9228143692016602\n",
      "        test_loss           0.2091541588306427\n",
      "────────────────────────────────────────────────────────────────────────────────────────────────────────────────────────\n"
     ]
    },
    {
     "name": "stderr",
     "output_type": "stream",
     "text": [
      "Some weights of the model checkpoint at facebook/wav2vec2-base-960h were not used when initializing Wav2Vec2Model: ['lm_head.bias', 'lm_head.weight']\n",
      "- This IS expected if you are initializing Wav2Vec2Model from the checkpoint of a model trained on another task or with another architecture (e.g. initializing a BertForSequenceClassification model from a BertForPreTraining model).\n",
      "- This IS NOT expected if you are initializing Wav2Vec2Model from the checkpoint of a model that you expect to be exactly identical (initializing a BertForSequenceClassification model from a BertForSequenceClassification model).\n",
      "Some weights of Wav2Vec2Model were not initialized from the model checkpoint at facebook/wav2vec2-base-960h and are newly initialized: ['wav2vec2.masked_spec_embed']\n",
      "You should probably TRAIN this model on a down-stream task to be able to use it for predictions and inference.\n",
      "/home/cslab03/anaconda3/envs/coEnv/lib/python3.9/site-packages/pytorch_lightning/trainer/connectors/accelerator_connector.py:478: LightningDeprecationWarning: Setting `Trainer(gpus=1)` is deprecated in v1.7 and will be removed in v2.0. Please use `Trainer(accelerator='gpu', devices=1)` instead.\n",
      "  rank_zero_deprecation(\n",
      "Using 16bit None Automatic Mixed Precision (AMP)\n",
      "GPU available: True (cuda), used: True\n",
      "TPU available: False, using: 0 TPU cores\n",
      "IPU available: False, using: 0 IPUs\n",
      "HPU available: False, using: 0 HPUs\n",
      "You are using a CUDA device ('NVIDIA RTX A4000') that has Tensor Cores. To properly utilize them, you should set `torch.set_float32_matmul_precision('medium' | 'high')` which will trade-off precision for performance. For more details, read https://pytorch.org/docs/stable/generated/torch.set_float32_matmul_precision.html#torch.set_float32_matmul_precision\n",
      "LOCAL_RANK: 0 - CUDA_VISIBLE_DEVICES: [0]\n",
      "/tmp/ipykernel_8863/3866840437.py:205: UnderReviewWarning: The feature LinearWarmupCosineAnnealingLR is currently marked under review. The compatibility with other Lightning projects is not guaranteed and API may change at any time. The API and functionality may change without warning in future releases. More details: https://lightning-bolts.readthedocs.io/en/latest/stability.html\n",
      "  scheduler = LinearWarmupCosineAnnealingLR(optimizer,\n",
      "\n",
      "  | Name                | Type          | Params\n",
      "------------------------------------------------------\n",
      "0 | model               | Wav2Vec2Model | 94.4 M\n",
      "1 | classification_head | Sequential    | 263 K \n",
      "------------------------------------------------------\n",
      "94.6 M    Trainable params\n",
      "0         Non-trainable params\n",
      "94.6 M    Total params\n",
      "189.270   Total estimated model params size (MB)\n"
     ]
    },
    {
     "name": "stdout",
     "output_type": "stream",
     "text": [
      "Files in /home/cslab03/Desktop/PFDM/Results/model_5_5/: []\n",
      "Saving checkpoints to /home/cslab03/Desktop/PFDM/Results/model_5_5/\n"
     ]
    },
    {
     "data": {
      "application/vnd.jupyter.widget-view+json": {
       "model_id": "f94587315048407fa2fa4e22e77a8462",
       "version_major": 2,
       "version_minor": 0
      },
      "text/plain": [
       "Training: 0it [00:00, ?it/s]"
      ]
     },
     "metadata": {},
     "output_type": "display_data"
    },
    {
     "data": {
      "application/vnd.jupyter.widget-view+json": {
       "model_id": "0ccca1344a5f41cd8c23ea9f78341575",
       "version_major": 2,
       "version_minor": 0
      },
      "text/plain": [
       "Validation: 0it [00:00, ?it/s]"
      ]
     },
     "metadata": {},
     "output_type": "display_data"
    },
    {
     "name": "stderr",
     "output_type": "stream",
     "text": [
      "Epoch 0, global step 231: 'val_f1' reached 0.88492 (best 0.88492), saving model to '/home/cslab03/Desktop/PFDM/Results/model_5_5/model_5-wav2vec2-sound_sismic_train.ckpt' as top 1\n"
     ]
    },
    {
     "data": {
      "application/vnd.jupyter.widget-view+json": {
       "model_id": "81d48e99e81a45818f245b63b0654b61",
       "version_major": 2,
       "version_minor": 0
      },
      "text/plain": [
       "Validation: 0it [00:00, ?it/s]"
      ]
     },
     "metadata": {},
     "output_type": "display_data"
    },
    {
     "name": "stderr",
     "output_type": "stream",
     "text": [
      "Epoch 1, global step 462: 'val_f1' was not in top 1\n"
     ]
    },
    {
     "data": {
      "application/vnd.jupyter.widget-view+json": {
       "model_id": "cd069961a6804fd894871f3326242573",
       "version_major": 2,
       "version_minor": 0
      },
      "text/plain": [
       "Validation: 0it [00:00, ?it/s]"
      ]
     },
     "metadata": {},
     "output_type": "display_data"
    },
    {
     "name": "stderr",
     "output_type": "stream",
     "text": [
      "Epoch 2, global step 693: 'val_f1' reached 0.90141 (best 0.90141), saving model to '/home/cslab03/Desktop/PFDM/Results/model_5_5/model_5-wav2vec2-sound_sismic_train.ckpt' as top 1\n"
     ]
    },
    {
     "data": {
      "application/vnd.jupyter.widget-view+json": {
       "model_id": "47830b73be624e4aa91fec05a6af3c48",
       "version_major": 2,
       "version_minor": 0
      },
      "text/plain": [
       "Validation: 0it [00:00, ?it/s]"
      ]
     },
     "metadata": {},
     "output_type": "display_data"
    },
    {
     "name": "stderr",
     "output_type": "stream",
     "text": [
      "Epoch 3, global step 924: 'val_f1' reached 0.91559 (best 0.91559), saving model to '/home/cslab03/Desktop/PFDM/Results/model_5_5/model_5-wav2vec2-sound_sismic_train.ckpt' as top 1\n"
     ]
    },
    {
     "data": {
      "application/vnd.jupyter.widget-view+json": {
       "model_id": "dc516c27feb4455caf2a8f8f7edefef2",
       "version_major": 2,
       "version_minor": 0
      },
      "text/plain": [
       "Validation: 0it [00:00, ?it/s]"
      ]
     },
     "metadata": {},
     "output_type": "display_data"
    },
    {
     "name": "stderr",
     "output_type": "stream",
     "text": [
      "Epoch 4, global step 1155: 'val_f1' reached 0.92467 (best 0.92467), saving model to '/home/cslab03/Desktop/PFDM/Results/model_5_5/model_5-wav2vec2-sound_sismic_train.ckpt' as top 1\n"
     ]
    },
    {
     "data": {
      "application/vnd.jupyter.widget-view+json": {
       "model_id": "8e4bc14aa3db4b7ba6d76d4bf43dfb62",
       "version_major": 2,
       "version_minor": 0
      },
      "text/plain": [
       "Validation: 0it [00:00, ?it/s]"
      ]
     },
     "metadata": {},
     "output_type": "display_data"
    },
    {
     "name": "stderr",
     "output_type": "stream",
     "text": [
      "Epoch 5, global step 1386: 'val_f1' was not in top 1\n"
     ]
    },
    {
     "data": {
      "application/vnd.jupyter.widget-view+json": {
       "model_id": "1190e2fe3fa448b585ac3961e24b3948",
       "version_major": 2,
       "version_minor": 0
      },
      "text/plain": [
       "Validation: 0it [00:00, ?it/s]"
      ]
     },
     "metadata": {},
     "output_type": "display_data"
    },
    {
     "name": "stderr",
     "output_type": "stream",
     "text": [
      "Epoch 6, global step 1617: 'val_f1' was not in top 1\n"
     ]
    },
    {
     "data": {
      "application/vnd.jupyter.widget-view+json": {
       "model_id": "da9cd8970c7d4c0a96807e5e5e718374",
       "version_major": 2,
       "version_minor": 0
      },
      "text/plain": [
       "Validation: 0it [00:00, ?it/s]"
      ]
     },
     "metadata": {},
     "output_type": "display_data"
    },
    {
     "name": "stderr",
     "output_type": "stream",
     "text": [
      "Epoch 7, global step 1848: 'val_f1' was not in top 1\n"
     ]
    },
    {
     "data": {
      "application/vnd.jupyter.widget-view+json": {
       "model_id": "885130472eb846098c41ef6d226d283b",
       "version_major": 2,
       "version_minor": 0
      },
      "text/plain": [
       "Validation: 0it [00:00, ?it/s]"
      ]
     },
     "metadata": {},
     "output_type": "display_data"
    },
    {
     "name": "stderr",
     "output_type": "stream",
     "text": [
      "Epoch 8, global step 2079: 'val_f1' reached 0.93209 (best 0.93209), saving model to '/home/cslab03/Desktop/PFDM/Results/model_5_5/model_5-wav2vec2-sound_sismic_train.ckpt' as top 1\n"
     ]
    },
    {
     "data": {
      "application/vnd.jupyter.widget-view+json": {
       "model_id": "ed451a69e58a45ff83cf6de56920119d",
       "version_major": 2,
       "version_minor": 0
      },
      "text/plain": [
       "Validation: 0it [00:00, ?it/s]"
      ]
     },
     "metadata": {},
     "output_type": "display_data"
    },
    {
     "name": "stderr",
     "output_type": "stream",
     "text": [
      "Epoch 9, global step 2310: 'val_f1' was not in top 1\n"
     ]
    },
    {
     "data": {
      "application/vnd.jupyter.widget-view+json": {
       "model_id": "dedbc7e909df452a997b8bf94bb62e19",
       "version_major": 2,
       "version_minor": 0
      },
      "text/plain": [
       "Validation: 0it [00:00, ?it/s]"
      ]
     },
     "metadata": {},
     "output_type": "display_data"
    },
    {
     "name": "stderr",
     "output_type": "stream",
     "text": [
      "Epoch 10, global step 2541: 'val_f1' was not in top 1\n"
     ]
    },
    {
     "data": {
      "application/vnd.jupyter.widget-view+json": {
       "model_id": "0c052de546bb417d88b11ceaf0067cc2",
       "version_major": 2,
       "version_minor": 0
      },
      "text/plain": [
       "Validation: 0it [00:00, ?it/s]"
      ]
     },
     "metadata": {},
     "output_type": "display_data"
    },
    {
     "name": "stderr",
     "output_type": "stream",
     "text": [
      "Epoch 11, global step 2772: 'val_f1' was not in top 1\n"
     ]
    },
    {
     "data": {
      "application/vnd.jupyter.widget-view+json": {
       "model_id": "151a6b0dd27141d0911e4bce4909a324",
       "version_major": 2,
       "version_minor": 0
      },
      "text/plain": [
       "Validation: 0it [00:00, ?it/s]"
      ]
     },
     "metadata": {},
     "output_type": "display_data"
    },
    {
     "name": "stderr",
     "output_type": "stream",
     "text": [
      "Epoch 12, global step 3003: 'val_f1' reached 0.93299 (best 0.93299), saving model to '/home/cslab03/Desktop/PFDM/Results/model_5_5/model_5-wav2vec2-sound_sismic_train.ckpt' as top 1\n"
     ]
    },
    {
     "data": {
      "application/vnd.jupyter.widget-view+json": {
       "model_id": "2091d2eceea2476987ceed67018e5759",
       "version_major": 2,
       "version_minor": 0
      },
      "text/plain": [
       "Validation: 0it [00:00, ?it/s]"
      ]
     },
     "metadata": {},
     "output_type": "display_data"
    },
    {
     "name": "stderr",
     "output_type": "stream",
     "text": [
      "Epoch 13, global step 3234: 'val_f1' reached 0.93491 (best 0.93491), saving model to '/home/cslab03/Desktop/PFDM/Results/model_5_5/model_5-wav2vec2-sound_sismic_train.ckpt' as top 1\n"
     ]
    },
    {
     "data": {
      "application/vnd.jupyter.widget-view+json": {
       "model_id": "28bd6870599644f19deaeb6e39478029",
       "version_major": 2,
       "version_minor": 0
      },
      "text/plain": [
       "Validation: 0it [00:00, ?it/s]"
      ]
     },
     "metadata": {},
     "output_type": "display_data"
    },
    {
     "name": "stderr",
     "output_type": "stream",
     "text": [
      "Epoch 14, global step 3465: 'val_f1' reached 0.93643 (best 0.93643), saving model to '/home/cslab03/Desktop/PFDM/Results/model_5_5/model_5-wav2vec2-sound_sismic_train.ckpt' as top 1\n"
     ]
    },
    {
     "data": {
      "application/vnd.jupyter.widget-view+json": {
       "model_id": "ec3ef8f5dc654ddca46de8e782700b1f",
       "version_major": 2,
       "version_minor": 0
      },
      "text/plain": [
       "Validation: 0it [00:00, ?it/s]"
      ]
     },
     "metadata": {},
     "output_type": "display_data"
    },
    {
     "name": "stderr",
     "output_type": "stream",
     "text": [
      "Epoch 15, global step 3696: 'val_f1' reached 0.93918 (best 0.93918), saving model to '/home/cslab03/Desktop/PFDM/Results/model_5_5/model_5-wav2vec2-sound_sismic_train.ckpt' as top 1\n"
     ]
    },
    {
     "data": {
      "application/vnd.jupyter.widget-view+json": {
       "model_id": "66068ef45dd644b5901b3345ac914435",
       "version_major": 2,
       "version_minor": 0
      },
      "text/plain": [
       "Validation: 0it [00:00, ?it/s]"
      ]
     },
     "metadata": {},
     "output_type": "display_data"
    },
    {
     "name": "stderr",
     "output_type": "stream",
     "text": [
      "Epoch 16, global step 3927: 'val_f1' was not in top 1\n",
      "/home/cslab03/anaconda3/envs/coEnv/lib/python3.9/site-packages/pytorch_lightning/trainer/connectors/checkpoint_connector.py:124: UserWarning: `.test(ckpt_path=None)` was called without a model. The best model of the previous `fit` call will be used. You can pass `.test(ckpt_path='best')` to use the best model or `.test(ckpt_path='last')` to use the last model. If you pass a value, this warning will be silenced.\n",
      "  rank_zero_warn(\n",
      "You are using a CUDA device ('NVIDIA RTX A4000') that has Tensor Cores. To properly utilize them, you should set `torch.set_float32_matmul_precision('medium' | 'high')` which will trade-off precision for performance. For more details, read https://pytorch.org/docs/stable/generated/torch.set_float32_matmul_precision.html#torch.set_float32_matmul_precision\n",
      "Restoring states from the checkpoint path at /home/cslab03/Desktop/PFDM/Results/model_5_5/model_5-wav2vec2-sound_sismic_train.ckpt\n",
      "LOCAL_RANK: 0 - CUDA_VISIBLE_DEVICES: [0]\n",
      "Loaded model weights from checkpoint at /home/cslab03/Desktop/PFDM/Results/model_5_5/model_5-wav2vec2-sound_sismic_train.ckpt\n"
     ]
    },
    {
     "data": {
      "application/vnd.jupyter.widget-view+json": {
       "model_id": "c2bd01d0966e45929391341484c65f48",
       "version_major": 2,
       "version_minor": 0
      },
      "text/plain": [
       "Testing: 0it [00:00, ?it/s]"
      ]
     },
     "metadata": {},
     "output_type": "display_data"
    },
    {
     "name": "stdout",
     "output_type": "stream",
     "text": [
      "────────────────────────────────────────────────────────────────────────────────────────────────────────────────────────\n",
      "       Test metric             DataLoader 0\n",
      "────────────────────────────────────────────────────────────────────────────────────────────────────────────────────────\n",
      "        test_acc               0.93310546875\n",
      "         test_f1            0.9334662556648254\n",
      "        test_loss           0.21591228246688843\n",
      "────────────────────────────────────────────────────────────────────────────────────────────────────────────────────────\n"
     ]
    },
    {
     "name": "stderr",
     "output_type": "stream",
     "text": [
      "Some weights of the model checkpoint at facebook/wav2vec2-base-960h were not used when initializing Wav2Vec2Model: ['lm_head.bias', 'lm_head.weight']\n",
      "- This IS expected if you are initializing Wav2Vec2Model from the checkpoint of a model trained on another task or with another architecture (e.g. initializing a BertForSequenceClassification model from a BertForPreTraining model).\n",
      "- This IS NOT expected if you are initializing Wav2Vec2Model from the checkpoint of a model that you expect to be exactly identical (initializing a BertForSequenceClassification model from a BertForSequenceClassification model).\n",
      "Some weights of Wav2Vec2Model were not initialized from the model checkpoint at facebook/wav2vec2-base-960h and are newly initialized: ['wav2vec2.masked_spec_embed']\n",
      "You should probably TRAIN this model on a down-stream task to be able to use it for predictions and inference.\n",
      "/home/cslab03/anaconda3/envs/coEnv/lib/python3.9/site-packages/pytorch_lightning/trainer/connectors/accelerator_connector.py:478: LightningDeprecationWarning: Setting `Trainer(gpus=1)` is deprecated in v1.7 and will be removed in v2.0. Please use `Trainer(accelerator='gpu', devices=1)` instead.\n",
      "  rank_zero_deprecation(\n",
      "Using 16bit None Automatic Mixed Precision (AMP)\n",
      "GPU available: True (cuda), used: True\n",
      "TPU available: False, using: 0 TPU cores\n",
      "IPU available: False, using: 0 IPUs\n",
      "HPU available: False, using: 0 HPUs\n",
      "You are using a CUDA device ('NVIDIA RTX A4000') that has Tensor Cores. To properly utilize them, you should set `torch.set_float32_matmul_precision('medium' | 'high')` which will trade-off precision for performance. For more details, read https://pytorch.org/docs/stable/generated/torch.set_float32_matmul_precision.html#torch.set_float32_matmul_precision\n",
      "LOCAL_RANK: 0 - CUDA_VISIBLE_DEVICES: [0]\n",
      "/tmp/ipykernel_8863/3866840437.py:205: UnderReviewWarning: The feature LinearWarmupCosineAnnealingLR is currently marked under review. The compatibility with other Lightning projects is not guaranteed and API may change at any time. The API and functionality may change without warning in future releases. More details: https://lightning-bolts.readthedocs.io/en/latest/stability.html\n",
      "  scheduler = LinearWarmupCosineAnnealingLR(optimizer,\n",
      "\n",
      "  | Name                | Type          | Params\n",
      "------------------------------------------------------\n",
      "0 | model               | Wav2Vec2Model | 94.4 M\n",
      "1 | classification_head | Sequential    | 263 K \n",
      "------------------------------------------------------\n",
      "94.6 M    Trainable params\n",
      "0         Non-trainable params\n",
      "94.6 M    Total params\n",
      "189.270   Total estimated model params size (MB)\n"
     ]
    },
    {
     "name": "stdout",
     "output_type": "stream",
     "text": [
      "Files in /home/cslab03/Desktop/PFDM/Results/model_6_6/: []\n",
      "Saving checkpoints to /home/cslab03/Desktop/PFDM/Results/model_6_6/\n"
     ]
    },
    {
     "data": {
      "application/vnd.jupyter.widget-view+json": {
       "model_id": "affb4d92dccd49388e272efd8b2ca5a9",
       "version_major": 2,
       "version_minor": 0
      },
      "text/plain": [
       "Training: 0it [00:00, ?it/s]"
      ]
     },
     "metadata": {},
     "output_type": "display_data"
    },
    {
     "data": {
      "application/vnd.jupyter.widget-view+json": {
       "model_id": "24078b9f113840e185852bf495a7ff30",
       "version_major": 2,
       "version_minor": 0
      },
      "text/plain": [
       "Validation: 0it [00:00, ?it/s]"
      ]
     },
     "metadata": {},
     "output_type": "display_data"
    },
    {
     "name": "stderr",
     "output_type": "stream",
     "text": [
      "Epoch 0, global step 231: 'val_f1' reached 0.85007 (best 0.85007), saving model to '/home/cslab03/Desktop/PFDM/Results/model_6_6/model_6-wav2vec2-sound_sismic_train.ckpt' as top 1\n"
     ]
    },
    {
     "data": {
      "application/vnd.jupyter.widget-view+json": {
       "model_id": "19a6572ce0b84ea685157d24e670eba9",
       "version_major": 2,
       "version_minor": 0
      },
      "text/plain": [
       "Validation: 0it [00:00, ?it/s]"
      ]
     },
     "metadata": {},
     "output_type": "display_data"
    },
    {
     "name": "stderr",
     "output_type": "stream",
     "text": [
      "Epoch 1, global step 462: 'val_f1' reached 0.88135 (best 0.88135), saving model to '/home/cslab03/Desktop/PFDM/Results/model_6_6/model_6-wav2vec2-sound_sismic_train.ckpt' as top 1\n"
     ]
    },
    {
     "data": {
      "application/vnd.jupyter.widget-view+json": {
       "model_id": "eb414bc050e8414ca742afe24bf2bd16",
       "version_major": 2,
       "version_minor": 0
      },
      "text/plain": [
       "Validation: 0it [00:00, ?it/s]"
      ]
     },
     "metadata": {},
     "output_type": "display_data"
    },
    {
     "name": "stderr",
     "output_type": "stream",
     "text": [
      "Epoch 2, global step 693: 'val_f1' reached 0.89363 (best 0.89363), saving model to '/home/cslab03/Desktop/PFDM/Results/model_6_6/model_6-wav2vec2-sound_sismic_train.ckpt' as top 1\n"
     ]
    },
    {
     "data": {
      "application/vnd.jupyter.widget-view+json": {
       "model_id": "9ef6dabb479d451799d94ba5530657ea",
       "version_major": 2,
       "version_minor": 0
      },
      "text/plain": [
       "Validation: 0it [00:00, ?it/s]"
      ]
     },
     "metadata": {},
     "output_type": "display_data"
    },
    {
     "name": "stderr",
     "output_type": "stream",
     "text": [
      "Epoch 3, global step 924: 'val_f1' was not in top 1\n"
     ]
    },
    {
     "data": {
      "application/vnd.jupyter.widget-view+json": {
       "model_id": "85131b5fdf6a484aa6114dcd94987a9c",
       "version_major": 2,
       "version_minor": 0
      },
      "text/plain": [
       "Validation: 0it [00:00, ?it/s]"
      ]
     },
     "metadata": {},
     "output_type": "display_data"
    },
    {
     "name": "stderr",
     "output_type": "stream",
     "text": [
      "Epoch 4, global step 1155: 'val_f1' reached 0.89502 (best 0.89502), saving model to '/home/cslab03/Desktop/PFDM/Results/model_6_6/model_6-wav2vec2-sound_sismic_train.ckpt' as top 1\n"
     ]
    },
    {
     "data": {
      "application/vnd.jupyter.widget-view+json": {
       "model_id": "c4eb27b0846a45dca592e2c882287320",
       "version_major": 2,
       "version_minor": 0
      },
      "text/plain": [
       "Validation: 0it [00:00, ?it/s]"
      ]
     },
     "metadata": {},
     "output_type": "display_data"
    },
    {
     "name": "stderr",
     "output_type": "stream",
     "text": [
      "Epoch 5, global step 1386: 'val_f1' was not in top 1\n"
     ]
    },
    {
     "data": {
      "application/vnd.jupyter.widget-view+json": {
       "model_id": "fb96c859c1da4a509b82f3bc039c8287",
       "version_major": 2,
       "version_minor": 0
      },
      "text/plain": [
       "Validation: 0it [00:00, ?it/s]"
      ]
     },
     "metadata": {},
     "output_type": "display_data"
    },
    {
     "name": "stderr",
     "output_type": "stream",
     "text": [
      "Epoch 6, global step 1617: 'val_f1' reached 0.90577 (best 0.90577), saving model to '/home/cslab03/Desktop/PFDM/Results/model_6_6/model_6-wav2vec2-sound_sismic_train.ckpt' as top 1\n"
     ]
    },
    {
     "data": {
      "application/vnd.jupyter.widget-view+json": {
       "model_id": "d486da7f3f9948f496b400a493771a47",
       "version_major": 2,
       "version_minor": 0
      },
      "text/plain": [
       "Validation: 0it [00:00, ?it/s]"
      ]
     },
     "metadata": {},
     "output_type": "display_data"
    },
    {
     "name": "stderr",
     "output_type": "stream",
     "text": [
      "Epoch 7, global step 1848: 'val_f1' reached 0.91317 (best 0.91317), saving model to '/home/cslab03/Desktop/PFDM/Results/model_6_6/model_6-wav2vec2-sound_sismic_train.ckpt' as top 1\n"
     ]
    },
    {
     "data": {
      "application/vnd.jupyter.widget-view+json": {
       "model_id": "a4d3ad4176224e7186a803c79994d54d",
       "version_major": 2,
       "version_minor": 0
      },
      "text/plain": [
       "Validation: 0it [00:00, ?it/s]"
      ]
     },
     "metadata": {},
     "output_type": "display_data"
    },
    {
     "name": "stderr",
     "output_type": "stream",
     "text": [
      "Epoch 8, global step 2079: 'val_f1' was not in top 1\n"
     ]
    },
    {
     "data": {
      "application/vnd.jupyter.widget-view+json": {
       "model_id": "0014f81f37334faaad411bc485b4e079",
       "version_major": 2,
       "version_minor": 0
      },
      "text/plain": [
       "Validation: 0it [00:00, ?it/s]"
      ]
     },
     "metadata": {},
     "output_type": "display_data"
    },
    {
     "name": "stderr",
     "output_type": "stream",
     "text": [
      "Epoch 9, global step 2310: 'val_f1' was not in top 1\n"
     ]
    },
    {
     "data": {
      "application/vnd.jupyter.widget-view+json": {
       "model_id": "f403ce32fd89444fae4ead2ec55df33d",
       "version_major": 2,
       "version_minor": 0
      },
      "text/plain": [
       "Validation: 0it [00:00, ?it/s]"
      ]
     },
     "metadata": {},
     "output_type": "display_data"
    },
    {
     "name": "stderr",
     "output_type": "stream",
     "text": [
      "Epoch 10, global step 2541: 'val_f1' was not in top 1\n"
     ]
    },
    {
     "data": {
      "application/vnd.jupyter.widget-view+json": {
       "model_id": "a64f8d93cbfc44479d7598e4433278c7",
       "version_major": 2,
       "version_minor": 0
      },
      "text/plain": [
       "Validation: 0it [00:00, ?it/s]"
      ]
     },
     "metadata": {},
     "output_type": "display_data"
    },
    {
     "name": "stderr",
     "output_type": "stream",
     "text": [
      "Epoch 11, global step 2772: 'val_f1' was not in top 1\n"
     ]
    },
    {
     "data": {
      "application/vnd.jupyter.widget-view+json": {
       "model_id": "799dc642673a4c7e8c97e1b32790919f",
       "version_major": 2,
       "version_minor": 0
      },
      "text/plain": [
       "Validation: 0it [00:00, ?it/s]"
      ]
     },
     "metadata": {},
     "output_type": "display_data"
    },
    {
     "name": "stderr",
     "output_type": "stream",
     "text": [
      "Epoch 12, global step 3003: 'val_f1' was not in top 1\n"
     ]
    },
    {
     "data": {
      "application/vnd.jupyter.widget-view+json": {
       "model_id": "f5eb4c8e26644126b28c342ced056086",
       "version_major": 2,
       "version_minor": 0
      },
      "text/plain": [
       "Validation: 0it [00:00, ?it/s]"
      ]
     },
     "metadata": {},
     "output_type": "display_data"
    },
    {
     "name": "stderr",
     "output_type": "stream",
     "text": [
      "Epoch 13, global step 3234: 'val_f1' reached 0.92184 (best 0.92184), saving model to '/home/cslab03/Desktop/PFDM/Results/model_6_6/model_6-wav2vec2-sound_sismic_train.ckpt' as top 1\n"
     ]
    },
    {
     "data": {
      "application/vnd.jupyter.widget-view+json": {
       "model_id": "42477a5b71114123999d8d16898649bb",
       "version_major": 2,
       "version_minor": 0
      },
      "text/plain": [
       "Validation: 0it [00:00, ?it/s]"
      ]
     },
     "metadata": {},
     "output_type": "display_data"
    },
    {
     "name": "stderr",
     "output_type": "stream",
     "text": [
      "Epoch 14, global step 3465: 'val_f1' was not in top 1\n"
     ]
    },
    {
     "data": {
      "application/vnd.jupyter.widget-view+json": {
       "model_id": "e6f92c8fa7844171914acb9e20d58a16",
       "version_major": 2,
       "version_minor": 0
      },
      "text/plain": [
       "Validation: 0it [00:00, ?it/s]"
      ]
     },
     "metadata": {},
     "output_type": "display_data"
    },
    {
     "name": "stderr",
     "output_type": "stream",
     "text": [
      "Epoch 15, global step 3696: 'val_f1' reached 0.92250 (best 0.92250), saving model to '/home/cslab03/Desktop/PFDM/Results/model_6_6/model_6-wav2vec2-sound_sismic_train.ckpt' as top 1\n",
      "/home/cslab03/anaconda3/envs/coEnv/lib/python3.9/site-packages/pytorch_lightning/trainer/connectors/checkpoint_connector.py:124: UserWarning: `.test(ckpt_path=None)` was called without a model. The best model of the previous `fit` call will be used. You can pass `.test(ckpt_path='best')` to use the best model or `.test(ckpt_path='last')` to use the last model. If you pass a value, this warning will be silenced.\n",
      "  rank_zero_warn(\n",
      "You are using a CUDA device ('NVIDIA RTX A4000') that has Tensor Cores. To properly utilize them, you should set `torch.set_float32_matmul_precision('medium' | 'high')` which will trade-off precision for performance. For more details, read https://pytorch.org/docs/stable/generated/torch.set_float32_matmul_precision.html#torch.set_float32_matmul_precision\n",
      "Restoring states from the checkpoint path at /home/cslab03/Desktop/PFDM/Results/model_6_6/model_6-wav2vec2-sound_sismic_train.ckpt\n",
      "LOCAL_RANK: 0 - CUDA_VISIBLE_DEVICES: [0]\n",
      "Loaded model weights from checkpoint at /home/cslab03/Desktop/PFDM/Results/model_6_6/model_6-wav2vec2-sound_sismic_train.ckpt\n"
     ]
    },
    {
     "data": {
      "application/vnd.jupyter.widget-view+json": {
       "model_id": "b711bb3595394d66936c069d417aa07f",
       "version_major": 2,
       "version_minor": 0
      },
      "text/plain": [
       "Testing: 0it [00:00, ?it/s]"
      ]
     },
     "metadata": {},
     "output_type": "display_data"
    },
    {
     "name": "stdout",
     "output_type": "stream",
     "text": [
      "────────────────────────────────────────────────────────────────────────────────────────────────────────────────────────\n",
      "       Test metric             DataLoader 0\n",
      "────────────────────────────────────────────────────────────────────────────────────────────────────────────────────────\n",
      "        test_acc            0.9339425563812256\n",
      "         test_f1            0.9342706203460693\n",
      "        test_loss            0.197373166680336\n",
      "────────────────────────────────────────────────────────────────────────────────────────────────────────────────────────\n"
     ]
    },
    {
     "name": "stderr",
     "output_type": "stream",
     "text": [
      "Some weights of the model checkpoint at facebook/wav2vec2-base-960h were not used when initializing Wav2Vec2Model: ['lm_head.bias', 'lm_head.weight']\n",
      "- This IS expected if you are initializing Wav2Vec2Model from the checkpoint of a model trained on another task or with another architecture (e.g. initializing a BertForSequenceClassification model from a BertForPreTraining model).\n",
      "- This IS NOT expected if you are initializing Wav2Vec2Model from the checkpoint of a model that you expect to be exactly identical (initializing a BertForSequenceClassification model from a BertForSequenceClassification model).\n",
      "Some weights of Wav2Vec2Model were not initialized from the model checkpoint at facebook/wav2vec2-base-960h and are newly initialized: ['wav2vec2.masked_spec_embed']\n",
      "You should probably TRAIN this model on a down-stream task to be able to use it for predictions and inference.\n",
      "/home/cslab03/anaconda3/envs/coEnv/lib/python3.9/site-packages/pytorch_lightning/trainer/connectors/accelerator_connector.py:478: LightningDeprecationWarning: Setting `Trainer(gpus=1)` is deprecated in v1.7 and will be removed in v2.0. Please use `Trainer(accelerator='gpu', devices=1)` instead.\n",
      "  rank_zero_deprecation(\n",
      "Using 16bit None Automatic Mixed Precision (AMP)\n",
      "GPU available: True (cuda), used: True\n",
      "TPU available: False, using: 0 TPU cores\n",
      "IPU available: False, using: 0 IPUs\n",
      "HPU available: False, using: 0 HPUs\n",
      "You are using a CUDA device ('NVIDIA RTX A4000') that has Tensor Cores. To properly utilize them, you should set `torch.set_float32_matmul_precision('medium' | 'high')` which will trade-off precision for performance. For more details, read https://pytorch.org/docs/stable/generated/torch.set_float32_matmul_precision.html#torch.set_float32_matmul_precision\n",
      "LOCAL_RANK: 0 - CUDA_VISIBLE_DEVICES: [0]\n",
      "/tmp/ipykernel_8863/3866840437.py:205: UnderReviewWarning: The feature LinearWarmupCosineAnnealingLR is currently marked under review. The compatibility with other Lightning projects is not guaranteed and API may change at any time. The API and functionality may change without warning in future releases. More details: https://lightning-bolts.readthedocs.io/en/latest/stability.html\n",
      "  scheduler = LinearWarmupCosineAnnealingLR(optimizer,\n",
      "\n",
      "  | Name                | Type          | Params\n",
      "------------------------------------------------------\n",
      "0 | model               | Wav2Vec2Model | 94.4 M\n",
      "1 | classification_head | Sequential    | 263 K \n",
      "------------------------------------------------------\n",
      "94.6 M    Trainable params\n",
      "0         Non-trainable params\n",
      "94.6 M    Total params\n",
      "189.270   Total estimated model params size (MB)\n"
     ]
    },
    {
     "name": "stdout",
     "output_type": "stream",
     "text": [
      "Files in /home/cslab03/Desktop/PFDM/Results/model_7_7/: []\n",
      "Saving checkpoints to /home/cslab03/Desktop/PFDM/Results/model_7_7/\n"
     ]
    },
    {
     "data": {
      "application/vnd.jupyter.widget-view+json": {
       "model_id": "8df98cd582f2499b8b8e855d2b43db60",
       "version_major": 2,
       "version_minor": 0
      },
      "text/plain": [
       "Training: 0it [00:00, ?it/s]"
      ]
     },
     "metadata": {},
     "output_type": "display_data"
    },
    {
     "data": {
      "application/vnd.jupyter.widget-view+json": {
       "model_id": "72319cf8833c48f3ab85a8524536f533",
       "version_major": 2,
       "version_minor": 0
      },
      "text/plain": [
       "Validation: 0it [00:00, ?it/s]"
      ]
     },
     "metadata": {},
     "output_type": "display_data"
    },
    {
     "name": "stderr",
     "output_type": "stream",
     "text": [
      "Epoch 0, global step 231: 'val_f1' reached 0.84911 (best 0.84911), saving model to '/home/cslab03/Desktop/PFDM/Results/model_7_7/model_7-wav2vec2-sound_sismic_train.ckpt' as top 1\n"
     ]
    },
    {
     "data": {
      "application/vnd.jupyter.widget-view+json": {
       "model_id": "0ef8cb2ed0cf401f9e9ca67d6134cb5b",
       "version_major": 2,
       "version_minor": 0
      },
      "text/plain": [
       "Validation: 0it [00:00, ?it/s]"
      ]
     },
     "metadata": {},
     "output_type": "display_data"
    },
    {
     "name": "stderr",
     "output_type": "stream",
     "text": [
      "Epoch 1, global step 462: 'val_f1' reached 0.89994 (best 0.89994), saving model to '/home/cslab03/Desktop/PFDM/Results/model_7_7/model_7-wav2vec2-sound_sismic_train.ckpt' as top 1\n"
     ]
    },
    {
     "data": {
      "application/vnd.jupyter.widget-view+json": {
       "model_id": "fdce831e0cc64e62a0ddfabee0dc624f",
       "version_major": 2,
       "version_minor": 0
      },
      "text/plain": [
       "Validation: 0it [00:00, ?it/s]"
      ]
     },
     "metadata": {},
     "output_type": "display_data"
    },
    {
     "name": "stderr",
     "output_type": "stream",
     "text": [
      "Epoch 2, global step 693: 'val_f1' reached 0.90099 (best 0.90099), saving model to '/home/cslab03/Desktop/PFDM/Results/model_7_7/model_7-wav2vec2-sound_sismic_train.ckpt' as top 1\n"
     ]
    },
    {
     "data": {
      "application/vnd.jupyter.widget-view+json": {
       "model_id": "b964842635944ba8ba0a14aefcd250ed",
       "version_major": 2,
       "version_minor": 0
      },
      "text/plain": [
       "Validation: 0it [00:00, ?it/s]"
      ]
     },
     "metadata": {},
     "output_type": "display_data"
    },
    {
     "name": "stderr",
     "output_type": "stream",
     "text": [
      "Epoch 3, global step 924: 'val_f1' was not in top 1\n"
     ]
    },
    {
     "data": {
      "application/vnd.jupyter.widget-view+json": {
       "model_id": "bd8bdf73055c421c9cf2b49bf0e6ad01",
       "version_major": 2,
       "version_minor": 0
      },
      "text/plain": [
       "Validation: 0it [00:00, ?it/s]"
      ]
     },
     "metadata": {},
     "output_type": "display_data"
    },
    {
     "name": "stderr",
     "output_type": "stream",
     "text": [
      "Epoch 4, global step 1155: 'val_f1' was not in top 1\n"
     ]
    },
    {
     "data": {
      "application/vnd.jupyter.widget-view+json": {
       "model_id": "4abf29fdcd7a4e19837ddb2d023b951f",
       "version_major": 2,
       "version_minor": 0
      },
      "text/plain": [
       "Validation: 0it [00:00, ?it/s]"
      ]
     },
     "metadata": {},
     "output_type": "display_data"
    },
    {
     "name": "stderr",
     "output_type": "stream",
     "text": [
      "Epoch 5, global step 1386: 'val_f1' reached 0.91480 (best 0.91480), saving model to '/home/cslab03/Desktop/PFDM/Results/model_7_7/model_7-wav2vec2-sound_sismic_train.ckpt' as top 1\n"
     ]
    },
    {
     "data": {
      "application/vnd.jupyter.widget-view+json": {
       "model_id": "276f95d868f8490cbd403ffebe6bc3ef",
       "version_major": 2,
       "version_minor": 0
      },
      "text/plain": [
       "Validation: 0it [00:00, ?it/s]"
      ]
     },
     "metadata": {},
     "output_type": "display_data"
    },
    {
     "name": "stderr",
     "output_type": "stream",
     "text": [
      "Epoch 6, global step 1617: 'val_f1' was not in top 1\n"
     ]
    },
    {
     "data": {
      "application/vnd.jupyter.widget-view+json": {
       "model_id": "6201e7b3c8e949b58ee29267f03ca3f2",
       "version_major": 2,
       "version_minor": 0
      },
      "text/plain": [
       "Validation: 0it [00:00, ?it/s]"
      ]
     },
     "metadata": {},
     "output_type": "display_data"
    },
    {
     "name": "stderr",
     "output_type": "stream",
     "text": [
      "Epoch 7, global step 1848: 'val_f1' was not in top 1\n"
     ]
    },
    {
     "data": {
      "application/vnd.jupyter.widget-view+json": {
       "model_id": "2f710054e80f40eba22b238c055106c9",
       "version_major": 2,
       "version_minor": 0
      },
      "text/plain": [
       "Validation: 0it [00:00, ?it/s]"
      ]
     },
     "metadata": {},
     "output_type": "display_data"
    },
    {
     "name": "stderr",
     "output_type": "stream",
     "text": [
      "Epoch 8, global step 2079: 'val_f1' reached 0.91508 (best 0.91508), saving model to '/home/cslab03/Desktop/PFDM/Results/model_7_7/model_7-wav2vec2-sound_sismic_train.ckpt' as top 1\n"
     ]
    },
    {
     "data": {
      "application/vnd.jupyter.widget-view+json": {
       "model_id": "13bbdc7c63724b689ff45d63ca7d9891",
       "version_major": 2,
       "version_minor": 0
      },
      "text/plain": [
       "Validation: 0it [00:00, ?it/s]"
      ]
     },
     "metadata": {},
     "output_type": "display_data"
    },
    {
     "name": "stderr",
     "output_type": "stream",
     "text": [
      "Epoch 9, global step 2310: 'val_f1' was not in top 1\n"
     ]
    },
    {
     "data": {
      "application/vnd.jupyter.widget-view+json": {
       "model_id": "0693be13cde94f6dad3099575802386b",
       "version_major": 2,
       "version_minor": 0
      },
      "text/plain": [
       "Validation: 0it [00:00, ?it/s]"
      ]
     },
     "metadata": {},
     "output_type": "display_data"
    },
    {
     "name": "stderr",
     "output_type": "stream",
     "text": [
      "Epoch 10, global step 2541: 'val_f1' reached 0.92850 (best 0.92850), saving model to '/home/cslab03/Desktop/PFDM/Results/model_7_7/model_7-wav2vec2-sound_sismic_train.ckpt' as top 1\n"
     ]
    },
    {
     "data": {
      "application/vnd.jupyter.widget-view+json": {
       "model_id": "ff3fecc96b5145dcadf94a72d77e49d0",
       "version_major": 2,
       "version_minor": 0
      },
      "text/plain": [
       "Validation: 0it [00:00, ?it/s]"
      ]
     },
     "metadata": {},
     "output_type": "display_data"
    },
    {
     "name": "stderr",
     "output_type": "stream",
     "text": [
      "Epoch 11, global step 2772: 'val_f1' was not in top 1\n"
     ]
    },
    {
     "data": {
      "application/vnd.jupyter.widget-view+json": {
       "model_id": "27f9edba30ca4f27893304aafe25ff7f",
       "version_major": 2,
       "version_minor": 0
      },
      "text/plain": [
       "Validation: 0it [00:00, ?it/s]"
      ]
     },
     "metadata": {},
     "output_type": "display_data"
    },
    {
     "name": "stderr",
     "output_type": "stream",
     "text": [
      "Epoch 12, global step 3003: 'val_f1' was not in top 1\n"
     ]
    },
    {
     "data": {
      "application/vnd.jupyter.widget-view+json": {
       "model_id": "0132d6728b374a799471bea85caa109c",
       "version_major": 2,
       "version_minor": 0
      },
      "text/plain": [
       "Validation: 0it [00:00, ?it/s]"
      ]
     },
     "metadata": {},
     "output_type": "display_data"
    },
    {
     "name": "stderr",
     "output_type": "stream",
     "text": [
      "Epoch 13, global step 3234: 'val_f1' was not in top 1\n"
     ]
    },
    {
     "data": {
      "application/vnd.jupyter.widget-view+json": {
       "model_id": "fcfe19756b724041b200224e192f42f0",
       "version_major": 2,
       "version_minor": 0
      },
      "text/plain": [
       "Validation: 0it [00:00, ?it/s]"
      ]
     },
     "metadata": {},
     "output_type": "display_data"
    },
    {
     "name": "stderr",
     "output_type": "stream",
     "text": [
      "Epoch 14, global step 3465: 'val_f1' was not in top 1\n"
     ]
    },
    {
     "data": {
      "application/vnd.jupyter.widget-view+json": {
       "model_id": "5bc535b2a8804f46873b923e8d9caca9",
       "version_major": 2,
       "version_minor": 0
      },
      "text/plain": [
       "Validation: 0it [00:00, ?it/s]"
      ]
     },
     "metadata": {},
     "output_type": "display_data"
    },
    {
     "name": "stderr",
     "output_type": "stream",
     "text": [
      "Epoch 15, global step 3696: 'val_f1' was not in top 1\n",
      "/home/cslab03/anaconda3/envs/coEnv/lib/python3.9/site-packages/pytorch_lightning/trainer/connectors/checkpoint_connector.py:124: UserWarning: `.test(ckpt_path=None)` was called without a model. The best model of the previous `fit` call will be used. You can pass `.test(ckpt_path='best')` to use the best model or `.test(ckpt_path='last')` to use the last model. If you pass a value, this warning will be silenced.\n",
      "  rank_zero_warn(\n",
      "You are using a CUDA device ('NVIDIA RTX A4000') that has Tensor Cores. To properly utilize them, you should set `torch.set_float32_matmul_precision('medium' | 'high')` which will trade-off precision for performance. For more details, read https://pytorch.org/docs/stable/generated/torch.set_float32_matmul_precision.html#torch.set_float32_matmul_precision\n",
      "Restoring states from the checkpoint path at /home/cslab03/Desktop/PFDM/Results/model_7_7/model_7-wav2vec2-sound_sismic_train.ckpt\n",
      "LOCAL_RANK: 0 - CUDA_VISIBLE_DEVICES: [0]\n",
      "Loaded model weights from checkpoint at /home/cslab03/Desktop/PFDM/Results/model_7_7/model_7-wav2vec2-sound_sismic_train.ckpt\n"
     ]
    },
    {
     "data": {
      "application/vnd.jupyter.widget-view+json": {
       "model_id": "da669954f3874d3c9f2fb91edeec8e23",
       "version_major": 2,
       "version_minor": 0
      },
      "text/plain": [
       "Testing: 0it [00:00, ?it/s]"
      ]
     },
     "metadata": {},
     "output_type": "display_data"
    },
    {
     "name": "stdout",
     "output_type": "stream",
     "text": [
      "────────────────────────────────────────────────────────────────────────────────────────────────────────────────────────\n",
      "       Test metric             DataLoader 0\n",
      "────────────────────────────────────────────────────────────────────────────────────────────────────────────────────────\n",
      "        test_acc            0.9276646375656128\n",
      "         test_f1             0.927513599395752\n",
      "        test_loss           0.22118854522705078\n",
      "────────────────────────────────────────────────────────────────────────────────────────────────────────────────────────\n"
     ]
    },
    {
     "name": "stderr",
     "output_type": "stream",
     "text": [
      "Some weights of the model checkpoint at facebook/wav2vec2-base-960h were not used when initializing Wav2Vec2Model: ['lm_head.bias', 'lm_head.weight']\n",
      "- This IS expected if you are initializing Wav2Vec2Model from the checkpoint of a model trained on another task or with another architecture (e.g. initializing a BertForSequenceClassification model from a BertForPreTraining model).\n",
      "- This IS NOT expected if you are initializing Wav2Vec2Model from the checkpoint of a model that you expect to be exactly identical (initializing a BertForSequenceClassification model from a BertForSequenceClassification model).\n",
      "Some weights of Wav2Vec2Model were not initialized from the model checkpoint at facebook/wav2vec2-base-960h and are newly initialized: ['wav2vec2.masked_spec_embed']\n",
      "You should probably TRAIN this model on a down-stream task to be able to use it for predictions and inference.\n",
      "/home/cslab03/anaconda3/envs/coEnv/lib/python3.9/site-packages/pytorch_lightning/trainer/connectors/accelerator_connector.py:478: LightningDeprecationWarning: Setting `Trainer(gpus=1)` is deprecated in v1.7 and will be removed in v2.0. Please use `Trainer(accelerator='gpu', devices=1)` instead.\n",
      "  rank_zero_deprecation(\n",
      "Using 16bit None Automatic Mixed Precision (AMP)\n",
      "GPU available: True (cuda), used: True\n",
      "TPU available: False, using: 0 TPU cores\n",
      "IPU available: False, using: 0 IPUs\n",
      "HPU available: False, using: 0 HPUs\n",
      "You are using a CUDA device ('NVIDIA RTX A4000') that has Tensor Cores. To properly utilize them, you should set `torch.set_float32_matmul_precision('medium' | 'high')` which will trade-off precision for performance. For more details, read https://pytorch.org/docs/stable/generated/torch.set_float32_matmul_precision.html#torch.set_float32_matmul_precision\n",
      "LOCAL_RANK: 0 - CUDA_VISIBLE_DEVICES: [0]\n",
      "/tmp/ipykernel_8863/3866840437.py:205: UnderReviewWarning: The feature LinearWarmupCosineAnnealingLR is currently marked under review. The compatibility with other Lightning projects is not guaranteed and API may change at any time. The API and functionality may change without warning in future releases. More details: https://lightning-bolts.readthedocs.io/en/latest/stability.html\n",
      "  scheduler = LinearWarmupCosineAnnealingLR(optimizer,\n",
      "\n",
      "  | Name                | Type          | Params\n",
      "------------------------------------------------------\n",
      "0 | model               | Wav2Vec2Model | 94.4 M\n",
      "1 | classification_head | Sequential    | 263 K \n",
      "------------------------------------------------------\n",
      "94.6 M    Trainable params\n",
      "0         Non-trainable params\n",
      "94.6 M    Total params\n",
      "189.270   Total estimated model params size (MB)\n"
     ]
    },
    {
     "name": "stdout",
     "output_type": "stream",
     "text": [
      "Files in /home/cslab03/Desktop/PFDM/Results/model_8_8/: []\n",
      "Saving checkpoints to /home/cslab03/Desktop/PFDM/Results/model_8_8/\n"
     ]
    },
    {
     "data": {
      "application/vnd.jupyter.widget-view+json": {
       "model_id": "dbd684ebce734c96bab613db6d741b63",
       "version_major": 2,
       "version_minor": 0
      },
      "text/plain": [
       "Training: 0it [00:00, ?it/s]"
      ]
     },
     "metadata": {},
     "output_type": "display_data"
    },
    {
     "data": {
      "application/vnd.jupyter.widget-view+json": {
       "model_id": "7151fd37ac27426cbef19c873dda7bdf",
       "version_major": 2,
       "version_minor": 0
      },
      "text/plain": [
       "Validation: 0it [00:00, ?it/s]"
      ]
     },
     "metadata": {},
     "output_type": "display_data"
    },
    {
     "name": "stderr",
     "output_type": "stream",
     "text": [
      "Epoch 0, global step 231: 'val_f1' reached 0.86027 (best 0.86027), saving model to '/home/cslab03/Desktop/PFDM/Results/model_8_8/model_8-wav2vec2-sound_sismic_train.ckpt' as top 1\n"
     ]
    },
    {
     "data": {
      "application/vnd.jupyter.widget-view+json": {
       "model_id": "3d46fe9fee294e4bbbb3b28f159cfca0",
       "version_major": 2,
       "version_minor": 0
      },
      "text/plain": [
       "Validation: 0it [00:00, ?it/s]"
      ]
     },
     "metadata": {},
     "output_type": "display_data"
    },
    {
     "name": "stderr",
     "output_type": "stream",
     "text": [
      "Epoch 1, global step 462: 'val_f1' reached 0.86809 (best 0.86809), saving model to '/home/cslab03/Desktop/PFDM/Results/model_8_8/model_8-wav2vec2-sound_sismic_train.ckpt' as top 1\n"
     ]
    },
    {
     "data": {
      "application/vnd.jupyter.widget-view+json": {
       "model_id": "5bdc353213e6483dabba0e7195daf808",
       "version_major": 2,
       "version_minor": 0
      },
      "text/plain": [
       "Validation: 0it [00:00, ?it/s]"
      ]
     },
     "metadata": {},
     "output_type": "display_data"
    },
    {
     "name": "stderr",
     "output_type": "stream",
     "text": [
      "Epoch 2, global step 693: 'val_f1' reached 0.90518 (best 0.90518), saving model to '/home/cslab03/Desktop/PFDM/Results/model_8_8/model_8-wav2vec2-sound_sismic_train.ckpt' as top 1\n"
     ]
    },
    {
     "data": {
      "application/vnd.jupyter.widget-view+json": {
       "model_id": "2a9565b9ecae4d4082a63b938831255a",
       "version_major": 2,
       "version_minor": 0
      },
      "text/plain": [
       "Validation: 0it [00:00, ?it/s]"
      ]
     },
     "metadata": {},
     "output_type": "display_data"
    },
    {
     "name": "stderr",
     "output_type": "stream",
     "text": [
      "Epoch 3, global step 924: 'val_f1' was not in top 1\n"
     ]
    },
    {
     "data": {
      "application/vnd.jupyter.widget-view+json": {
       "model_id": "89ba1c9257b445e6b669f27c5d5bec46",
       "version_major": 2,
       "version_minor": 0
      },
      "text/plain": [
       "Validation: 0it [00:00, ?it/s]"
      ]
     },
     "metadata": {},
     "output_type": "display_data"
    },
    {
     "name": "stderr",
     "output_type": "stream",
     "text": [
      "Epoch 4, global step 1155: 'val_f1' reached 0.90972 (best 0.90972), saving model to '/home/cslab03/Desktop/PFDM/Results/model_8_8/model_8-wav2vec2-sound_sismic_train.ckpt' as top 1\n"
     ]
    },
    {
     "data": {
      "application/vnd.jupyter.widget-view+json": {
       "model_id": "a9666eb0185e4010a07025fcb5367ebd",
       "version_major": 2,
       "version_minor": 0
      },
      "text/plain": [
       "Validation: 0it [00:00, ?it/s]"
      ]
     },
     "metadata": {},
     "output_type": "display_data"
    },
    {
     "name": "stderr",
     "output_type": "stream",
     "text": [
      "Epoch 5, global step 1386: 'val_f1' was not in top 1\n"
     ]
    },
    {
     "data": {
      "application/vnd.jupyter.widget-view+json": {
       "model_id": "aa7a98d6dad749bf87dbc385b03ae364",
       "version_major": 2,
       "version_minor": 0
      },
      "text/plain": [
       "Validation: 0it [00:00, ?it/s]"
      ]
     },
     "metadata": {},
     "output_type": "display_data"
    },
    {
     "name": "stderr",
     "output_type": "stream",
     "text": [
      "Epoch 6, global step 1617: 'val_f1' reached 0.91547 (best 0.91547), saving model to '/home/cslab03/Desktop/PFDM/Results/model_8_8/model_8-wav2vec2-sound_sismic_train.ckpt' as top 1\n"
     ]
    },
    {
     "data": {
      "application/vnd.jupyter.widget-view+json": {
       "model_id": "54b3c9b1e3da4c89b629682915d7539b",
       "version_major": 2,
       "version_minor": 0
      },
      "text/plain": [
       "Validation: 0it [00:00, ?it/s]"
      ]
     },
     "metadata": {},
     "output_type": "display_data"
    },
    {
     "name": "stderr",
     "output_type": "stream",
     "text": [
      "Epoch 7, global step 1848: 'val_f1' reached 0.91878 (best 0.91878), saving model to '/home/cslab03/Desktop/PFDM/Results/model_8_8/model_8-wav2vec2-sound_sismic_train.ckpt' as top 1\n"
     ]
    },
    {
     "data": {
      "application/vnd.jupyter.widget-view+json": {
       "model_id": "35544599473e44899311d5d149015b06",
       "version_major": 2,
       "version_minor": 0
      },
      "text/plain": [
       "Validation: 0it [00:00, ?it/s]"
      ]
     },
     "metadata": {},
     "output_type": "display_data"
    },
    {
     "name": "stderr",
     "output_type": "stream",
     "text": [
      "Epoch 8, global step 2079: 'val_f1' was not in top 1\n"
     ]
    },
    {
     "data": {
      "application/vnd.jupyter.widget-view+json": {
       "model_id": "3db2af57a30548699e442ee58ef9f665",
       "version_major": 2,
       "version_minor": 0
      },
      "text/plain": [
       "Validation: 0it [00:00, ?it/s]"
      ]
     },
     "metadata": {},
     "output_type": "display_data"
    },
    {
     "name": "stderr",
     "output_type": "stream",
     "text": [
      "Epoch 9, global step 2310: 'val_f1' reached 0.92356 (best 0.92356), saving model to '/home/cslab03/Desktop/PFDM/Results/model_8_8/model_8-wav2vec2-sound_sismic_train.ckpt' as top 1\n"
     ]
    },
    {
     "data": {
      "application/vnd.jupyter.widget-view+json": {
       "model_id": "6436fc64009241e18ff2527db071edf1",
       "version_major": 2,
       "version_minor": 0
      },
      "text/plain": [
       "Validation: 0it [00:00, ?it/s]"
      ]
     },
     "metadata": {},
     "output_type": "display_data"
    },
    {
     "name": "stderr",
     "output_type": "stream",
     "text": [
      "Epoch 10, global step 2541: 'val_f1' was not in top 1\n"
     ]
    },
    {
     "data": {
      "application/vnd.jupyter.widget-view+json": {
       "model_id": "3d202cc942ff4f6bb74de587e3f40441",
       "version_major": 2,
       "version_minor": 0
      },
      "text/plain": [
       "Validation: 0it [00:00, ?it/s]"
      ]
     },
     "metadata": {},
     "output_type": "display_data"
    },
    {
     "name": "stderr",
     "output_type": "stream",
     "text": [
      "Epoch 11, global step 2772: 'val_f1' was not in top 1\n"
     ]
    },
    {
     "data": {
      "application/vnd.jupyter.widget-view+json": {
       "model_id": "28fb4c6b6e964314a081f7ea3838c602",
       "version_major": 2,
       "version_minor": 0
      },
      "text/plain": [
       "Validation: 0it [00:00, ?it/s]"
      ]
     },
     "metadata": {},
     "output_type": "display_data"
    },
    {
     "name": "stderr",
     "output_type": "stream",
     "text": [
      "Epoch 12, global step 3003: 'val_f1' was not in top 1\n"
     ]
    },
    {
     "data": {
      "application/vnd.jupyter.widget-view+json": {
       "model_id": "f81ca8ff54b8437a83e9361a91459a1a",
       "version_major": 2,
       "version_minor": 0
      },
      "text/plain": [
       "Validation: 0it [00:00, ?it/s]"
      ]
     },
     "metadata": {},
     "output_type": "display_data"
    },
    {
     "name": "stderr",
     "output_type": "stream",
     "text": [
      "Epoch 13, global step 3234: 'val_f1' was not in top 1\n"
     ]
    },
    {
     "data": {
      "application/vnd.jupyter.widget-view+json": {
       "model_id": "9c2d093423a34fd3b5c7eb5a3964fc4e",
       "version_major": 2,
       "version_minor": 0
      },
      "text/plain": [
       "Validation: 0it [00:00, ?it/s]"
      ]
     },
     "metadata": {},
     "output_type": "display_data"
    },
    {
     "name": "stderr",
     "output_type": "stream",
     "text": [
      "Epoch 14, global step 3465: 'val_f1' reached 0.92521 (best 0.92521), saving model to '/home/cslab03/Desktop/PFDM/Results/model_8_8/model_8-wav2vec2-sound_sismic_train.ckpt' as top 1\n"
     ]
    },
    {
     "data": {
      "application/vnd.jupyter.widget-view+json": {
       "model_id": "b3b26363506b41eaa7aadfae314e7bfc",
       "version_major": 2,
       "version_minor": 0
      },
      "text/plain": [
       "Validation: 0it [00:00, ?it/s]"
      ]
     },
     "metadata": {},
     "output_type": "display_data"
    },
    {
     "name": "stderr",
     "output_type": "stream",
     "text": [
      "Epoch 15, global step 3696: 'val_f1' was not in top 1\n",
      "/home/cslab03/anaconda3/envs/coEnv/lib/python3.9/site-packages/pytorch_lightning/trainer/connectors/checkpoint_connector.py:124: UserWarning: `.test(ckpt_path=None)` was called without a model. The best model of the previous `fit` call will be used. You can pass `.test(ckpt_path='best')` to use the best model or `.test(ckpt_path='last')` to use the last model. If you pass a value, this warning will be silenced.\n",
      "  rank_zero_warn(\n",
      "You are using a CUDA device ('NVIDIA RTX A4000') that has Tensor Cores. To properly utilize them, you should set `torch.set_float32_matmul_precision('medium' | 'high')` which will trade-off precision for performance. For more details, read https://pytorch.org/docs/stable/generated/torch.set_float32_matmul_precision.html#torch.set_float32_matmul_precision\n",
      "Restoring states from the checkpoint path at /home/cslab03/Desktop/PFDM/Results/model_8_8/model_8-wav2vec2-sound_sismic_train.ckpt\n",
      "LOCAL_RANK: 0 - CUDA_VISIBLE_DEVICES: [0]\n",
      "Loaded model weights from checkpoint at /home/cslab03/Desktop/PFDM/Results/model_8_8/model_8-wav2vec2-sound_sismic_train.ckpt\n"
     ]
    },
    {
     "data": {
      "application/vnd.jupyter.widget-view+json": {
       "model_id": "2dbed2a30a784361a976fb25598b11cb",
       "version_major": 2,
       "version_minor": 0
      },
      "text/plain": [
       "Testing: 0it [00:00, ?it/s]"
      ]
     },
     "metadata": {},
     "output_type": "display_data"
    },
    {
     "name": "stdout",
     "output_type": "stream",
     "text": [
      "────────────────────────────────────────────────────────────────────────────────────────────────────────────────────────\n",
      "       Test metric             DataLoader 0\n",
      "────────────────────────────────────────────────────────────────────────────────────────────────────────────────────────\n",
      "        test_acc            0.9255719780921936\n",
      "         test_f1            0.9257933497428894\n",
      "        test_loss           0.18934614956378937\n",
      "────────────────────────────────────────────────────────────────────────────────────────────────────────────────────────\n"
     ]
    },
    {
     "name": "stderr",
     "output_type": "stream",
     "text": [
      "Some weights of the model checkpoint at facebook/wav2vec2-base-960h were not used when initializing Wav2Vec2Model: ['lm_head.bias', 'lm_head.weight']\n",
      "- This IS expected if you are initializing Wav2Vec2Model from the checkpoint of a model trained on another task or with another architecture (e.g. initializing a BertForSequenceClassification model from a BertForPreTraining model).\n",
      "- This IS NOT expected if you are initializing Wav2Vec2Model from the checkpoint of a model that you expect to be exactly identical (initializing a BertForSequenceClassification model from a BertForSequenceClassification model).\n",
      "Some weights of Wav2Vec2Model were not initialized from the model checkpoint at facebook/wav2vec2-base-960h and are newly initialized: ['wav2vec2.masked_spec_embed']\n",
      "You should probably TRAIN this model on a down-stream task to be able to use it for predictions and inference.\n",
      "/home/cslab03/anaconda3/envs/coEnv/lib/python3.9/site-packages/pytorch_lightning/trainer/connectors/accelerator_connector.py:478: LightningDeprecationWarning: Setting `Trainer(gpus=1)` is deprecated in v1.7 and will be removed in v2.0. Please use `Trainer(accelerator='gpu', devices=1)` instead.\n",
      "  rank_zero_deprecation(\n",
      "Using 16bit None Automatic Mixed Precision (AMP)\n",
      "GPU available: True (cuda), used: True\n",
      "TPU available: False, using: 0 TPU cores\n",
      "IPU available: False, using: 0 IPUs\n",
      "HPU available: False, using: 0 HPUs\n",
      "You are using a CUDA device ('NVIDIA RTX A4000') that has Tensor Cores. To properly utilize them, you should set `torch.set_float32_matmul_precision('medium' | 'high')` which will trade-off precision for performance. For more details, read https://pytorch.org/docs/stable/generated/torch.set_float32_matmul_precision.html#torch.set_float32_matmul_precision\n",
      "LOCAL_RANK: 0 - CUDA_VISIBLE_DEVICES: [0]\n",
      "/tmp/ipykernel_8863/3866840437.py:205: UnderReviewWarning: The feature LinearWarmupCosineAnnealingLR is currently marked under review. The compatibility with other Lightning projects is not guaranteed and API may change at any time. The API and functionality may change without warning in future releases. More details: https://lightning-bolts.readthedocs.io/en/latest/stability.html\n",
      "  scheduler = LinearWarmupCosineAnnealingLR(optimizer,\n",
      "\n",
      "  | Name                | Type          | Params\n",
      "------------------------------------------------------\n",
      "0 | model               | Wav2Vec2Model | 94.4 M\n",
      "1 | classification_head | Sequential    | 263 K \n",
      "------------------------------------------------------\n",
      "94.6 M    Trainable params\n",
      "0         Non-trainable params\n",
      "94.6 M    Total params\n",
      "189.270   Total estimated model params size (MB)\n"
     ]
    },
    {
     "name": "stdout",
     "output_type": "stream",
     "text": [
      "Files in /home/cslab03/Desktop/PFDM/Results/model_9_9/: []\n",
      "Saving checkpoints to /home/cslab03/Desktop/PFDM/Results/model_9_9/\n"
     ]
    },
    {
     "data": {
      "application/vnd.jupyter.widget-view+json": {
       "model_id": "556aeef66d6440fd822661dc2e81bf57",
       "version_major": 2,
       "version_minor": 0
      },
      "text/plain": [
       "Training: 0it [00:00, ?it/s]"
      ]
     },
     "metadata": {},
     "output_type": "display_data"
    },
    {
     "data": {
      "application/vnd.jupyter.widget-view+json": {
       "model_id": "fd28b798ed024cee879eb79093d7d5b0",
       "version_major": 2,
       "version_minor": 0
      },
      "text/plain": [
       "Validation: 0it [00:00, ?it/s]"
      ]
     },
     "metadata": {},
     "output_type": "display_data"
    },
    {
     "name": "stderr",
     "output_type": "stream",
     "text": [
      "Epoch 0, global step 231: 'val_f1' reached 0.83692 (best 0.83692), saving model to '/home/cslab03/Desktop/PFDM/Results/model_9_9/model_9-wav2vec2-sound_sismic_train.ckpt' as top 1\n"
     ]
    },
    {
     "data": {
      "application/vnd.jupyter.widget-view+json": {
       "model_id": "c2ed5f59830440a7a030dbba1e74a1ed",
       "version_major": 2,
       "version_minor": 0
      },
      "text/plain": [
       "Validation: 0it [00:00, ?it/s]"
      ]
     },
     "metadata": {},
     "output_type": "display_data"
    },
    {
     "name": "stderr",
     "output_type": "stream",
     "text": [
      "Epoch 1, global step 462: 'val_f1' reached 0.88120 (best 0.88120), saving model to '/home/cslab03/Desktop/PFDM/Results/model_9_9/model_9-wav2vec2-sound_sismic_train.ckpt' as top 1\n"
     ]
    },
    {
     "data": {
      "application/vnd.jupyter.widget-view+json": {
       "model_id": "b095e80eb62b4d9195f04157e5028656",
       "version_major": 2,
       "version_minor": 0
      },
      "text/plain": [
       "Validation: 0it [00:00, ?it/s]"
      ]
     },
     "metadata": {},
     "output_type": "display_data"
    },
    {
     "name": "stderr",
     "output_type": "stream",
     "text": [
      "Epoch 2, global step 693: 'val_f1' reached 0.89488 (best 0.89488), saving model to '/home/cslab03/Desktop/PFDM/Results/model_9_9/model_9-wav2vec2-sound_sismic_train.ckpt' as top 1\n"
     ]
    },
    {
     "data": {
      "application/vnd.jupyter.widget-view+json": {
       "model_id": "af318db19fce4d9c9c6c744b9372c6ab",
       "version_major": 2,
       "version_minor": 0
      },
      "text/plain": [
       "Validation: 0it [00:00, ?it/s]"
      ]
     },
     "metadata": {},
     "output_type": "display_data"
    },
    {
     "name": "stderr",
     "output_type": "stream",
     "text": [
      "Epoch 3, global step 924: 'val_f1' reached 0.90540 (best 0.90540), saving model to '/home/cslab03/Desktop/PFDM/Results/model_9_9/model_9-wav2vec2-sound_sismic_train.ckpt' as top 1\n"
     ]
    },
    {
     "data": {
      "application/vnd.jupyter.widget-view+json": {
       "model_id": "2f7a20d38e254bc8a26b590aafa3f7b1",
       "version_major": 2,
       "version_minor": 0
      },
      "text/plain": [
       "Validation: 0it [00:00, ?it/s]"
      ]
     },
     "metadata": {},
     "output_type": "display_data"
    },
    {
     "name": "stderr",
     "output_type": "stream",
     "text": [
      "Epoch 4, global step 1155: 'val_f1' reached 0.92155 (best 0.92155), saving model to '/home/cslab03/Desktop/PFDM/Results/model_9_9/model_9-wav2vec2-sound_sismic_train.ckpt' as top 1\n"
     ]
    },
    {
     "data": {
      "application/vnd.jupyter.widget-view+json": {
       "model_id": "f819b0bbb8d047f1b2ed9c3121ea318b",
       "version_major": 2,
       "version_minor": 0
      },
      "text/plain": [
       "Validation: 0it [00:00, ?it/s]"
      ]
     },
     "metadata": {},
     "output_type": "display_data"
    },
    {
     "name": "stderr",
     "output_type": "stream",
     "text": [
      "Epoch 5, global step 1386: 'val_f1' was not in top 1\n"
     ]
    },
    {
     "data": {
      "application/vnd.jupyter.widget-view+json": {
       "model_id": "cb6542459fe8425f9637e03a02297b78",
       "version_major": 2,
       "version_minor": 0
      },
      "text/plain": [
       "Validation: 0it [00:00, ?it/s]"
      ]
     },
     "metadata": {},
     "output_type": "display_data"
    },
    {
     "name": "stderr",
     "output_type": "stream",
     "text": [
      "Epoch 6, global step 1617: 'val_f1' was not in top 1\n"
     ]
    },
    {
     "data": {
      "application/vnd.jupyter.widget-view+json": {
       "model_id": "27ef73e6c2ae47a9a0354b6a5e479069",
       "version_major": 2,
       "version_minor": 0
      },
      "text/plain": [
       "Validation: 0it [00:00, ?it/s]"
      ]
     },
     "metadata": {},
     "output_type": "display_data"
    },
    {
     "name": "stderr",
     "output_type": "stream",
     "text": [
      "Epoch 7, global step 1848: 'val_f1' reached 0.92381 (best 0.92381), saving model to '/home/cslab03/Desktop/PFDM/Results/model_9_9/model_9-wav2vec2-sound_sismic_train.ckpt' as top 1\n"
     ]
    },
    {
     "data": {
      "application/vnd.jupyter.widget-view+json": {
       "model_id": "b6dd600064b44de2a93a40ef6c0756fc",
       "version_major": 2,
       "version_minor": 0
      },
      "text/plain": [
       "Validation: 0it [00:00, ?it/s]"
      ]
     },
     "metadata": {},
     "output_type": "display_data"
    },
    {
     "name": "stderr",
     "output_type": "stream",
     "text": [
      "Epoch 8, global step 2079: 'val_f1' reached 0.92641 (best 0.92641), saving model to '/home/cslab03/Desktop/PFDM/Results/model_9_9/model_9-wav2vec2-sound_sismic_train.ckpt' as top 1\n"
     ]
    },
    {
     "data": {
      "application/vnd.jupyter.widget-view+json": {
       "model_id": "0a8ff3086ad34c8992b639c7746ea7c6",
       "version_major": 2,
       "version_minor": 0
      },
      "text/plain": [
       "Validation: 0it [00:00, ?it/s]"
      ]
     },
     "metadata": {},
     "output_type": "display_data"
    },
    {
     "name": "stderr",
     "output_type": "stream",
     "text": [
      "Epoch 9, global step 2310: 'val_f1' was not in top 1\n"
     ]
    },
    {
     "data": {
      "application/vnd.jupyter.widget-view+json": {
       "model_id": "a9444e0dffdd4316abc72da183296d60",
       "version_major": 2,
       "version_minor": 0
      },
      "text/plain": [
       "Validation: 0it [00:00, ?it/s]"
      ]
     },
     "metadata": {},
     "output_type": "display_data"
    },
    {
     "name": "stderr",
     "output_type": "stream",
     "text": [
      "Epoch 10, global step 2541: 'val_f1' reached 0.92790 (best 0.92790), saving model to '/home/cslab03/Desktop/PFDM/Results/model_9_9/model_9-wav2vec2-sound_sismic_train.ckpt' as top 1\n"
     ]
    },
    {
     "data": {
      "application/vnd.jupyter.widget-view+json": {
       "model_id": "d173e8e7bc9249f190293007860513e8",
       "version_major": 2,
       "version_minor": 0
      },
      "text/plain": [
       "Validation: 0it [00:00, ?it/s]"
      ]
     },
     "metadata": {},
     "output_type": "display_data"
    },
    {
     "name": "stderr",
     "output_type": "stream",
     "text": [
      "Epoch 11, global step 2772: 'val_f1' reached 0.92879 (best 0.92879), saving model to '/home/cslab03/Desktop/PFDM/Results/model_9_9/model_9-wav2vec2-sound_sismic_train.ckpt' as top 1\n"
     ]
    },
    {
     "data": {
      "application/vnd.jupyter.widget-view+json": {
       "model_id": "0dc3a30bcbd549ecb6bb4cf48a92c274",
       "version_major": 2,
       "version_minor": 0
      },
      "text/plain": [
       "Validation: 0it [00:00, ?it/s]"
      ]
     },
     "metadata": {},
     "output_type": "display_data"
    },
    {
     "name": "stderr",
     "output_type": "stream",
     "text": [
      "Epoch 12, global step 3003: 'val_f1' was not in top 1\n"
     ]
    },
    {
     "data": {
      "application/vnd.jupyter.widget-view+json": {
       "model_id": "2ef1c6b50c3746a6b16f7bc876ec312a",
       "version_major": 2,
       "version_minor": 0
      },
      "text/plain": [
       "Validation: 0it [00:00, ?it/s]"
      ]
     },
     "metadata": {},
     "output_type": "display_data"
    },
    {
     "name": "stderr",
     "output_type": "stream",
     "text": [
      "Epoch 13, global step 3234: 'val_f1' was not in top 1\n"
     ]
    },
    {
     "data": {
      "application/vnd.jupyter.widget-view+json": {
       "model_id": "d55853d726534b47a1558c35e81bcd00",
       "version_major": 2,
       "version_minor": 0
      },
      "text/plain": [
       "Validation: 0it [00:00, ?it/s]"
      ]
     },
     "metadata": {},
     "output_type": "display_data"
    },
    {
     "name": "stderr",
     "output_type": "stream",
     "text": [
      "Epoch 14, global step 3465: 'val_f1' reached 0.93431 (best 0.93431), saving model to '/home/cslab03/Desktop/PFDM/Results/model_9_9/model_9-wav2vec2-sound_sismic_train.ckpt' as top 1\n"
     ]
    },
    {
     "data": {
      "application/vnd.jupyter.widget-view+json": {
       "model_id": "e46947be906b48cba1d93522f2f0372e",
       "version_major": 2,
       "version_minor": 0
      },
      "text/plain": [
       "Validation: 0it [00:00, ?it/s]"
      ]
     },
     "metadata": {},
     "output_type": "display_data"
    },
    {
     "name": "stderr",
     "output_type": "stream",
     "text": [
      "Epoch 15, global step 3696: 'val_f1' was not in top 1\n",
      "/home/cslab03/anaconda3/envs/coEnv/lib/python3.9/site-packages/pytorch_lightning/trainer/connectors/checkpoint_connector.py:124: UserWarning: `.test(ckpt_path=None)` was called without a model. The best model of the previous `fit` call will be used. You can pass `.test(ckpt_path='best')` to use the best model or `.test(ckpt_path='last')` to use the last model. If you pass a value, this warning will be silenced.\n",
      "  rank_zero_warn(\n",
      "You are using a CUDA device ('NVIDIA RTX A4000') that has Tensor Cores. To properly utilize them, you should set `torch.set_float32_matmul_precision('medium' | 'high')` which will trade-off precision for performance. For more details, read https://pytorch.org/docs/stable/generated/torch.set_float32_matmul_precision.html#torch.set_float32_matmul_precision\n",
      "Restoring states from the checkpoint path at /home/cslab03/Desktop/PFDM/Results/model_9_9/model_9-wav2vec2-sound_sismic_train.ckpt\n",
      "LOCAL_RANK: 0 - CUDA_VISIBLE_DEVICES: [0]\n",
      "Loaded model weights from checkpoint at /home/cslab03/Desktop/PFDM/Results/model_9_9/model_9-wav2vec2-sound_sismic_train.ckpt\n"
     ]
    },
    {
     "data": {
      "application/vnd.jupyter.widget-view+json": {
       "model_id": "bb05b49159ab411da17f9566e4a5e363",
       "version_major": 2,
       "version_minor": 0
      },
      "text/plain": [
       "Testing: 0it [00:00, ?it/s]"
      ]
     },
     "metadata": {},
     "output_type": "display_data"
    },
    {
     "name": "stdout",
     "output_type": "stream",
     "text": [
      "────────────────────────────────────────────────────────────────────────────────────────────────────────────────────────\n",
      "       Test metric             DataLoader 0\n",
      "────────────────────────────────────────────────────────────────────────────────────────────────────────────────────────\n",
      "        test_acc               0.93408203125\n",
      "         test_f1            0.9340192675590515\n",
      "        test_loss           0.17210030555725098\n",
      "────────────────────────────────────────────────────────────────────────────────────────────────────────────────────────\n"
     ]
    }
   ],
   "source": [
    "# 10 Kfold cross validation\n",
    "for kfold in range(0,dataset.total_kfold):\n",
    "    \n",
    "    dataset.setup(fold=kfold, stage=None)\n",
    "\n",
    "    logger = TensorBoardLogger(\"logs/metrics/\", name=\"model_1\")\n",
    "    pl_model= Wav2Vec2_sound_detection(hparams=hparams, logger = logger)\n",
    "    checkpoint_path = f'/home/cslab03/Desktop/PFDM/Results/model_{kfold}_{kfold}/'\n",
    "    checkpoint_dir = os.path.dirname(os.path.abspath(checkpoint_path))\n",
    "    os.makedirs(checkpoint_path, exist_ok=True)\n",
    "    print(f'Files in {checkpoint_path}: {os.listdir(checkpoint_path)}')\n",
    "    print(f'Saving checkpoints to {checkpoint_path}')\n",
    "    checkpoint_callback = pl.callbacks.ModelCheckpoint(filename=f'model_{kfold}-{hparams[\"version\"]}',\n",
    "                                                    dirpath=checkpoint_path,\n",
    "                                                    save_top_k=1,\n",
    "                                                    verbose = True,\n",
    "                                                    monitor=\"val_f1\", mode=\"max\")\n",
    "    early_stop_callback = pl.callbacks.EarlyStopping(monitor=\"val_f1\", patience=hparams[\"patience\"], mode='max')\n",
    "    early_stop_callback_1 = pl.callbacks.EarlyStopping(monitor=\"val_loss\", patience=hparams[\"patience\"], mode='max')\n",
    "    callbacks_list = [early_stop_callback, early_stop_callback_1]\n",
    "    lr_monitor = pl.callbacks.LearningRateMonitor(logging_interval='step')\n",
    "    trainer = pl.Trainer(gpus=1,\n",
    "                        precision=16,\n",
    "                        logger=logger,\n",
    "                        num_sanity_val_steps=0,\n",
    "                        accumulate_grad_batches=hparams[\"accum_grads\"],\n",
    "                        enable_checkpointing=True,\n",
    "                        callbacks=callbacks_list + [lr_monitor, checkpoint_callback],\n",
    "                        max_epochs=300)\n",
    "\n",
    "    trainer.fit(pl_model, dataset.train_dataloader(), dataset.val_dataloader())\n",
    "    \n",
    "    trainer.test(dataloaders=dataset.test_dataloader())\n",
    "    \n",
    "    if all_preds is None:\n",
    "        all_preds = pl_model.all_preds\n",
    "    else:\n",
    "        all_preds = torch.cat([all_preds, pl_model.all_preds])\n",
    "    \n",
    "    if all_targets is None:\n",
    "        all_targets = pl_model.all_targets\n",
    "    else:\n",
    "        all_targets = torch.cat([all_targets, pl_model.all_targets])\n",
    "        \n",
    "    if all_softs is None:\n",
    "        all_softs = pl_model.softs_values\n",
    "    else:\n",
    "        all_softs = torch.cat([all_softs, pl_model.softs_values])\n",
    "    \n",
    "    accu_list.append(accuracy_score(pl_model.all_targets.cpu(), pl_model.all_preds.cpu()))\n",
    "    precision_list.append(precision_score(pl_model.all_targets.cpu(), pl_model.all_preds.cpu()))\n",
    "    recall_list.append(recall_score(pl_model.all_targets.cpu(), pl_model.all_preds.cpu()))\n",
    "    f1_list.append(f1_score(pl_model.all_targets.cpu(), pl_model.all_preds.cpu()))\n",
    "    auc_list.append(roc_auc_score(pl_model.all_targets.cpu(), pl_model.all_preds.cpu()))\n",
    "    loss_list.append(mean(pl_model.val_losses))"
   ]
  },
  {
   "cell_type": "code",
   "execution_count": null,
   "metadata": {},
   "outputs": [],
   "source": []
  },
  {
   "cell_type": "code",
   "execution_count": 37,
   "metadata": {},
   "outputs": [
    {
     "name": "stdout",
     "output_type": "stream",
     "text": [
      "Accuracy: 92.94% ± 0.00\n",
      "Precision: 90.84% ± 0.01\n",
      "Recall: 92.13% ± 0.02\n",
      "AUC: 92.82% ± 0.01\n",
      "F1 Score: 91.46% ± 0.01\n"
     ]
    }
   ],
   "source": [
    "print(f\"Accuracy: {mean(accu_list)*100:.2f}% ± {stdev(accu_list):.2f}\")\n",
    "print(f\"Precision: {mean(precision_list)*100:.2f}% ± {stdev(precision_list):.2f}\")\n",
    "print(f\"Recall: {mean(recall_list)*100:.2f}% ± {stdev(recall_list):.2f}\")\n",
    "print(f\"AUC: {mean(auc_list)*100:.2f}% ± {stdev(auc_list):.2f}\")\n",
    "print(f\"F1 Score: {mean(f1_list)*100:.2f}% ± {stdev(f1_list):.2f}\")"
   ]
  },
  {
   "cell_type": "code",
   "execution_count": 38,
   "metadata": {},
   "outputs": [
    {
     "data": {
      "text/html": [
       "<div>\n",
       "<style scoped>\n",
       "    .dataframe tbody tr th:only-of-type {\n",
       "        vertical-align: middle;\n",
       "    }\n",
       "\n",
       "    .dataframe tbody tr th {\n",
       "        vertical-align: top;\n",
       "    }\n",
       "\n",
       "    .dataframe thead th {\n",
       "        text-align: right;\n",
       "    }\n",
       "</style>\n",
       "<table border=\"1\" class=\"dataframe\">\n",
       "  <thead>\n",
       "    <tr style=\"text-align: right;\">\n",
       "      <th></th>\n",
       "      <th>0</th>\n",
       "      <th>1</th>\n",
       "    </tr>\n",
       "  </thead>\n",
       "  <tbody>\n",
       "    <tr>\n",
       "      <th>0</th>\n",
       "      <td>0.002497</td>\n",
       "      <td>0.997503</td>\n",
       "    </tr>\n",
       "    <tr>\n",
       "      <th>1</th>\n",
       "      <td>0.164248</td>\n",
       "      <td>0.835752</td>\n",
       "    </tr>\n",
       "    <tr>\n",
       "      <th>2</th>\n",
       "      <td>0.002526</td>\n",
       "      <td>0.997474</td>\n",
       "    </tr>\n",
       "    <tr>\n",
       "      <th>3</th>\n",
       "      <td>0.998031</td>\n",
       "      <td>0.001968</td>\n",
       "    </tr>\n",
       "    <tr>\n",
       "      <th>4</th>\n",
       "      <td>0.006290</td>\n",
       "      <td>0.993710</td>\n",
       "    </tr>\n",
       "    <tr>\n",
       "      <th>...</th>\n",
       "      <td>...</td>\n",
       "      <td>...</td>\n",
       "    </tr>\n",
       "    <tr>\n",
       "      <th>20454</th>\n",
       "      <td>0.017560</td>\n",
       "      <td>0.982440</td>\n",
       "    </tr>\n",
       "    <tr>\n",
       "      <th>20455</th>\n",
       "      <td>0.891811</td>\n",
       "      <td>0.108189</td>\n",
       "    </tr>\n",
       "    <tr>\n",
       "      <th>20456</th>\n",
       "      <td>0.027455</td>\n",
       "      <td>0.972545</td>\n",
       "    </tr>\n",
       "    <tr>\n",
       "      <th>20457</th>\n",
       "      <td>0.995961</td>\n",
       "      <td>0.004039</td>\n",
       "    </tr>\n",
       "    <tr>\n",
       "      <th>20458</th>\n",
       "      <td>0.995453</td>\n",
       "      <td>0.004547</td>\n",
       "    </tr>\n",
       "  </tbody>\n",
       "</table>\n",
       "<p>20459 rows × 2 columns</p>\n",
       "</div>"
      ],
      "text/plain": [
       "              0         1\n",
       "0      0.002497  0.997503\n",
       "1      0.164248  0.835752\n",
       "2      0.002526  0.997474\n",
       "3      0.998031  0.001968\n",
       "4      0.006290  0.993710\n",
       "...         ...       ...\n",
       "20454  0.017560  0.982440\n",
       "20455  0.891811  0.108189\n",
       "20456  0.027455  0.972545\n",
       "20457  0.995961  0.004039\n",
       "20458  0.995453  0.004547\n",
       "\n",
       "[20459 rows x 2 columns]"
      ]
     },
     "execution_count": 38,
     "metadata": {},
     "output_type": "execute_result"
    }
   ],
   "source": [
    "pdFas= pd.DataFrame(all_softs.cpu())\n",
    "pdFas"
   ]
  },
  {
   "cell_type": "code",
   "execution_count": 39,
   "metadata": {},
   "outputs": [
    {
     "data": {
      "text/plain": [
       "array([1, 1, 1, ..., 1, 0, 0])"
      ]
     },
     "execution_count": 39,
     "metadata": {},
     "output_type": "execute_result"
    }
   ],
   "source": [
    "all_preds.cpu().numpy()"
   ]
  },
  {
   "cell_type": "code",
   "execution_count": 40,
   "metadata": {},
   "outputs": [
    {
     "data": {
      "image/png": "[encoded data removed]",
      "text/plain": [
       "<Figure size 800x800 with 1 Axes>"
      ]
     },
     "metadata": {},
     "output_type": "display_data"
    }
   ],
   "source": [
    "from sklearn.metrics import roc_curve, auc\n",
    "fpr, tpr, _ = roc_curve(all_targets.cpu().numpy(), np.array(pdFas[1].tolist()))\n",
    "\n",
    "#ROC AUC\n",
    "roc_auc = auc(fpr, tpr)\n",
    "\n",
    "\n",
    "plt.figure(figsize=(8, 8))\n",
    "plt.plot(fpr, tpr, color='b', label=f'ROC Curve (AUC = {roc_auc:.2f})')\n",
    "plt.plot([0, 1], [0, 1], linestyle='--', color='gray', label='Random')\n",
    "plt.xlabel('False Positive Rate')\n",
    "plt.ylabel('True Positive Rate')\n",
    "plt.title('Receiver Operating Characteristic (ROC) Curve')\n",
    "plt.legend()\n",
    "plt.show()"
   ]
  },
  {
   "cell_type": "code",
   "execution_count": 41,
   "metadata": {},
   "outputs": [
    {
     "name": "stdout",
     "output_type": "stream",
     "text": [
      "MulticlassConfusionMatrix()\n"
     ]
    },
    {
     "data": {
      "image/png": "[encoded data removed]",
      "text/plain": [
       "<Figure size 1000x500 with 2 Axes>"
      ]
     },
     "metadata": {},
     "output_type": "display_data"
    }
   ],
   "source": [
    "#confusion matrix\n",
    "        \n",
    "confusion_matrix_tb = ConfusionMatrix(num_classes=2, task='multiclass')\n",
    "confusion_matrix_tb(all_preds.cpu(), all_targets.cpu())\n",
    "\n",
    "print(confusion_matrix_tb)\n",
    "\n",
    "computed_confusion = confusion_matrix_tb.compute().detach().cpu().numpy().astype(int)\n",
    "\n",
    "df_cm = pd.DataFrame(\n",
    "    computed_confusion,\n",
    ")\n",
    "\n",
    "fig, ax = plt.subplots(figsize=(10, 5))\n",
    "fig.subplots_adjust(left=0.05, right=.65)\n",
    "sns.set(font_scale=1.2)\n",
    "sns.heatmap(df_cm, annot=True, annot_kws={\"size\": 16}, fmt='d', ax=ax)\n",
    "ax.set_xlabel('Predicted labels')\n",
    "plt.show()\n",
    "\n",
    "\n"
   ]
  },
  {
   "cell_type": "code",
   "execution_count": 42,
   "metadata": {},
   "outputs": [
    {
     "data": {
      "text/plain": [
       "tensor(0.9295)"
      ]
     },
     "execution_count": 42,
     "metadata": {},
     "output_type": "execute_result"
    }
   ],
   "source": [
    "f1(all_preds.cpu(), all_targets.cpu())"
   ]
  },
  {
   "cell_type": "code",
   "execution_count": 43,
   "metadata": {},
   "outputs": [],
   "source": [
    "pdF = pd.DataFrame(all_preds.tolist(), all_targets.tolist())"
   ]
  },
  {
   "cell_type": "code",
   "execution_count": 44,
   "metadata": {},
   "outputs": [],
   "source": [
    "pdF.to_csv('preds.csv')"
   ]
  },
  {
   "cell_type": "code",
   "execution_count": 45,
   "metadata": {},
   "outputs": [
    {
     "data": {
      "image/png": "[encoded data removed]",
      "text/plain": [
       "<Figure size 640x480 with 1 Axes>"
      ]
     },
     "metadata": {},
     "output_type": "display_data"
    }
   ],
   "source": [
    "#Precision Recall Curve\n",
    "precision, recall, thresholds = precision_recall_curve(all_targets.cpu(), all_preds.cpu())\n",
    "plt.figure()\n",
    "plt.plot(recall, precision, color='blue', lw=2)\n",
    "plt.xlim([0.0, 1.0])\n",
    "plt.ylim([0.0, 1.05])\n",
    "plt.xlabel('Recall')\n",
    "plt.ylabel('Precision')\n",
    "plt.title(f'Precision vs Recall')\n",
    "plt.show()"
   ]
  },
  {
   "cell_type": "code",
   "execution_count": 46,
   "metadata": {},
   "outputs": [
    {
     "data": {
      "image/png": "[encoded data removed]",
      "text/plain": [
       "<Figure size 1000x500 with 1 Axes>"
      ]
     },
     "metadata": {},
     "output_type": "display_data"
    }
   ],
   "source": [
    "import matplotlib.pyplot as plt\n",
    "\n",
    "#Train and Validation loss\n",
    "epochs = list(range(1, len(pl_model.train_losses) + 1))\n",
    "\n",
    "plt.figure(figsize=(10, 5))\n",
    "plt.plot(epochs, pl_model.train_losses, label='Train Loss', marker='o')\n",
    "plt.plot(epochs, pl_model.val_losses, label='Validation Loss', marker='o')\n",
    "plt.xlabel('Época')\n",
    "plt.ylabel('Loss')\n",
    "plt.title('Loss vs. Época')\n",
    "plt.legend()\n",
    "plt.grid(True)\n",
    "plt.show()\n"
   ]
  },
  {
   "cell_type": "code",
   "execution_count": null,
   "metadata": {},
   "outputs": [],
   "source": []
  }
 ],
 "metadata": {
  "kernelspec": {
   "display_name": "coEnv",
   "language": "python",
   "name": "python3"
  },
  "language_info": {
   "codemirror_mode": {
    "name": "ipython",
    "version": 3
   },
   "file_extension": ".py",
   "mimetype": "text/x-python",
   "name": "python",
   "nbconvert_exporter": "python",
   "pygments_lexer": "ipython3",
   "version": "3.9.16"
  },
  "orig_nbformat": 4
 },
 "nbformat": 4,
 "nbformat_minor": 2
}
